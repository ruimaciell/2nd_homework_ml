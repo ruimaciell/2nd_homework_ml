{
 "cells": [
  {
   "cell_type": "code",
   "execution_count": 2,
   "metadata": {
    "vscode": {
     "languageId": "r"
    }
   },
   "outputs": [
    {
     "name": "stderr",
     "output_type": "stream",
     "text": [
      "-- \u001b[1mAttaching core tidyverse packages\u001b[22m ------------------------ tidyverse 2.0.0 --\n",
      "\u001b[32mv\u001b[39m \u001b[34mforcats  \u001b[39m 1.0.0     \u001b[32mv\u001b[39m \u001b[34mreadr    \u001b[39m 2.1.5\n",
      "\u001b[32mv\u001b[39m \u001b[34mggplot2  \u001b[39m 3.5.0     \u001b[32mv\u001b[39m \u001b[34mstringr  \u001b[39m 1.5.1\n",
      "\u001b[32mv\u001b[39m \u001b[34mlubridate\u001b[39m 1.9.3     \u001b[32mv\u001b[39m \u001b[34mtibble   \u001b[39m 3.2.1\n",
      "\u001b[32mv\u001b[39m \u001b[34mpurrr    \u001b[39m 1.0.2     \u001b[32mv\u001b[39m \u001b[34mtidyr    \u001b[39m 1.3.1\n",
      "-- \u001b[1mConflicts\u001b[22m ------------------------------------------ tidyverse_conflicts() --\n",
      "\u001b[31mx\u001b[39m \u001b[34mdplyr\u001b[39m::\u001b[32mfilter()\u001b[39m masks \u001b[34mstats\u001b[39m::filter()\n",
      "\u001b[31mx\u001b[39m \u001b[34mdplyr\u001b[39m::\u001b[32mlag()\u001b[39m    masks \u001b[34mstats\u001b[39m::lag()\n",
      "\u001b[36mi\u001b[39m Use the conflicted package (\u001b[3m\u001b[34m<http://conflicted.r-lib.org/>\u001b[39m\u001b[23m) to force all conflicts to become errors\n",
      "Loading required package: zoo\n",
      "\n",
      "\n",
      "Attaching package: 'zoo'\n",
      "\n",
      "\n",
      "The following objects are masked from 'package:base':\n",
      "\n",
      "    as.Date, as.Date.numeric\n",
      "\n",
      "\n",
      "\n",
      "######################### Warning from 'xts' package ##########################\n",
      "#                                                                             #\n",
      "# The dplyr lag() function breaks how base R's lag() function is supposed to  #\n",
      "# work, which breaks lag(my_xts). Calls to lag(my_xts) that you type or       #\n",
      "# source() into this session won't work correctly.                            #\n",
      "#                                                                             #\n",
      "# Use stats::lag() to make sure you're not using dplyr::lag(), or you can add #\n",
      "# conflictRules('dplyr', exclude = 'lag') to your .Rprofile to stop           #\n",
      "# dplyr from breaking base R's lag() function.                                #\n",
      "#                                                                             #\n",
      "# Code in packages is not affected. It's protected by R's namespace mechanism #\n",
      "# Set `options(xts.warn_dplyr_breaks_lag = FALSE)` to suppress this warning.  #\n",
      "#                                                                             #\n",
      "###############################################################################\n",
      "\n",
      "\n",
      "Attaching package: 'xts'\n",
      "\n",
      "\n",
      "The following objects are masked from 'package:dplyr':\n",
      "\n",
      "    first, last\n",
      "\n",
      "\n"
     ]
    },
    {
     "data": {
      "text/html": [
       "'/Users/andrewbennett/Documents/bse/term3/finance_ml/trading_algorithms'"
      ],
      "text/latex": [
       "'/Users/andrewbennett/Documents/bse/term3/finance\\_ml/trading\\_algorithms'"
      ],
      "text/markdown": [
       "'/Users/andrewbennett/Documents/bse/term3/finance_ml/trading_algorithms'"
      ],
      "text/plain": [
       "[1] \"/Users/andrewbennett/Documents/bse/term3/finance_ml/trading_algorithms\""
      ]
     },
     "metadata": {},
     "output_type": "display_data"
    },
    {
     "name": "stdout",
     "output_type": "stream",
     "text": [
      "List of 3\n",
      " $ adjusted:An xts object on 2014-12-31 / 2020-06-09 containing: \n",
      "  Data:    double [1369, 15]\n",
      "  Columns: AAPL, ABBV, AMZN, DB, DIS ... with 10 more columns\n",
      "  Index:   Date [1369] (TZ: \"UTC\")\n",
      "  xts Attributes:\n",
      "  ..   $ na.action: 'omit' int 991\n",
      "  .. ..- attr(*, \"index\")= num 1.54e+09\n",
      " $ BBr     :An xts object on 2015-01-02 / 2020-06-09 containing: \n",
      "  Data:    double [1369, 15]\n",
      "  Columns: AAPL, ABBV, AMZN, DB, DIS ... with 10 more columns\n",
      "  Index:   Date [1369] (TZ: \"UTC\")\n",
      "  xts Attributes:\n",
      "  ..   $ na.action: 'omit' int 1\n",
      "  .. ..- attr(*, \"index\")= num 1.42e+09\n",
      " $ PNlog   :An xts object on 2015-01-02 / 2020-06-09 containing: \n",
      "  Data:    double [1369, 15]\n",
      "  Columns: AAPL, ABBV, AMZN, DB, DIS ... with 10 more columns\n",
      "  Index:   Date [1369] (TZ: \"UTC\")\n",
      "  xts Attributes:\n",
      "  ..   $ na.action: 'omit' int 1\n",
      "  .. ..- attr(*, \"index\")= num 1.42e+09\n"
     ]
    }
   ],
   "source": [
    "library(tidyverse)\n",
    "library(xts)\n",
    "\n",
    "getwd()\n",
    "\n",
    "data_path <- \"dataset.rds\"\n",
    "\n",
    "# Attempt to read the RDS file again\n",
    "data <- readRDS(data_path)\n",
    "\n",
    "# Check the structure of the data to ensure it's a dataframe\n",
    "str(data)\n",
    "  \n",
    "for (i in names(data)) {\n",
    "  # Extract the xts object\n",
    "  data_xts <- data[[i]]\n",
    "  \n",
    "  # Convert the index to a column at the beginning of the dataframe\n",
    "  data_df <- as.data.frame(data_xts)\n",
    "  data_df$Date <- index(data_xts)  # Add the date as the last column temporarily\n",
    "  \n",
    "  # Move the Date column to the first position\n",
    "  data_df <- data_df[, c(ncol(data_df), 1:(ncol(data_df)-1))]\n",
    "  \n",
    "  # Write to CSV, ensuring date column is included at the beginning\n",
    "  write_csv(data_df, sprintf(\"lec8_data/%s.csv\", i))\n",
    "}"
   ]
  },
  {
   "cell_type": "code",
   "execution_count": null,
   "metadata": {
    "vscode": {
     "languageId": "r"
    }
   },
   "outputs": [],
   "source": []
  }
 ],
 "metadata": {
  "kernelspec": {
   "display_name": "R",
   "language": "R",
   "name": "ir"
  },
  "language_info": {
   "codemirror_mode": "r",
   "file_extension": ".r",
   "mimetype": "text/x-r-source",
   "name": "R",
   "pygments_lexer": "r",
   "version": "4.3.2"
  },
  "orig_nbformat": 4
 },
 "nbformat": 4,
 "nbformat_minor": 2
}
