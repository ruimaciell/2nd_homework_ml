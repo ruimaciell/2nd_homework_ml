{
 "cells": [
  {
   "cell_type": "markdown",
   "metadata": {},
   "source": [
    "# Machine Learning for Finance - Homework 2\n"
   ]
  },
  {
   "cell_type": "code",
   "execution_count": 1685,
   "metadata": {},
   "outputs": [],
   "source": [
    "import pandas as pd\n",
    "import numpy as np\n",
    "import pickle\n",
    "import seaborn as sns\n",
    "import altair as alt\n",
    "\n",
    "alt.data_transformers.disable_max_rows()\n",
    "\n",
    "import matplotlib.pyplot as plt\n",
    "import cvxpy as cp\n",
    "from scipy.cluster.hierarchy import fcluster\n",
    "import scipy.linalg as la\n",
    "from numpy.linalg import solve, norm\n",
    "from statsmodels.stats.correlation_tools import cov_nearest\n",
    "\n",
    "seed = 4"
   ]
  },
  {
   "cell_type": "code",
   "execution_count": 1686,
   "metadata": {},
   "outputs": [],
   "source": [
    "# define functions \n",
    "\n",
    "def log_return(df):\n",
    "    \"\"\"Given dataframe, return its first order log return\"\"\"\n",
    "    return np.log(df).diff().drop(index=df.index[0], axis=0, inplace=False)\n",
    "\n",
    "\n",
    "def na_fill(df):\n",
    "    # Simulates `na.fill(as.xts(rowAvgs(df),order.by=index(df)),\"extend\")`\n",
    "    return df.interpolate(method=\"linear\").fillna(method=\"bfill\")\n",
    "\n",
    "\n",
    "def create_index(df):\n",
    "    # the linear method already does ffill for the tail values\n",
    "    return na_fill(df.mean(axis=1, skipna=False))\n",
    "\n",
    "def is_pos_def(x, epsilon):\n",
    "    return np.all(np.linalg.eigvals(x) > epsilon)\n",
    "\n",
    "def cov2cor(df):\n",
    "    # convert covariance matrix to correlation matrix by dividing by the outer product of the standard deviations\n",
    "    # this is equivalent to multiplying by the inverse of the diagonal matrix of standard deviations\n",
    "    ind = df.index\n",
    "    col = df.columns\n",
    "    sigma = np.sqrt(np.diag(df))\n",
    "    return df.div(pd.DataFrame(np.outer(sigma, sigma), index=ind, columns=col))\n",
    "\n",
    "def clusterplot(cov, ncluster=6):\n",
    "    # plot the correlation matrix with a dendrogram correlation matrix of the clusters\n",
    "    sns.set(style='white')\n",
    "    sns_plot = sns.clustermap(cov2cor(cov), cmap='vlag_r', robust=True, method=\"complete\", vmin=-1, vmax=1)\n",
    "    plt.setp(sns_plot.ax_heatmap.yaxis.get_majorticklabels(), color='red')\n",
    "    plt.setp(sns_plot.ax_heatmap.xaxis.get_majorticklabels(), color='red')\n",
    "    plt.title(\"Correlation\")\n",
    "\n",
    "    Z = sns_plot.dendrogram_row.linkage\n",
    "    clusters = list(fcluster(Z, ncluster, criterion='maxclust'))\n",
    "    assign_cluster = dict((k, clusters[k]) for k in range(len(cov.columns)))\n",
    "    assigned_idx = [assign_cluster[idx] for idx in sns_plot.dendrogram_row.reordered_ind]\n",
    "    i = 0\n",
    "    while i < len(assigned_idx):\n",
    "        cluster = assigned_idx[i]\n",
    "        counter = 0\n",
    "        while i < len(assigned_idx) and assigned_idx[i] == cluster:\n",
    "            counter += 1\n",
    "            i += 1\n",
    "        sns_plot.ax_heatmap.add_patch(plt.Rectangle(\n",
    "            xy=(i-counter, i-counter),\n",
    "            width=counter,\n",
    "            height=counter,\n",
    "            fill=None, color='black', lw=1.5\n",
    "        ))\n",
    "    plt.show()\n",
    "\n",
    "\n",
    "# Function to calculate Robust (ellipsoid) Global Maximum Return Portfolio\n",
    "def portfolioMaxReturnRobustEllipsoid(mu_hat, S, kappa=0.1):\n",
    "    mu_hat = np.array(mu_hat)\n",
    "    S12 = la.cholesky(S)  # S12.T @ S12 = Sigma\n",
    "    w = cp.Variable(len(mu_hat))\n",
    "    prob = cp.Problem(cp.Maximize(mu_hat @ w - kappa * cp.norm(S12 @ w, p=2)), constraints=[w >= 0, sum(w) == 1])\n",
    "    result = prob.solve()\n",
    "    return w.value"
   ]
  },
  {
   "cell_type": "markdown",
   "metadata": {},
   "source": [
    "# Exercise 2\n",
    "The stocks chosen for analysis were 'AAPL', 'ABBV', 'AMZN', 'DB', 'DIS', 'FB', 'GOOG', 'HAL', 'HSBC'.\n",
    "\n",
    "The dataframe is from 2015-01-01 to 2016-12-31."
   ]
  },
  {
   "cell_type": "code",
   "execution_count": 1687,
   "metadata": {},
   "outputs": [],
   "source": [
    "begin_date = \"2015-01-01\"  # \"2015-01-01\" # not including\n",
    "end_date = \"2016-12-31\" #\"2019-12-20\" #\"2017-12-31\" # including\n",
    "\n",
    "adjusted_data = pd.read_csv('rds_data/adjusted.csv')\n",
    "BBr_data = pd.read_csv('rds_data/BBr.csv')\n",
    "PNlog_data = pd.read_csv('rds_data/PNlog.csv')"
   ]
  },
  {
   "cell_type": "code",
   "execution_count": 1688,
   "metadata": {},
   "outputs": [],
   "source": [
    "# convert the 'Date' column to datetime\n",
    "adjusted_data['Date'] = pd.to_datetime(adjusted_data['Date'])   \n",
    "BBr_data['Date'] = pd.to_datetime(BBr_data['Date'])\n",
    "PNlog_data['Date'] = pd.to_datetime(PNlog_data['Date'])\n",
    "\n",
    "# set index to Date\n",
    "adjusted_data.set_index('Date', inplace=True)\n",
    "BBr_data.set_index('Date', inplace=True)\n",
    "PNlog_data.set_index('Date', inplace=True)\n",
    "\n",
    "# take only first 9 columns \n",
    "adjusted_data = adjusted_data.iloc[:, :9]\n",
    "BBr_data = BBr_data.iloc[:, :9]\n",
    "PNlog_data = PNlog_data.iloc[:, :9]"
   ]
  },
  {
   "cell_type": "code",
   "execution_count": 1689,
   "metadata": {},
   "outputs": [],
   "source": [
    "fama_lib = pd.read_csv(\"data/F-F_Research_Data_Factors_daily.CSV\", skiprows=4, skipfooter=1, index_col=0, engine='python')\n",
    "fama_lib.index = pd.to_datetime(fama_lib.index, format=\"%Y%m%d\")\n",
    "fama_lib = fama_lib.iloc[:, 0:3] # We only use the first 3 columns"
   ]
  },
  {
   "cell_type": "markdown",
   "metadata": {},
   "source": [
    "Preprocess the data"
   ]
  },
  {
   "cell_type": "code",
   "execution_count": 1690,
   "metadata": {},
   "outputs": [
    {
     "name": "stderr",
     "output_type": "stream",
     "text": [
      "/var/folders/n4/wdz2gxc13wl6m46by5g242kh0000gn/T/ipykernel_18271/3988679768.py:10: FutureWarning: Series.fillna with 'method' is deprecated and will raise in a future version. Use obj.ffill() or obj.bfill() instead.\n",
      "  return df.interpolate(method=\"linear\").fillna(method=\"bfill\")\n",
      "/var/folders/n4/wdz2gxc13wl6m46by5g242kh0000gn/T/ipykernel_18271/3988679768.py:10: FutureWarning: Series.fillna with 'method' is deprecated and will raise in a future version. Use obj.ffill() or obj.bfill() instead.\n",
      "  return df.interpolate(method=\"linear\").fillna(method=\"bfill\")\n",
      "/var/folders/n4/wdz2gxc13wl6m46by5g242kh0000gn/T/ipykernel_18271/3988679768.py:10: FutureWarning: DataFrame.fillna with 'method' is deprecated and will raise in a future version. Use obj.ffill() or obj.bfill() instead.\n",
      "  return df.interpolate(method=\"linear\").fillna(method=\"bfill\")\n"
     ]
    }
   ],
   "source": [
    "\n",
    "stockPrices = adjusted_data.truncate(\n",
    "    before=begin_date,\n",
    "    after=end_date\n",
    ")\n",
    "X = log_return(stockPrices)\n",
    "T, N = X.shape  # nrow and ncol\n",
    "\n",
    "F_FamaFrench = fama_lib.loc[X.index]/100   # Fama-French factors\n",
    "BBrMkt = create_index(BBr_data)/100  # BBr Market index\n",
    "PNlogMkt = create_index(PNlog_data)  # PNlog Market index\n",
    "SentIndx = PNlogMkt.loc[X.index]           # Sentiment index\n",
    "\n",
    "\n",
    "# FamaFrench + Sent index\n",
    "FFS = na_fill(pd.merge(\n",
    "    fama_lib.loc[X.index], SentIndx.rename(\"SentIndx\"),\n",
    "    left_index=True, right_index=True\n",
    "))\n"
   ]
  },
  {
   "cell_type": "markdown",
   "metadata": {},
   "source": [
    "Train test split"
   ]
  },
  {
   "cell_type": "code",
   "execution_count": 1691,
   "metadata": {},
   "outputs": [],
   "source": [
    "# split data into training and test data\n",
    "T_trn = round(0.5*T)\n",
    "X_trn = X.iloc[0:T_trn, ]\n",
    "X_tst = X.iloc[T_trn:T, ]\n",
    "F_FamaFrench_trn = F_FamaFrench.iloc[0:T_trn, ]\n",
    "F_FamaFrench_tst = F_FamaFrench.iloc[T_trn:T, ]\n",
    "SentIndx_trn = SentIndx.iloc[0:T_trn,]\n",
    "SentIndx_tst = SentIndx.iloc[T_trn:T,]\n",
    "FFS_trn = FFS.iloc[0:T_trn,]\n",
    "FFS_tst = FFS.iloc[T_trn:T,]"
   ]
  },
  {
   "cell_type": "markdown",
   "metadata": {},
   "source": [
    "###  Fama-French 3-factor model"
   ]
  },
  {
   "cell_type": "code",
   "execution_count": 1692,
   "metadata": {},
   "outputs": [],
   "source": [
    "\n",
    "F = F_FamaFrench_trn.copy()\n",
    "F.insert(0, 'ones', 1)\n",
    "Gamma = pd.DataFrame(solve(F.T @ F, F.T.to_numpy() @ X_trn.to_numpy()).T, columns=[\"alpha\", \"beta1\", \"beta2\", \"beta3\"])\n",
    "alpha = Gamma[\"alpha\"]\n",
    "B = Gamma[[\"beta1\", \"beta2\", \"beta3\"]]\n",
    "E = pd.DataFrame((X_trn.T - Gamma.to_numpy() @ F.to_numpy().T).T, index=X_trn.index)\n",
    "PsiFF = (E.T @ E) / (T_trn - 4)\n",
    "Sigma_FamaFrench = B.to_numpy() @ F_FamaFrench_trn.cov() @ B.to_numpy().T + np.diag(np.diag(PsiFF))"
   ]
  },
  {
   "cell_type": "code",
   "execution_count": 1693,
   "metadata": {},
   "outputs": [
    {
     "data": {
      "text/html": [
       "<div>\n",
       "<style scoped>\n",
       "    .dataframe tbody tr th:only-of-type {\n",
       "        vertical-align: middle;\n",
       "    }\n",
       "\n",
       "    .dataframe tbody tr th {\n",
       "        vertical-align: top;\n",
       "    }\n",
       "\n",
       "    .dataframe thead th {\n",
       "        text-align: right;\n",
       "    }\n",
       "</style>\n",
       "<table border=\"1\" class=\"dataframe\">\n",
       "  <thead>\n",
       "    <tr style=\"text-align: right;\">\n",
       "      <th></th>\n",
       "      <th>AAPL</th>\n",
       "      <th>ABBV</th>\n",
       "      <th>AMZN</th>\n",
       "      <th>DB</th>\n",
       "      <th>DIS</th>\n",
       "      <th>FB</th>\n",
       "      <th>GOOG</th>\n",
       "      <th>HAL</th>\n",
       "      <th>HSBC</th>\n",
       "    </tr>\n",
       "  </thead>\n",
       "  <tbody>\n",
       "    <tr>\n",
       "      <th>AAPL</th>\n",
       "      <td>0.000285</td>\n",
       "      <td>0.000122</td>\n",
       "      <td>0.000137</td>\n",
       "      <td>0.000138</td>\n",
       "      <td>0.000101</td>\n",
       "      <td>0.000126</td>\n",
       "      <td>0.000126</td>\n",
       "      <td>0.000126</td>\n",
       "      <td>0.000093</td>\n",
       "    </tr>\n",
       "    <tr>\n",
       "      <th>ABBV</th>\n",
       "      <td>0.000122</td>\n",
       "      <td>0.000411</td>\n",
       "      <td>0.000132</td>\n",
       "      <td>0.000133</td>\n",
       "      <td>0.000096</td>\n",
       "      <td>0.000128</td>\n",
       "      <td>0.000120</td>\n",
       "      <td>0.000108</td>\n",
       "      <td>0.000085</td>\n",
       "    </tr>\n",
       "    <tr>\n",
       "      <th>AMZN</th>\n",
       "      <td>0.000137</td>\n",
       "      <td>0.000132</td>\n",
       "      <td>0.000442</td>\n",
       "      <td>0.000138</td>\n",
       "      <td>0.000105</td>\n",
       "      <td>0.000138</td>\n",
       "      <td>0.000137</td>\n",
       "      <td>0.000115</td>\n",
       "      <td>0.000093</td>\n",
       "    </tr>\n",
       "    <tr>\n",
       "      <th>DB</th>\n",
       "      <td>0.000138</td>\n",
       "      <td>0.000133</td>\n",
       "      <td>0.000138</td>\n",
       "      <td>0.000404</td>\n",
       "      <td>0.000113</td>\n",
       "      <td>0.000130</td>\n",
       "      <td>0.000129</td>\n",
       "      <td>0.000171</td>\n",
       "      <td>0.000112</td>\n",
       "    </tr>\n",
       "    <tr>\n",
       "      <th>DIS</th>\n",
       "      <td>0.000101</td>\n",
       "      <td>0.000096</td>\n",
       "      <td>0.000105</td>\n",
       "      <td>0.000113</td>\n",
       "      <td>0.000208</td>\n",
       "      <td>0.000098</td>\n",
       "      <td>0.000098</td>\n",
       "      <td>0.000109</td>\n",
       "      <td>0.000076</td>\n",
       "    </tr>\n",
       "    <tr>\n",
       "      <th>FB</th>\n",
       "      <td>0.000126</td>\n",
       "      <td>0.000128</td>\n",
       "      <td>0.000138</td>\n",
       "      <td>0.000130</td>\n",
       "      <td>0.000098</td>\n",
       "      <td>0.000266</td>\n",
       "      <td>0.000126</td>\n",
       "      <td>0.000106</td>\n",
       "      <td>0.000086</td>\n",
       "    </tr>\n",
       "    <tr>\n",
       "      <th>GOOG</th>\n",
       "      <td>0.000126</td>\n",
       "      <td>0.000120</td>\n",
       "      <td>0.000137</td>\n",
       "      <td>0.000129</td>\n",
       "      <td>0.000098</td>\n",
       "      <td>0.000126</td>\n",
       "      <td>0.000332</td>\n",
       "      <td>0.000111</td>\n",
       "      <td>0.000087</td>\n",
       "    </tr>\n",
       "    <tr>\n",
       "      <th>HAL</th>\n",
       "      <td>0.000126</td>\n",
       "      <td>0.000108</td>\n",
       "      <td>0.000115</td>\n",
       "      <td>0.000171</td>\n",
       "      <td>0.000109</td>\n",
       "      <td>0.000106</td>\n",
       "      <td>0.000111</td>\n",
       "      <td>0.000483</td>\n",
       "      <td>0.000117</td>\n",
       "    </tr>\n",
       "    <tr>\n",
       "      <th>HSBC</th>\n",
       "      <td>0.000093</td>\n",
       "      <td>0.000085</td>\n",
       "      <td>0.000093</td>\n",
       "      <td>0.000112</td>\n",
       "      <td>0.000076</td>\n",
       "      <td>0.000086</td>\n",
       "      <td>0.000087</td>\n",
       "      <td>0.000117</td>\n",
       "      <td>0.000173</td>\n",
       "    </tr>\n",
       "  </tbody>\n",
       "</table>\n",
       "</div>"
      ],
      "text/plain": [
       "          AAPL      ABBV      AMZN        DB       DIS        FB      GOOG  \\\n",
       "AAPL  0.000285  0.000122  0.000137  0.000138  0.000101  0.000126  0.000126   \n",
       "ABBV  0.000122  0.000411  0.000132  0.000133  0.000096  0.000128  0.000120   \n",
       "AMZN  0.000137  0.000132  0.000442  0.000138  0.000105  0.000138  0.000137   \n",
       "DB    0.000138  0.000133  0.000138  0.000404  0.000113  0.000130  0.000129   \n",
       "DIS   0.000101  0.000096  0.000105  0.000113  0.000208  0.000098  0.000098   \n",
       "FB    0.000126  0.000128  0.000138  0.000130  0.000098  0.000266  0.000126   \n",
       "GOOG  0.000126  0.000120  0.000137  0.000129  0.000098  0.000126  0.000332   \n",
       "HAL   0.000126  0.000108  0.000115  0.000171  0.000109  0.000106  0.000111   \n",
       "HSBC  0.000093  0.000085  0.000093  0.000112  0.000076  0.000086  0.000087   \n",
       "\n",
       "           HAL      HSBC  \n",
       "AAPL  0.000126  0.000093  \n",
       "ABBV  0.000108  0.000085  \n",
       "AMZN  0.000115  0.000093  \n",
       "DB    0.000171  0.000112  \n",
       "DIS   0.000109  0.000076  \n",
       "FB    0.000106  0.000086  \n",
       "GOOG  0.000111  0.000087  \n",
       "HAL   0.000483  0.000117  \n",
       "HSBC  0.000117  0.000173  "
      ]
     },
     "execution_count": 1693,
     "metadata": {},
     "output_type": "execute_result"
    }
   ],
   "source": [
    "# add stock names to the columns and index \n",
    "Sigma_FamaFrench = pd.DataFrame(Sigma_FamaFrench)\n",
    "Sigma_FamaFrench.columns = X_trn.columns\n",
    "Sigma_FamaFrench.index = X_trn.columns\n",
    "Sigma_FamaFrench"
   ]
  },
  {
   "cell_type": "markdown",
   "metadata": {},
   "source": [
    "The diagonal elements represent the variance of the stock prices. The off-diagonal elements represent the covariance between the stock prices.  The higher the covariance, the more the stock prices move together. The lower the covariance, the more the stock prices move independently. The variance diagonal tells how volatile the stock prices are. "
   ]
  },
  {
   "cell_type": "code",
   "execution_count": 1694,
   "metadata": {},
   "outputs": [
    {
     "data": {
      "text/plain": [
       "Text(0.5, 1.0, 'Covariance matrix of the 3FF model')"
      ]
     },
     "execution_count": 1694,
     "metadata": {},
     "output_type": "execute_result"
    },
    {
     "data": {
      "image/png": "[encoded data removed]",
      "text/plain": [
       "<Figure size 1000x1000 with 2 Axes>"
      ]
     },
     "metadata": {},
     "output_type": "display_data"
    }
   ],
   "source": [
    "# create a matrix of the 3FF model matrix that contains a color scale. \n",
    "\n",
    "plt.figure(figsize=(10, 10))\n",
    "sns.heatmap(Sigma_FamaFrench, cmap='coolwarm', center=0)\n",
    "plt.title(\"Covariance matrix of the 3FF model\")"
   ]
  },
  {
   "cell_type": "markdown",
   "metadata": {},
   "source": [
    "Notably Haliburton seems to have the highest variance. In North America during 2015-2016, the oil and gas industry went through a historic cycle, punctuated by an almost 80 percent decline in the U.S. land rig count. Additionally, a Iranian nuclear deal was made in the same time frame, which led to reduced sanctions on Iranian and OPEC controlled oil. "
   ]
  },
  {
   "cell_type": "code",
   "execution_count": 1695,
   "metadata": {},
   "outputs": [
    {
     "data": {
      "text/plain": [
       "Text(0.5, 1.0, 'Correlation Matrix')"
      ]
     },
     "execution_count": 1695,
     "metadata": {},
     "output_type": "execute_result"
    },
    {
     "data": {
      "image/png": "[encoded data removed]",
      "text/plain": [
       "<Figure size 1000x1000 with 2 Axes>"
      ]
     },
     "metadata": {},
     "output_type": "display_data"
    }
   ],
   "source": [
    "\n",
    "\n",
    "# plot the correlation matrix as a heatmap \n",
    "plt.figure(figsize=(10, 10))\n",
    "sns.heatmap(cov2cor(Sigma_FamaFrench), cmap='vlag_r', robust=True, vmin=-1, vmax=1)\n",
    "plt.title(\"Correlation Matrix\")"
   ]
  },
  {
   "cell_type": "markdown",
   "metadata": {},
   "source": [
    "There is no super significant correlations between the 3FF model matrix. However, Apple seems to have relatively more correlation with all of the other stocks. This could be due to the increase in corporate partnerships and increased velocity of new product releases from APPL over the time frame. "
   ]
  },
  {
   "cell_type": "code",
   "execution_count": 1696,
   "metadata": {},
   "outputs": [
    {
     "data": {
      "text/plain": [
       "<Figure size 1000x800 with 0 Axes>"
      ]
     },
     "metadata": {},
     "output_type": "display_data"
    },
    {
     "data": {
      "image/png": "[encoded data removed]",
      "text/plain": [
       "<Figure size 1000x1000 with 4 Axes>"
      ]
     },
     "metadata": {},
     "output_type": "display_data"
    }
   ],
   "source": [
    "Psi = PsiFF\n",
    "\n",
    "numclust = 6 #5 #3\n",
    "# reduce figure size \n",
    "plt.figure(figsize=(10, 8))\n",
    "clusterplot(Psi, numclust)"
   ]
  },
  {
   "cell_type": "markdown",
   "metadata": {},
   "source": [
    "The cluster of FB AMZN and GOOG seems to have the highest correlation. This follows industry trends such as the Jim Cramer termed FAANG index. Duetsche Bank and HSBC are also highly correlated and makes sense as they are both banks. Cluster plot for PSI of the 3-factor model. PSI is the variance covariance matrix of residuals, where higher values indicate more unexplained volatility."
   ]
  },
  {
   "cell_type": "markdown",
   "metadata": {},
   "source": [
    "### Maximum Robust Ellipsoid (MRE) Analysis"
   ]
  },
  {
   "cell_type": "markdown",
   "metadata": {},
   "source": [
    "Maximum robust ellipsoid (MRE) optimization is a method for finding the ellipsoid that contains the maximum number of points in a dataset. Using a varicance covariance matrix, the MRE can be used to find the ellipsoid that contains the maximum number of points in a dataset while optimizing for the minimum volume. The plane on which the data is contained is the eigenvector of the covariance matrix. The eigenvector with the largest eigenvalue is the direction of the maximum variance. The eigenvector with the smallest eigenvalue is the direction of the minimum variance. \n",
    "\n"
   ]
  },
  {
   "cell_type": "markdown",
   "metadata": {},
   "source": [
    "### Kappa 0.95 \n",
    "In the context of the porfolio maximum robust ellipsoid (MRE) optimization, the Kappa 0.95 is used to measure the tail risk of the portfolio. It acts as a sort of bounding box size of the ellipsoid function. The higher the Kappa the more freedom the MRE has to choose riskier stocks."
   ]
  },
  {
   "cell_type": "code",
   "execution_count": 1697,
   "metadata": {},
   "outputs": [],
   "source": [
    "kappa = 0.95\n",
    "\n",
    "mu = X.mean(axis=0)\n",
    "GMRP_robust_3FF = portfolioMaxReturnRobustEllipsoid(mu, Sigma_FamaFrench, kappa)\n",
    "GMRP_robust_3FF_df = pd.DataFrame(GMRP_robust_3FF)\n",
    "GMRP_robust_3FF_df['stock'] = X_trn.columns\n",
    "GMRP_robust_3FF_df.columns = ['w', 'stock']\n",
    "\n",
    "# Plot the results\n",
    "chart_095_1 = alt.Chart(GMRP_robust_3FF_df).mark_bar(color='blue').encode(\n",
    "    x='stock:N',\n",
    "    y='w:Q'\n",
    ")\n"
   ]
  },
  {
   "cell_type": "markdown",
   "metadata": {},
   "source": [
    "Here we try a robust noisy solution. This creates additional noisy versions of the 3FF matrix which are sampled from a normal distribution. This then is used to acquire more robust estimates of the MRE."
   ]
  },
  {
   "cell_type": "code",
   "execution_count": 1698,
   "metadata": {},
   "outputs": [],
   "source": [
    "# Robust Noisy Solution\n",
    "w_all_GMRP_robust_ellipsoid = np.expand_dims(GMRP_robust_3FF, axis=1)\n",
    "\n",
    "np.random.seed(100)\n",
    "for i in range(6):\n",
    "    X_noisy = pd.DataFrame(np.random.multivariate_normal(mu, Sigma_FamaFrench, size=T))\n",
    "    mu_noisy = X_noisy.mean(axis=0)\n",
    "    Sigma_noisy = X_noisy.cov()\n",
    "    if not is_pos_def(Sigma_noisy, 0.001):\n",
    "      Sigma_noisy = cov_nearest(Sigma_noisy)\n",
    "    w_GMRP_robust_ellipsoid_noisy = portfolioMaxReturnRobustEllipsoid(mu_noisy, Sigma_noisy, kappa)\n",
    "    w_all_GMRP_robust_ellipsoid = np.concatenate((w_all_GMRP_robust_ellipsoid,\n",
    "                                                   np.expand_dims(w_GMRP_robust_ellipsoid_noisy, axis=1)), axis=1)\n",
    "\n",
    "w_all_GMRP_robust_ellipsoid = pd.DataFrame(w_all_GMRP_robust_ellipsoid)\n",
    "w_all_GMRP_robust_ellipsoid[\"stock\"] = X_trn.columns\n",
    "\n",
    "long_w_all_GMRP_robust_ellipsoid = pd.melt(\n",
    "    w_all_GMRP_robust_ellipsoid,\n",
    "    id_vars=['stock'],\n",
    "    var_name='run',\n",
    "    value_name='weight') # melt the dataframe to long format\n",
    "\n",
    "# this chart shows the portfolio weights by stock and noisy run\n",
    "chart_095_2 = alt.Chart(long_w_all_GMRP_robust_ellipsoid).mark_bar(size=10, color='red').encode(\n",
    "    x=alt.X('run:O', axis=None),\n",
    "    y='weight:Q',\n",
    "    column=alt.Column('stock:N', spacing=2)\n",
    ").properties(width=125, title='Portfolilo weight by stock and noisy run')\n",
    "\n",
    "\n",
    "# this chart shows the proportion of portfolio weight by stock\n",
    "chart_095_3=alt.Chart(long_w_all_GMRP_robust_ellipsoid).mark_bar().encode(\n",
    "    x=alt.X('run:O', axis=None),\n",
    "    y=alt.Y('weight:Q', title='% weight'),\n",
    "    color='stock:N',\n",
    "    order=alt.Order('stock', sort='ascending')\n",
    ").properties(width=500, title='Proportion of portfolio weight by stock')"
   ]
  },
  {
   "cell_type": "code",
   "execution_count": 1699,
   "metadata": {},
   "outputs": [
    {
     "name": "stderr",
     "output_type": "stream",
     "text": [
      "/opt/anaconda3/lib/python3.11/site-packages/altair/utils/core.py:395: FutureWarning: the convert_dtype parameter is deprecated and will be removed in a future version.  Do ``ser.astype(object).apply()`` instead if you want ``convert_dtype=False``.\n",
      "  col = df[col_name].apply(to_list_if_array, convert_dtype=False)\n"
     ]
    },
    {
     "data": {
      "text/html": [
       "\n",
       "<style>\n",
       "  #altair-viz-873e2f908fa046dabcab2cb858b25965.vega-embed {\n",
       "    width: 100%;\n",
       "    display: flex;\n",
       "  }\n",
       "\n",
       "  #altair-viz-873e2f908fa046dabcab2cb858b25965.vega-embed details,\n",
       "  #altair-viz-873e2f908fa046dabcab2cb858b25965.vega-embed details summary {\n",
       "    position: relative;\n",
       "  }\n",
       "</style>\n",
       "<div id=\"altair-viz-873e2f908fa046dabcab2cb858b25965\"></div>\n",
       "<script type=\"text/javascript\">\n",
       "  var VEGA_DEBUG = (typeof VEGA_DEBUG == \"undefined\") ? {} : VEGA_DEBUG;\n",
       "  (function(spec, embedOpt){\n",
       "    let outputDiv = document.currentScript.previousElementSibling;\n",
       "    if (outputDiv.id !== \"altair-viz-873e2f908fa046dabcab2cb858b25965\") {\n",
       "      outputDiv = document.getElementById(\"altair-viz-873e2f908fa046dabcab2cb858b25965\");\n",
       "    }\n",
       "    const paths = {\n",
       "      \"vega\": \"https://cdn.jsdelivr.net/npm/vega@5?noext\",\n",
       "      \"vega-lib\": \"https://cdn.jsdelivr.net/npm/vega-lib?noext\",\n",
       "      \"vega-lite\": \"https://cdn.jsdelivr.net/npm/vega-lite@5.8.0?noext\",\n",
       "      \"vega-embed\": \"https://cdn.jsdelivr.net/npm/vega-embed@6?noext\",\n",
       "    };\n",
       "\n",
       "    function maybeLoadScript(lib, version) {\n",
       "      var key = `${lib.replace(\"-\", \"\")}_version`;\n",
       "      return (VEGA_DEBUG[key] == version) ?\n",
       "        Promise.resolve(paths[lib]) :\n",
       "        new Promise(function(resolve, reject) {\n",
       "          var s = document.createElement('script');\n",
       "          document.getElementsByTagName(\"head\")[0].appendChild(s);\n",
       "          s.async = true;\n",
       "          s.onload = () => {\n",
       "            VEGA_DEBUG[key] = version;\n",
       "            return resolve(paths[lib]);\n",
       "          };\n",
       "          s.onerror = () => reject(`Error loading script: ${paths[lib]}`);\n",
       "          s.src = paths[lib];\n",
       "        });\n",
       "    }\n",
       "\n",
       "    function showError(err) {\n",
       "      outputDiv.innerHTML = `<div class=\"error\" style=\"color:red;\">${err}</div>`;\n",
       "      throw err;\n",
       "    }\n",
       "\n",
       "    function displayChart(vegaEmbed) {\n",
       "      vegaEmbed(outputDiv, spec, embedOpt)\n",
       "        .catch(err => showError(`Javascript Error: ${err.message}<br>This usually means there's a typo in your chart specification. See the javascript console for the full traceback.`));\n",
       "    }\n",
       "\n",
       "    if(typeof define === \"function\" && define.amd) {\n",
       "      requirejs.config({paths});\n",
       "      require([\"vega-embed\"], displayChart, err => showError(`Error loading script: ${err.message}`));\n",
       "    } else {\n",
       "      maybeLoadScript(\"vega\", \"5\")\n",
       "        .then(() => maybeLoadScript(\"vega-lite\", \"5.8.0\"))\n",
       "        .then(() => maybeLoadScript(\"vega-embed\", \"6\"))\n",
       "        .catch(showError)\n",
       "        .then(() => displayChart(vegaEmbed));\n",
       "    }\n",
       "  })({\"config\": {\"view\": {\"continuousWidth\": 300, \"continuousHeight\": 300}}, \"data\": {\"name\": \"data-5cfec92e45246a9f91a343a70f6c068a\"}, \"mark\": {\"type\": \"bar\", \"color\": \"blue\"}, \"encoding\": {\"x\": {\"field\": \"stock\", \"type\": \"nominal\"}, \"y\": {\"field\": \"w\", \"type\": \"quantitative\"}}, \"$schema\": \"https://vega.github.io/schema/vega-lite/v5.8.0.json\", \"datasets\": {\"data-5cfec92e45246a9f91a343a70f6c068a\": [{\"w\": 0.05261634635294933, \"stock\": \"AAPL\"}, {\"w\": 0.0409045314007551, \"stock\": \"ABBV\"}, {\"w\": 0.07306783572300085, \"stock\": \"AMZN\"}, {\"w\": 3.4213437207949343e-09, \"stock\": \"DB\"}, {\"w\": 0.24561722771161176, \"stock\": \"DIS\"}, {\"w\": 0.1321621855954625, \"stock\": \"FB\"}, {\"w\": 0.08876811465697766, \"stock\": \"GOOG\"}, {\"w\": 0.028564710784608982, \"stock\": \"HAL\"}, {\"w\": 0.33829904435329006, \"stock\": \"HSBC\"}]}}, {\"mode\": \"vega-lite\"});\n",
       "</script>"
      ],
      "text/plain": [
       "alt.Chart(...)"
      ]
     },
     "execution_count": 1699,
     "metadata": {},
     "output_type": "execute_result"
    }
   ],
   "source": [
    "chart_095_1"
   ]
  },
  {
   "cell_type": "markdown",
   "metadata": {},
   "source": [
    "The 3FF model recommends that we invest in HSBC and DIS the most heavily. This makes sense because there was still ongoing recovery from the financial crisis, and safer more stable companies that provided inherit value and consistent returns to the stockholder are more attractive to the shareholders. "
   ]
  },
  {
   "cell_type": "code",
   "execution_count": 1700,
   "metadata": {},
   "outputs": [
    {
     "name": "stderr",
     "output_type": "stream",
     "text": [
      "/opt/anaconda3/lib/python3.11/site-packages/altair/utils/core.py:395: FutureWarning: the convert_dtype parameter is deprecated and will be removed in a future version.  Do ``ser.astype(object).apply()`` instead if you want ``convert_dtype=False``.\n",
      "  col = df[col_name].apply(to_list_if_array, convert_dtype=False)\n",
      "/opt/anaconda3/lib/python3.11/site-packages/altair/utils/core.py:395: FutureWarning: the convert_dtype parameter is deprecated and will be removed in a future version.  Do ``ser.astype(object).apply()`` instead if you want ``convert_dtype=False``.\n",
      "  col = df[col_name].apply(to_list_if_array, convert_dtype=False)\n"
     ]
    },
    {
     "data": {
      "text/html": [
       "\n",
       "<style>\n",
       "  #altair-viz-17b6da1ef7ff4a0fb5f804013d4a7195.vega-embed {\n",
       "    width: 100%;\n",
       "    display: flex;\n",
       "  }\n",
       "\n",
       "  #altair-viz-17b6da1ef7ff4a0fb5f804013d4a7195.vega-embed details,\n",
       "  #altair-viz-17b6da1ef7ff4a0fb5f804013d4a7195.vega-embed details summary {\n",
       "    position: relative;\n",
       "  }\n",
       "</style>\n",
       "<div id=\"altair-viz-17b6da1ef7ff4a0fb5f804013d4a7195\"></div>\n",
       "<script type=\"text/javascript\">\n",
       "  var VEGA_DEBUG = (typeof VEGA_DEBUG == \"undefined\") ? {} : VEGA_DEBUG;\n",
       "  (function(spec, embedOpt){\n",
       "    let outputDiv = document.currentScript.previousElementSibling;\n",
       "    if (outputDiv.id !== \"altair-viz-17b6da1ef7ff4a0fb5f804013d4a7195\") {\n",
       "      outputDiv = document.getElementById(\"altair-viz-17b6da1ef7ff4a0fb5f804013d4a7195\");\n",
       "    }\n",
       "    const paths = {\n",
       "      \"vega\": \"https://cdn.jsdelivr.net/npm/vega@5?noext\",\n",
       "      \"vega-lib\": \"https://cdn.jsdelivr.net/npm/vega-lib?noext\",\n",
       "      \"vega-lite\": \"https://cdn.jsdelivr.net/npm/vega-lite@5.8.0?noext\",\n",
       "      \"vega-embed\": \"https://cdn.jsdelivr.net/npm/vega-embed@6?noext\",\n",
       "    };\n",
       "\n",
       "    function maybeLoadScript(lib, version) {\n",
       "      var key = `${lib.replace(\"-\", \"\")}_version`;\n",
       "      return (VEGA_DEBUG[key] == version) ?\n",
       "        Promise.resolve(paths[lib]) :\n",
       "        new Promise(function(resolve, reject) {\n",
       "          var s = document.createElement('script');\n",
       "          document.getElementsByTagName(\"head\")[0].appendChild(s);\n",
       "          s.async = true;\n",
       "          s.onload = () => {\n",
       "            VEGA_DEBUG[key] = version;\n",
       "            return resolve(paths[lib]);\n",
       "          };\n",
       "          s.onerror = () => reject(`Error loading script: ${paths[lib]}`);\n",
       "          s.src = paths[lib];\n",
       "        });\n",
       "    }\n",
       "\n",
       "    function showError(err) {\n",
       "      outputDiv.innerHTML = `<div class=\"error\" style=\"color:red;\">${err}</div>`;\n",
       "      throw err;\n",
       "    }\n",
       "\n",
       "    function displayChart(vegaEmbed) {\n",
       "      vegaEmbed(outputDiv, spec, embedOpt)\n",
       "        .catch(err => showError(`Javascript Error: ${err.message}<br>This usually means there's a typo in your chart specification. See the javascript console for the full traceback.`));\n",
       "    }\n",
       "\n",
       "    if(typeof define === \"function\" && define.amd) {\n",
       "      requirejs.config({paths});\n",
       "      require([\"vega-embed\"], displayChart, err => showError(`Error loading script: ${err.message}`));\n",
       "    } else {\n",
       "      maybeLoadScript(\"vega\", \"5\")\n",
       "        .then(() => maybeLoadScript(\"vega-lite\", \"5.8.0\"))\n",
       "        .then(() => maybeLoadScript(\"vega-embed\", \"6\"))\n",
       "        .catch(showError)\n",
       "        .then(() => displayChart(vegaEmbed));\n",
       "    }\n",
       "  })({\"config\": {\"view\": {\"continuousWidth\": 300, \"continuousHeight\": 300}}, \"data\": {\"name\": \"data-0711a486387355c7a4fda68ba020013b\"}, \"mark\": {\"type\": \"bar\", \"color\": \"red\", \"size\": 10}, \"encoding\": {\"column\": {\"field\": \"stock\", \"spacing\": 2, \"type\": \"nominal\"}, \"x\": {\"axis\": null, \"field\": \"run\", \"type\": \"ordinal\"}, \"y\": {\"field\": \"weight\", \"type\": \"quantitative\"}}, \"title\": \"Portfolilo weight by stock and noisy run\", \"width\": 125, \"$schema\": \"https://vega.github.io/schema/vega-lite/v5.8.0.json\", \"datasets\": {\"data-0711a486387355c7a4fda68ba020013b\": [{\"stock\": \"AAPL\", \"run\": 0, \"weight\": 0.05261634635294933}, {\"stock\": \"ABBV\", \"run\": 0, \"weight\": 0.0409045314007551}, {\"stock\": \"AMZN\", \"run\": 0, \"weight\": 0.07306783572300085}, {\"stock\": \"DB\", \"run\": 0, \"weight\": 3.4213437207949343e-09}, {\"stock\": \"DIS\", \"run\": 0, \"weight\": 0.24561722771161176}, {\"stock\": \"FB\", \"run\": 0, \"weight\": 0.1321621855954625}, {\"stock\": \"GOOG\", \"run\": 0, \"weight\": 0.08876811465697766}, {\"stock\": \"HAL\", \"run\": 0, \"weight\": 0.028564710784608982}, {\"stock\": \"HSBC\", \"run\": 0, \"weight\": 0.33829904435329006}, {\"stock\": \"AAPL\", \"run\": 1, \"weight\": 0.05944692184259886}, {\"stock\": \"ABBV\", \"run\": 1, \"weight\": 0.01580929548519271}, {\"stock\": \"AMZN\", \"run\": 1, \"weight\": 0.05750864650333916}, {\"stock\": \"DB\", \"run\": 1, \"weight\": 1.1239261029332997e-08}, {\"stock\": \"DIS\", \"run\": 1, \"weight\": 0.17528018616213314}, {\"stock\": \"FB\", \"run\": 1, \"weight\": 0.15550750662001425}, {\"stock\": \"GOOG\", \"run\": 1, \"weight\": 0.10130630979187057}, {\"stock\": \"HAL\", \"run\": 1, \"weight\": 0.05850315928153115}, {\"stock\": \"HSBC\", \"run\": 1, \"weight\": 0.37663796307405906}, {\"stock\": \"AAPL\", \"run\": 2, \"weight\": 0.06098233779862689}, {\"stock\": \"ABBV\", \"run\": 2, \"weight\": 0.021652417867573874}, {\"stock\": \"AMZN\", \"run\": 2, \"weight\": 0.059285343181391566}, {\"stock\": \"DB\", \"run\": 2, \"weight\": 1.3920969543584951e-09}, {\"stock\": \"DIS\", \"run\": 2, \"weight\": 0.25128071282631026}, {\"stock\": \"FB\", \"run\": 2, \"weight\": 0.07435989695088392}, {\"stock\": \"GOOG\", \"run\": 2, \"weight\": 0.10722741812316879}, {\"stock\": \"HAL\", \"run\": 2, \"weight\": 0.04826805738812834}, {\"stock\": \"HSBC\", \"run\": 2, \"weight\": 0.3769438144718184}, {\"stock\": \"AAPL\", \"run\": 3, \"weight\": 0.05010598456014451}, {\"stock\": \"ABBV\", \"run\": 3, \"weight\": 0.03153592018649557}, {\"stock\": \"AMZN\", \"run\": 3, \"weight\": 0.026548821180151592}, {\"stock\": \"DB\", \"run\": 3, \"weight\": 3.4458739222647956e-09}, {\"stock\": \"DIS\", \"run\": 3, \"weight\": 0.34941337486445}, {\"stock\": \"FB\", \"run\": 3, \"weight\": 0.0675847726826514}, {\"stock\": \"GOOG\", \"run\": 3, \"weight\": 0.16428800560172857}, {\"stock\": \"HAL\", \"run\": 3, \"weight\": 2.6318443042256307e-07}, {\"stock\": \"HSBC\", \"run\": 3, \"weight\": 0.310522854294072}, {\"stock\": \"AAPL\", \"run\": 4, \"weight\": 1.3002136166361135e-08}, {\"stock\": \"ABBV\", \"run\": 4, \"weight\": 0.08742166786559305}, {\"stock\": \"AMZN\", \"run\": 4, \"weight\": 0.12347380646243827}, {\"stock\": \"DB\", \"run\": 4, \"weight\": 3.265212104360963e-09}, {\"stock\": \"DIS\", \"run\": 4, \"weight\": 0.24490303936187843}, {\"stock\": \"FB\", \"run\": 4, \"weight\": 0.06017054381277462}, {\"stock\": \"GOOG\", \"run\": 4, \"weight\": 0.12255993850013806}, {\"stock\": \"HAL\", \"run\": 4, \"weight\": 0.007684074860310633}, {\"stock\": \"HSBC\", \"run\": 4, \"weight\": 0.3537869128695187}, {\"stock\": \"AAPL\", \"run\": 5, \"weight\": 0.09615149878779013}, {\"stock\": \"ABBV\", \"run\": 5, \"weight\": 0.07495723397570747}, {\"stock\": \"AMZN\", \"run\": 5, \"weight\": 0.11130334027826623}, {\"stock\": \"DB\", \"run\": 5, \"weight\": 2.703199658853692e-08}, {\"stock\": \"DIS\", \"run\": 5, \"weight\": 0.24584798357864243}, {\"stock\": \"FB\", \"run\": 5, \"weight\": 0.05348646368674522}, {\"stock\": \"GOOG\", \"run\": 5, \"weight\": 0.05306661414879337}, {\"stock\": \"HAL\", \"run\": 5, \"weight\": 7.1310561128594995e-09}, {\"stock\": \"HSBC\", \"run\": 5, \"weight\": 0.3651868313810025}, {\"stock\": \"AAPL\", \"run\": 6, \"weight\": 0.08558920657645792}, {\"stock\": \"ABBV\", \"run\": 6, \"weight\": 0.043976918220580474}, {\"stock\": \"AMZN\", \"run\": 6, \"weight\": 0.041975211641130675}, {\"stock\": \"DB\", \"run\": 6, \"weight\": 5.334449805121913e-09}, {\"stock\": \"DIS\", \"run\": 6, \"weight\": 0.23327449945015194}, {\"stock\": \"FB\", \"run\": 6, \"weight\": 0.12906864406736007}, {\"stock\": \"GOOG\", \"run\": 6, \"weight\": 0.06698511880621562}, {\"stock\": \"HAL\", \"run\": 6, \"weight\": 0.01063398178478087}, {\"stock\": \"HSBC\", \"run\": 6, \"weight\": 0.3884964141188727}]}}, {\"mode\": \"vega-lite\"});\n",
       "</script>"
      ],
      "text/plain": [
       "alt.Chart(...)"
      ]
     },
     "execution_count": 1700,
     "metadata": {},
     "output_type": "execute_result"
    }
   ],
   "source": [
    "chart_095_2"
   ]
  },
  {
   "cell_type": "markdown",
   "metadata": {},
   "source": [
    "The chart above shows the MRE ellipsoid for the 3FF model. The weights of the stocks are represented by the bar. We ran the MRE 7 times so there are 7 different weights"
   ]
  },
  {
   "cell_type": "code",
   "execution_count": 1701,
   "metadata": {},
   "outputs": [
    {
     "name": "stderr",
     "output_type": "stream",
     "text": [
      "/opt/anaconda3/lib/python3.11/site-packages/altair/utils/core.py:395: FutureWarning: the convert_dtype parameter is deprecated and will be removed in a future version.  Do ``ser.astype(object).apply()`` instead if you want ``convert_dtype=False``.\n",
      "  col = df[col_name].apply(to_list_if_array, convert_dtype=False)\n",
      "/opt/anaconda3/lib/python3.11/site-packages/altair/utils/core.py:395: FutureWarning: the convert_dtype parameter is deprecated and will be removed in a future version.  Do ``ser.astype(object).apply()`` instead if you want ``convert_dtype=False``.\n",
      "  col = df[col_name].apply(to_list_if_array, convert_dtype=False)\n"
     ]
    },
    {
     "data": {
      "text/html": [
       "\n",
       "<style>\n",
       "  #altair-viz-843f13cb343442679d66b79002f54b83.vega-embed {\n",
       "    width: 100%;\n",
       "    display: flex;\n",
       "  }\n",
       "\n",
       "  #altair-viz-843f13cb343442679d66b79002f54b83.vega-embed details,\n",
       "  #altair-viz-843f13cb343442679d66b79002f54b83.vega-embed details summary {\n",
       "    position: relative;\n",
       "  }\n",
       "</style>\n",
       "<div id=\"altair-viz-843f13cb343442679d66b79002f54b83\"></div>\n",
       "<script type=\"text/javascript\">\n",
       "  var VEGA_DEBUG = (typeof VEGA_DEBUG == \"undefined\") ? {} : VEGA_DEBUG;\n",
       "  (function(spec, embedOpt){\n",
       "    let outputDiv = document.currentScript.previousElementSibling;\n",
       "    if (outputDiv.id !== \"altair-viz-843f13cb343442679d66b79002f54b83\") {\n",
       "      outputDiv = document.getElementById(\"altair-viz-843f13cb343442679d66b79002f54b83\");\n",
       "    }\n",
       "    const paths = {\n",
       "      \"vega\": \"https://cdn.jsdelivr.net/npm/vega@5?noext\",\n",
       "      \"vega-lib\": \"https://cdn.jsdelivr.net/npm/vega-lib?noext\",\n",
       "      \"vega-lite\": \"https://cdn.jsdelivr.net/npm/vega-lite@5.8.0?noext\",\n",
       "      \"vega-embed\": \"https://cdn.jsdelivr.net/npm/vega-embed@6?noext\",\n",
       "    };\n",
       "\n",
       "    function maybeLoadScript(lib, version) {\n",
       "      var key = `${lib.replace(\"-\", \"\")}_version`;\n",
       "      return (VEGA_DEBUG[key] == version) ?\n",
       "        Promise.resolve(paths[lib]) :\n",
       "        new Promise(function(resolve, reject) {\n",
       "          var s = document.createElement('script');\n",
       "          document.getElementsByTagName(\"head\")[0].appendChild(s);\n",
       "          s.async = true;\n",
       "          s.onload = () => {\n",
       "            VEGA_DEBUG[key] = version;\n",
       "            return resolve(paths[lib]);\n",
       "          };\n",
       "          s.onerror = () => reject(`Error loading script: ${paths[lib]}`);\n",
       "          s.src = paths[lib];\n",
       "        });\n",
       "    }\n",
       "\n",
       "    function showError(err) {\n",
       "      outputDiv.innerHTML = `<div class=\"error\" style=\"color:red;\">${err}</div>`;\n",
       "      throw err;\n",
       "    }\n",
       "\n",
       "    function displayChart(vegaEmbed) {\n",
       "      vegaEmbed(outputDiv, spec, embedOpt)\n",
       "        .catch(err => showError(`Javascript Error: ${err.message}<br>This usually means there's a typo in your chart specification. See the javascript console for the full traceback.`));\n",
       "    }\n",
       "\n",
       "    if(typeof define === \"function\" && define.amd) {\n",
       "      requirejs.config({paths});\n",
       "      require([\"vega-embed\"], displayChart, err => showError(`Error loading script: ${err.message}`));\n",
       "    } else {\n",
       "      maybeLoadScript(\"vega\", \"5\")\n",
       "        .then(() => maybeLoadScript(\"vega-lite\", \"5.8.0\"))\n",
       "        .then(() => maybeLoadScript(\"vega-embed\", \"6\"))\n",
       "        .catch(showError)\n",
       "        .then(() => displayChart(vegaEmbed));\n",
       "    }\n",
       "  })({\"config\": {\"view\": {\"continuousWidth\": 300, \"continuousHeight\": 300}}, \"data\": {\"name\": \"data-0711a486387355c7a4fda68ba020013b\"}, \"mark\": {\"type\": \"bar\"}, \"encoding\": {\"color\": {\"field\": \"stock\", \"type\": \"nominal\"}, \"order\": {\"field\": \"stock\", \"sort\": \"ascending\", \"type\": \"nominal\"}, \"x\": {\"axis\": null, \"field\": \"run\", \"type\": \"ordinal\"}, \"y\": {\"field\": \"weight\", \"title\": \"% weight\", \"type\": \"quantitative\"}}, \"title\": \"Proportion of portfolio weight by stock\", \"width\": 500, \"$schema\": \"https://vega.github.io/schema/vega-lite/v5.8.0.json\", \"datasets\": {\"data-0711a486387355c7a4fda68ba020013b\": [{\"stock\": \"AAPL\", \"run\": 0, \"weight\": 0.05261634635294933}, {\"stock\": \"ABBV\", \"run\": 0, \"weight\": 0.0409045314007551}, {\"stock\": \"AMZN\", \"run\": 0, \"weight\": 0.07306783572300085}, {\"stock\": \"DB\", \"run\": 0, \"weight\": 3.4213437207949343e-09}, {\"stock\": \"DIS\", \"run\": 0, \"weight\": 0.24561722771161176}, {\"stock\": \"FB\", \"run\": 0, \"weight\": 0.1321621855954625}, {\"stock\": \"GOOG\", \"run\": 0, \"weight\": 0.08876811465697766}, {\"stock\": \"HAL\", \"run\": 0, \"weight\": 0.028564710784608982}, {\"stock\": \"HSBC\", \"run\": 0, \"weight\": 0.33829904435329006}, {\"stock\": \"AAPL\", \"run\": 1, \"weight\": 0.05944692184259886}, {\"stock\": \"ABBV\", \"run\": 1, \"weight\": 0.01580929548519271}, {\"stock\": \"AMZN\", \"run\": 1, \"weight\": 0.05750864650333916}, {\"stock\": \"DB\", \"run\": 1, \"weight\": 1.1239261029332997e-08}, {\"stock\": \"DIS\", \"run\": 1, \"weight\": 0.17528018616213314}, {\"stock\": \"FB\", \"run\": 1, \"weight\": 0.15550750662001425}, {\"stock\": \"GOOG\", \"run\": 1, \"weight\": 0.10130630979187057}, {\"stock\": \"HAL\", \"run\": 1, \"weight\": 0.05850315928153115}, {\"stock\": \"HSBC\", \"run\": 1, \"weight\": 0.37663796307405906}, {\"stock\": \"AAPL\", \"run\": 2, \"weight\": 0.06098233779862689}, {\"stock\": \"ABBV\", \"run\": 2, \"weight\": 0.021652417867573874}, {\"stock\": \"AMZN\", \"run\": 2, \"weight\": 0.059285343181391566}, {\"stock\": \"DB\", \"run\": 2, \"weight\": 1.3920969543584951e-09}, {\"stock\": \"DIS\", \"run\": 2, \"weight\": 0.25128071282631026}, {\"stock\": \"FB\", \"run\": 2, \"weight\": 0.07435989695088392}, {\"stock\": \"GOOG\", \"run\": 2, \"weight\": 0.10722741812316879}, {\"stock\": \"HAL\", \"run\": 2, \"weight\": 0.04826805738812834}, {\"stock\": \"HSBC\", \"run\": 2, \"weight\": 0.3769438144718184}, {\"stock\": \"AAPL\", \"run\": 3, \"weight\": 0.05010598456014451}, {\"stock\": \"ABBV\", \"run\": 3, \"weight\": 0.03153592018649557}, {\"stock\": \"AMZN\", \"run\": 3, \"weight\": 0.026548821180151592}, {\"stock\": \"DB\", \"run\": 3, \"weight\": 3.4458739222647956e-09}, {\"stock\": \"DIS\", \"run\": 3, \"weight\": 0.34941337486445}, {\"stock\": \"FB\", \"run\": 3, \"weight\": 0.0675847726826514}, {\"stock\": \"GOOG\", \"run\": 3, \"weight\": 0.16428800560172857}, {\"stock\": \"HAL\", \"run\": 3, \"weight\": 2.6318443042256307e-07}, {\"stock\": \"HSBC\", \"run\": 3, \"weight\": 0.310522854294072}, {\"stock\": \"AAPL\", \"run\": 4, \"weight\": 1.3002136166361135e-08}, {\"stock\": \"ABBV\", \"run\": 4, \"weight\": 0.08742166786559305}, {\"stock\": \"AMZN\", \"run\": 4, \"weight\": 0.12347380646243827}, {\"stock\": \"DB\", \"run\": 4, \"weight\": 3.265212104360963e-09}, {\"stock\": \"DIS\", \"run\": 4, \"weight\": 0.24490303936187843}, {\"stock\": \"FB\", \"run\": 4, \"weight\": 0.06017054381277462}, {\"stock\": \"GOOG\", \"run\": 4, \"weight\": 0.12255993850013806}, {\"stock\": \"HAL\", \"run\": 4, \"weight\": 0.007684074860310633}, {\"stock\": \"HSBC\", \"run\": 4, \"weight\": 0.3537869128695187}, {\"stock\": \"AAPL\", \"run\": 5, \"weight\": 0.09615149878779013}, {\"stock\": \"ABBV\", \"run\": 5, \"weight\": 0.07495723397570747}, {\"stock\": \"AMZN\", \"run\": 5, \"weight\": 0.11130334027826623}, {\"stock\": \"DB\", \"run\": 5, \"weight\": 2.703199658853692e-08}, {\"stock\": \"DIS\", \"run\": 5, \"weight\": 0.24584798357864243}, {\"stock\": \"FB\", \"run\": 5, \"weight\": 0.05348646368674522}, {\"stock\": \"GOOG\", \"run\": 5, \"weight\": 0.05306661414879337}, {\"stock\": \"HAL\", \"run\": 5, \"weight\": 7.1310561128594995e-09}, {\"stock\": \"HSBC\", \"run\": 5, \"weight\": 0.3651868313810025}, {\"stock\": \"AAPL\", \"run\": 6, \"weight\": 0.08558920657645792}, {\"stock\": \"ABBV\", \"run\": 6, \"weight\": 0.043976918220580474}, {\"stock\": \"AMZN\", \"run\": 6, \"weight\": 0.041975211641130675}, {\"stock\": \"DB\", \"run\": 6, \"weight\": 5.334449805121913e-09}, {\"stock\": \"DIS\", \"run\": 6, \"weight\": 0.23327449945015194}, {\"stock\": \"FB\", \"run\": 6, \"weight\": 0.12906864406736007}, {\"stock\": \"GOOG\", \"run\": 6, \"weight\": 0.06698511880621562}, {\"stock\": \"HAL\", \"run\": 6, \"weight\": 0.01063398178478087}, {\"stock\": \"HSBC\", \"run\": 6, \"weight\": 0.3884964141188727}]}}, {\"mode\": \"vega-lite\"});\n",
       "</script>"
      ],
      "text/plain": [
       "alt.Chart(...)"
      ]
     },
     "execution_count": 1701,
     "metadata": {},
     "output_type": "execute_result"
    }
   ],
   "source": [
    "chart_095_3"
   ]
  },
  {
   "cell_type": "markdown",
   "metadata": {},
   "source": [
    "Here Disney and HSBC again are most recomended by the MRE analysis of the 3FF model. This is because they are the most stable and have the least tail risk."
   ]
  },
  {
   "cell_type": "markdown",
   "metadata": {},
   "source": [
    "### Kappa 0.7"
   ]
  },
  {
   "cell_type": "code",
   "execution_count": 1702,
   "metadata": {},
   "outputs": [],
   "source": [
    "kappa = 0.7\n",
    "\n",
    "mu = X.mean(axis=0)\n",
    "GMRP_robust_3FF = portfolioMaxReturnRobustEllipsoid(mu, Sigma_FamaFrench, kappa)\n",
    "GMRP_robust_3FF_df = pd.DataFrame(GMRP_robust_3FF)\n",
    "GMRP_robust_3FF_df['stock'] = X_trn.columns\n",
    "GMRP_robust_3FF_df.columns = ['w', 'stock']\n",
    "\n",
    "# Plot the results\n",
    "chart_07_1 = alt.Chart(GMRP_robust_3FF_df).mark_bar(color='blue').encode(\n",
    "    x='stock:N',\n",
    "    y='w:Q'\n",
    ")\n"
   ]
  },
  {
   "cell_type": "code",
   "execution_count": 1703,
   "metadata": {},
   "outputs": [],
   "source": [
    "# Robust Noisy Solution\n",
    "w_all_GMRP_robust_ellipsoid = np.expand_dims(GMRP_robust_3FF, axis=1)\n",
    "\n",
    "np.random.seed(100)\n",
    "for i in range(6):\n",
    "    X_noisy = pd.DataFrame(np.random.multivariate_normal(mu, Sigma_FamaFrench, size=T))\n",
    "    mu_noisy = X_noisy.mean(axis=0)\n",
    "    Sigma_noisy = X_noisy.cov()\n",
    "    if not is_pos_def(Sigma_noisy, 0.001):\n",
    "      Sigma_noisy = cov_nearest(Sigma_noisy)\n",
    "    w_GMRP_robust_ellipsoid_noisy = portfolioMaxReturnRobustEllipsoid(mu_noisy, Sigma_noisy, kappa)\n",
    "    w_all_GMRP_robust_ellipsoid = np.concatenate((w_all_GMRP_robust_ellipsoid,\n",
    "                                                   np.expand_dims(w_GMRP_robust_ellipsoid_noisy, axis=1)), axis=1)\n",
    "\n",
    "w_all_GMRP_robust_ellipsoid = pd.DataFrame(w_all_GMRP_robust_ellipsoid)\n",
    "w_all_GMRP_robust_ellipsoid[\"stock\"] = X_trn.columns\n",
    "\n",
    "long_w_all_GMRP_robust_ellipsoid = pd.melt(\n",
    "    w_all_GMRP_robust_ellipsoid,\n",
    "    id_vars=['stock'],\n",
    "    var_name='run',\n",
    "    value_name='weight') # melt the dataframe to long format\n",
    "\n",
    "# this chart shows the portfolio weights by stock and noisy run\n",
    "chart_07_2 = alt.Chart(long_w_all_GMRP_robust_ellipsoid).mark_bar(size=10, color='red').encode(\n",
    "    x=alt.X('run:O', axis=None),\n",
    "    y='weight:Q',\n",
    "    column=alt.Column('stock:N', spacing=2)\n",
    ").properties(width=125, title='Portfolilo weight by stock and noisy run')\n",
    "\n",
    "\n",
    "# this chart shows the proportion of portfolio weight by stock\n",
    "chart_07_3=alt.Chart(long_w_all_GMRP_robust_ellipsoid).mark_bar().encode(\n",
    "    x=alt.X('run:O', axis=None),\n",
    "    y=alt.Y('weight:Q', title='% weight'),\n",
    "    color='stock:N',\n",
    "    order=alt.Order('stock', sort='ascending')\n",
    ").properties(width=500, title='Proportion of portfolio weight by stock')"
   ]
  },
  {
   "cell_type": "code",
   "execution_count": 1704,
   "metadata": {},
   "outputs": [
    {
     "name": "stderr",
     "output_type": "stream",
     "text": [
      "/opt/anaconda3/lib/python3.11/site-packages/altair/utils/core.py:395: FutureWarning: the convert_dtype parameter is deprecated and will be removed in a future version.  Do ``ser.astype(object).apply()`` instead if you want ``convert_dtype=False``.\n",
      "  col = df[col_name].apply(to_list_if_array, convert_dtype=False)\n"
     ]
    },
    {
     "data": {
      "text/html": [
       "\n",
       "<style>\n",
       "  #altair-viz-a4b4f36f9f0c4dd6930139365175c61e.vega-embed {\n",
       "    width: 100%;\n",
       "    display: flex;\n",
       "  }\n",
       "\n",
       "  #altair-viz-a4b4f36f9f0c4dd6930139365175c61e.vega-embed details,\n",
       "  #altair-viz-a4b4f36f9f0c4dd6930139365175c61e.vega-embed details summary {\n",
       "    position: relative;\n",
       "  }\n",
       "</style>\n",
       "<div id=\"altair-viz-a4b4f36f9f0c4dd6930139365175c61e\"></div>\n",
       "<script type=\"text/javascript\">\n",
       "  var VEGA_DEBUG = (typeof VEGA_DEBUG == \"undefined\") ? {} : VEGA_DEBUG;\n",
       "  (function(spec, embedOpt){\n",
       "    let outputDiv = document.currentScript.previousElementSibling;\n",
       "    if (outputDiv.id !== \"altair-viz-a4b4f36f9f0c4dd6930139365175c61e\") {\n",
       "      outputDiv = document.getElementById(\"altair-viz-a4b4f36f9f0c4dd6930139365175c61e\");\n",
       "    }\n",
       "    const paths = {\n",
       "      \"vega\": \"https://cdn.jsdelivr.net/npm/vega@5?noext\",\n",
       "      \"vega-lib\": \"https://cdn.jsdelivr.net/npm/vega-lib?noext\",\n",
       "      \"vega-lite\": \"https://cdn.jsdelivr.net/npm/vega-lite@5.8.0?noext\",\n",
       "      \"vega-embed\": \"https://cdn.jsdelivr.net/npm/vega-embed@6?noext\",\n",
       "    };\n",
       "\n",
       "    function maybeLoadScript(lib, version) {\n",
       "      var key = `${lib.replace(\"-\", \"\")}_version`;\n",
       "      return (VEGA_DEBUG[key] == version) ?\n",
       "        Promise.resolve(paths[lib]) :\n",
       "        new Promise(function(resolve, reject) {\n",
       "          var s = document.createElement('script');\n",
       "          document.getElementsByTagName(\"head\")[0].appendChild(s);\n",
       "          s.async = true;\n",
       "          s.onload = () => {\n",
       "            VEGA_DEBUG[key] = version;\n",
       "            return resolve(paths[lib]);\n",
       "          };\n",
       "          s.onerror = () => reject(`Error loading script: ${paths[lib]}`);\n",
       "          s.src = paths[lib];\n",
       "        });\n",
       "    }\n",
       "\n",
       "    function showError(err) {\n",
       "      outputDiv.innerHTML = `<div class=\"error\" style=\"color:red;\">${err}</div>`;\n",
       "      throw err;\n",
       "    }\n",
       "\n",
       "    function displayChart(vegaEmbed) {\n",
       "      vegaEmbed(outputDiv, spec, embedOpt)\n",
       "        .catch(err => showError(`Javascript Error: ${err.message}<br>This usually means there's a typo in your chart specification. See the javascript console for the full traceback.`));\n",
       "    }\n",
       "\n",
       "    if(typeof define === \"function\" && define.amd) {\n",
       "      requirejs.config({paths});\n",
       "      require([\"vega-embed\"], displayChart, err => showError(`Error loading script: ${err.message}`));\n",
       "    } else {\n",
       "      maybeLoadScript(\"vega\", \"5\")\n",
       "        .then(() => maybeLoadScript(\"vega-lite\", \"5.8.0\"))\n",
       "        .then(() => maybeLoadScript(\"vega-embed\", \"6\"))\n",
       "        .catch(showError)\n",
       "        .then(() => displayChart(vegaEmbed));\n",
       "    }\n",
       "  })({\"config\": {\"view\": {\"continuousWidth\": 300, \"continuousHeight\": 300}}, \"data\": {\"name\": \"data-45ea89d59f4466b5ffe9c674321eb183\"}, \"mark\": {\"type\": \"bar\", \"color\": \"blue\"}, \"encoding\": {\"x\": {\"field\": \"stock\", \"type\": \"nominal\"}, \"y\": {\"field\": \"w\", \"type\": \"quantitative\"}}, \"$schema\": \"https://vega.github.io/schema/vega-lite/v5.8.0.json\", \"datasets\": {\"data-45ea89d59f4466b5ffe9c674321eb183\": [{\"w\": 0.04500409018455913, \"stock\": \"AAPL\"}, {\"w\": 0.03447241938882324, \"stock\": \"ABBV\"}, {\"w\": 0.09088968615982217, \"stock\": \"AMZN\"}, {\"w\": 2.117207738684658e-09, \"stock\": \"DB\"}, {\"w\": 0.24073011625338597, \"stock\": \"DIS\"}, {\"w\": 0.14037738705137087, \"stock\": \"FB\"}, {\"w\": 0.0943805754039099, \"stock\": \"GOOG\"}, {\"w\": 0.03390992482989396, \"stock\": \"HAL\"}, {\"w\": 0.3202357986110269, \"stock\": \"HSBC\"}]}}, {\"mode\": \"vega-lite\"});\n",
       "</script>"
      ],
      "text/plain": [
       "alt.Chart(...)"
      ]
     },
     "execution_count": 1704,
     "metadata": {},
     "output_type": "execute_result"
    }
   ],
   "source": [
    "chart_07_1"
   ]
  },
  {
   "cell_type": "code",
   "execution_count": 1705,
   "metadata": {},
   "outputs": [
    {
     "name": "stderr",
     "output_type": "stream",
     "text": [
      "/opt/anaconda3/lib/python3.11/site-packages/altair/utils/core.py:395: FutureWarning: the convert_dtype parameter is deprecated and will be removed in a future version.  Do ``ser.astype(object).apply()`` instead if you want ``convert_dtype=False``.\n",
      "  col = df[col_name].apply(to_list_if_array, convert_dtype=False)\n",
      "/opt/anaconda3/lib/python3.11/site-packages/altair/utils/core.py:395: FutureWarning: the convert_dtype parameter is deprecated and will be removed in a future version.  Do ``ser.astype(object).apply()`` instead if you want ``convert_dtype=False``.\n",
      "  col = df[col_name].apply(to_list_if_array, convert_dtype=False)\n"
     ]
    },
    {
     "data": {
      "text/html": [
       "\n",
       "<style>\n",
       "  #altair-viz-de8f01ddaf184d7ab77a9de4104ba809.vega-embed {\n",
       "    width: 100%;\n",
       "    display: flex;\n",
       "  }\n",
       "\n",
       "  #altair-viz-de8f01ddaf184d7ab77a9de4104ba809.vega-embed details,\n",
       "  #altair-viz-de8f01ddaf184d7ab77a9de4104ba809.vega-embed details summary {\n",
       "    position: relative;\n",
       "  }\n",
       "</style>\n",
       "<div id=\"altair-viz-de8f01ddaf184d7ab77a9de4104ba809\"></div>\n",
       "<script type=\"text/javascript\">\n",
       "  var VEGA_DEBUG = (typeof VEGA_DEBUG == \"undefined\") ? {} : VEGA_DEBUG;\n",
       "  (function(spec, embedOpt){\n",
       "    let outputDiv = document.currentScript.previousElementSibling;\n",
       "    if (outputDiv.id !== \"altair-viz-de8f01ddaf184d7ab77a9de4104ba809\") {\n",
       "      outputDiv = document.getElementById(\"altair-viz-de8f01ddaf184d7ab77a9de4104ba809\");\n",
       "    }\n",
       "    const paths = {\n",
       "      \"vega\": \"https://cdn.jsdelivr.net/npm/vega@5?noext\",\n",
       "      \"vega-lib\": \"https://cdn.jsdelivr.net/npm/vega-lib?noext\",\n",
       "      \"vega-lite\": \"https://cdn.jsdelivr.net/npm/vega-lite@5.8.0?noext\",\n",
       "      \"vega-embed\": \"https://cdn.jsdelivr.net/npm/vega-embed@6?noext\",\n",
       "    };\n",
       "\n",
       "    function maybeLoadScript(lib, version) {\n",
       "      var key = `${lib.replace(\"-\", \"\")}_version`;\n",
       "      return (VEGA_DEBUG[key] == version) ?\n",
       "        Promise.resolve(paths[lib]) :\n",
       "        new Promise(function(resolve, reject) {\n",
       "          var s = document.createElement('script');\n",
       "          document.getElementsByTagName(\"head\")[0].appendChild(s);\n",
       "          s.async = true;\n",
       "          s.onload = () => {\n",
       "            VEGA_DEBUG[key] = version;\n",
       "            return resolve(paths[lib]);\n",
       "          };\n",
       "          s.onerror = () => reject(`Error loading script: ${paths[lib]}`);\n",
       "          s.src = paths[lib];\n",
       "        });\n",
       "    }\n",
       "\n",
       "    function showError(err) {\n",
       "      outputDiv.innerHTML = `<div class=\"error\" style=\"color:red;\">${err}</div>`;\n",
       "      throw err;\n",
       "    }\n",
       "\n",
       "    function displayChart(vegaEmbed) {\n",
       "      vegaEmbed(outputDiv, spec, embedOpt)\n",
       "        .catch(err => showError(`Javascript Error: ${err.message}<br>This usually means there's a typo in your chart specification. See the javascript console for the full traceback.`));\n",
       "    }\n",
       "\n",
       "    if(typeof define === \"function\" && define.amd) {\n",
       "      requirejs.config({paths});\n",
       "      require([\"vega-embed\"], displayChart, err => showError(`Error loading script: ${err.message}`));\n",
       "    } else {\n",
       "      maybeLoadScript(\"vega\", \"5\")\n",
       "        .then(() => maybeLoadScript(\"vega-lite\", \"5.8.0\"))\n",
       "        .then(() => maybeLoadScript(\"vega-embed\", \"6\"))\n",
       "        .catch(showError)\n",
       "        .then(() => displayChart(vegaEmbed));\n",
       "    }\n",
       "  })({\"config\": {\"view\": {\"continuousWidth\": 300, \"continuousHeight\": 300}}, \"data\": {\"name\": \"data-14b7a3545ffac64417483b8694789249\"}, \"mark\": {\"type\": \"bar\", \"color\": \"red\", \"size\": 10}, \"encoding\": {\"column\": {\"field\": \"stock\", \"spacing\": 2, \"type\": \"nominal\"}, \"x\": {\"axis\": null, \"field\": \"run\", \"type\": \"ordinal\"}, \"y\": {\"field\": \"weight\", \"type\": \"quantitative\"}}, \"title\": \"Portfolilo weight by stock and noisy run\", \"width\": 125, \"$schema\": \"https://vega.github.io/schema/vega-lite/v5.8.0.json\", \"datasets\": {\"data-14b7a3545ffac64417483b8694789249\": [{\"stock\": \"AAPL\", \"run\": 0, \"weight\": 0.04500409018455913}, {\"stock\": \"ABBV\", \"run\": 0, \"weight\": 0.03447241938882324}, {\"stock\": \"AMZN\", \"run\": 0, \"weight\": 0.09088968615982217}, {\"stock\": \"DB\", \"run\": 0, \"weight\": 2.117207738684658e-09}, {\"stock\": \"DIS\", \"run\": 0, \"weight\": 0.24073011625338597}, {\"stock\": \"FB\", \"run\": 0, \"weight\": 0.14037738705137087}, {\"stock\": \"GOOG\", \"run\": 0, \"weight\": 0.0943805754039099}, {\"stock\": \"HAL\", \"run\": 0, \"weight\": 0.03390992482989396}, {\"stock\": \"HSBC\", \"run\": 0, \"weight\": 0.3202357986110269}, {\"stock\": \"AAPL\", \"run\": 1, \"weight\": 0.048124375004396654}, {\"stock\": \"ABBV\", \"run\": 1, \"weight\": 6.103363298015085e-08}, {\"stock\": \"AMZN\", \"run\": 1, \"weight\": 0.08011359435823097}, {\"stock\": \"DB\", \"run\": 1, \"weight\": 2.7953029936653282e-09}, {\"stock\": \"DIS\", \"run\": 1, \"weight\": 0.16186959484378613}, {\"stock\": \"FB\", \"run\": 1, \"weight\": 0.14954919414978238}, {\"stock\": \"GOOG\", \"run\": 1, \"weight\": 0.11554998001209112}, {\"stock\": \"HAL\", \"run\": 1, \"weight\": 0.07272290911797206}, {\"stock\": \"HSBC\", \"run\": 1, \"weight\": 0.37207028868480796}, {\"stock\": \"AAPL\", \"run\": 2, \"weight\": 0.06302478368151646}, {\"stock\": \"ABBV\", \"run\": 2, \"weight\": 0.008752824479955526}, {\"stock\": \"AMZN\", \"run\": 2, \"weight\": 0.08727367670638894}, {\"stock\": \"DB\", \"run\": 2, \"weight\": 3.4523137051157353e-09}, {\"stock\": \"DIS\", \"run\": 2, \"weight\": 0.2479747942988809}, {\"stock\": \"FB\", \"run\": 2, \"weight\": 0.06841329167518154}, {\"stock\": \"GOOG\", \"run\": 2, \"weight\": 0.11284208582027223}, {\"stock\": \"HAL\", \"run\": 2, \"weight\": 0.04961280761640854}, {\"stock\": \"HSBC\", \"run\": 2, \"weight\": 0.3621057322690822}, {\"stock\": \"AAPL\", \"run\": 3, \"weight\": 0.03283773787379716}, {\"stock\": \"ABBV\", \"run\": 3, \"weight\": 0.025818658678392663}, {\"stock\": \"AMZN\", \"run\": 3, \"weight\": 0.04482655853199999}, {\"stock\": \"DB\", \"run\": 3, \"weight\": 1.2361466814751106e-09}, {\"stock\": \"DIS\", \"run\": 3, \"weight\": 0.3644809065254876}, {\"stock\": \"FB\", \"run\": 3, \"weight\": 0.08647650910874218}, {\"stock\": \"GOOG\", \"run\": 3, \"weight\": 0.17384659984074252}, {\"stock\": \"HAL\", \"run\": 3, \"weight\": 6.346132555456517e-08}, {\"stock\": \"HSBC\", \"run\": 3, \"weight\": 0.27171296474336515}, {\"stock\": \"AAPL\", \"run\": 4, \"weight\": 7.476004444719037e-09}, {\"stock\": \"ABBV\", \"run\": 4, \"weight\": 0.09651852660516824}, {\"stock\": \"AMZN\", \"run\": 4, \"weight\": 0.152593342599894}, {\"stock\": \"DB\", \"run\": 4, \"weight\": 4.486327617894006e-09}, {\"stock\": \"DIS\", \"run\": 4, \"weight\": 0.24203870528559715}, {\"stock\": \"FB\", \"run\": 4, \"weight\": 0.04423020780506539}, {\"stock\": \"GOOG\", \"run\": 4, \"weight\": 0.12615788605381215}, {\"stock\": \"HAL\", \"run\": 4, \"weight\": 0.005131186305682564}, {\"stock\": \"HSBC\", \"run\": 4, \"weight\": 0.33333013338244855}, {\"stock\": \"AAPL\", \"run\": 5, \"weight\": 0.10066019961637204}, {\"stock\": \"ABBV\", \"run\": 5, \"weight\": 0.06773125977318983}, {\"stock\": \"AMZN\", \"run\": 5, \"weight\": 0.13370000648615807}, {\"stock\": \"DB\", \"run\": 5, \"weight\": 3.6152664948730375e-08}, {\"stock\": \"DIS\", \"run\": 5, \"weight\": 0.24698915025045762}, {\"stock\": \"FB\", \"run\": 5, \"weight\": 0.04719317209337333}, {\"stock\": \"GOOG\", \"run\": 5, \"weight\": 0.05901167894290467}, {\"stock\": \"HAL\", \"run\": 5, \"weight\": 1.3353707246263953e-08}, {\"stock\": \"HSBC\", \"run\": 5, \"weight\": 0.3447144833311721}, {\"stock\": \"AAPL\", \"run\": 6, \"weight\": 0.07392441523035075}, {\"stock\": \"ABBV\", \"run\": 6, \"weight\": 0.03882407791547761}, {\"stock\": \"AMZN\", \"run\": 6, \"weight\": 0.06287570336775876}, {\"stock\": \"DB\", \"run\": 6, \"weight\": 5.346383532661913e-09}, {\"stock\": \"DIS\", \"run\": 6, \"weight\": 0.22895404786940848}, {\"stock\": \"FB\", \"run\": 6, \"weight\": 0.1366655443182635}, {\"stock\": \"GOOG\", \"run\": 6, \"weight\": 0.06426494981274389}, {\"stock\": \"HAL\", \"run\": 6, \"weight\": 0.004662607329918792}, {\"stock\": \"HSBC\", \"run\": 6, \"weight\": 0.38982864880969464}]}}, {\"mode\": \"vega-lite\"});\n",
       "</script>"
      ],
      "text/plain": [
       "alt.Chart(...)"
      ]
     },
     "execution_count": 1705,
     "metadata": {},
     "output_type": "execute_result"
    }
   ],
   "source": [
    "chart_07_2"
   ]
  },
  {
   "cell_type": "code",
   "execution_count": 1706,
   "metadata": {},
   "outputs": [
    {
     "name": "stderr",
     "output_type": "stream",
     "text": [
      "/opt/anaconda3/lib/python3.11/site-packages/altair/utils/core.py:395: FutureWarning: the convert_dtype parameter is deprecated and will be removed in a future version.  Do ``ser.astype(object).apply()`` instead if you want ``convert_dtype=False``.\n",
      "  col = df[col_name].apply(to_list_if_array, convert_dtype=False)\n",
      "/opt/anaconda3/lib/python3.11/site-packages/altair/utils/core.py:395: FutureWarning: the convert_dtype parameter is deprecated and will be removed in a future version.  Do ``ser.astype(object).apply()`` instead if you want ``convert_dtype=False``.\n",
      "  col = df[col_name].apply(to_list_if_array, convert_dtype=False)\n"
     ]
    },
    {
     "data": {
      "text/html": [
       "\n",
       "<style>\n",
       "  #altair-viz-cb907b3374114e07929d03db49508567.vega-embed {\n",
       "    width: 100%;\n",
       "    display: flex;\n",
       "  }\n",
       "\n",
       "  #altair-viz-cb907b3374114e07929d03db49508567.vega-embed details,\n",
       "  #altair-viz-cb907b3374114e07929d03db49508567.vega-embed details summary {\n",
       "    position: relative;\n",
       "  }\n",
       "</style>\n",
       "<div id=\"altair-viz-cb907b3374114e07929d03db49508567\"></div>\n",
       "<script type=\"text/javascript\">\n",
       "  var VEGA_DEBUG = (typeof VEGA_DEBUG == \"undefined\") ? {} : VEGA_DEBUG;\n",
       "  (function(spec, embedOpt){\n",
       "    let outputDiv = document.currentScript.previousElementSibling;\n",
       "    if (outputDiv.id !== \"altair-viz-cb907b3374114e07929d03db49508567\") {\n",
       "      outputDiv = document.getElementById(\"altair-viz-cb907b3374114e07929d03db49508567\");\n",
       "    }\n",
       "    const paths = {\n",
       "      \"vega\": \"https://cdn.jsdelivr.net/npm/vega@5?noext\",\n",
       "      \"vega-lib\": \"https://cdn.jsdelivr.net/npm/vega-lib?noext\",\n",
       "      \"vega-lite\": \"https://cdn.jsdelivr.net/npm/vega-lite@5.8.0?noext\",\n",
       "      \"vega-embed\": \"https://cdn.jsdelivr.net/npm/vega-embed@6?noext\",\n",
       "    };\n",
       "\n",
       "    function maybeLoadScript(lib, version) {\n",
       "      var key = `${lib.replace(\"-\", \"\")}_version`;\n",
       "      return (VEGA_DEBUG[key] == version) ?\n",
       "        Promise.resolve(paths[lib]) :\n",
       "        new Promise(function(resolve, reject) {\n",
       "          var s = document.createElement('script');\n",
       "          document.getElementsByTagName(\"head\")[0].appendChild(s);\n",
       "          s.async = true;\n",
       "          s.onload = () => {\n",
       "            VEGA_DEBUG[key] = version;\n",
       "            return resolve(paths[lib]);\n",
       "          };\n",
       "          s.onerror = () => reject(`Error loading script: ${paths[lib]}`);\n",
       "          s.src = paths[lib];\n",
       "        });\n",
       "    }\n",
       "\n",
       "    function showError(err) {\n",
       "      outputDiv.innerHTML = `<div class=\"error\" style=\"color:red;\">${err}</div>`;\n",
       "      throw err;\n",
       "    }\n",
       "\n",
       "    function displayChart(vegaEmbed) {\n",
       "      vegaEmbed(outputDiv, spec, embedOpt)\n",
       "        .catch(err => showError(`Javascript Error: ${err.message}<br>This usually means there's a typo in your chart specification. See the javascript console for the full traceback.`));\n",
       "    }\n",
       "\n",
       "    if(typeof define === \"function\" && define.amd) {\n",
       "      requirejs.config({paths});\n",
       "      require([\"vega-embed\"], displayChart, err => showError(`Error loading script: ${err.message}`));\n",
       "    } else {\n",
       "      maybeLoadScript(\"vega\", \"5\")\n",
       "        .then(() => maybeLoadScript(\"vega-lite\", \"5.8.0\"))\n",
       "        .then(() => maybeLoadScript(\"vega-embed\", \"6\"))\n",
       "        .catch(showError)\n",
       "        .then(() => displayChart(vegaEmbed));\n",
       "    }\n",
       "  })({\"config\": {\"view\": {\"continuousWidth\": 300, \"continuousHeight\": 300}}, \"data\": {\"name\": \"data-14b7a3545ffac64417483b8694789249\"}, \"mark\": {\"type\": \"bar\"}, \"encoding\": {\"color\": {\"field\": \"stock\", \"type\": \"nominal\"}, \"order\": {\"field\": \"stock\", \"sort\": \"ascending\", \"type\": \"nominal\"}, \"x\": {\"axis\": null, \"field\": \"run\", \"type\": \"ordinal\"}, \"y\": {\"field\": \"weight\", \"title\": \"% weight\", \"type\": \"quantitative\"}}, \"title\": \"Proportion of portfolio weight by stock\", \"width\": 500, \"$schema\": \"https://vega.github.io/schema/vega-lite/v5.8.0.json\", \"datasets\": {\"data-14b7a3545ffac64417483b8694789249\": [{\"stock\": \"AAPL\", \"run\": 0, \"weight\": 0.04500409018455913}, {\"stock\": \"ABBV\", \"run\": 0, \"weight\": 0.03447241938882324}, {\"stock\": \"AMZN\", \"run\": 0, \"weight\": 0.09088968615982217}, {\"stock\": \"DB\", \"run\": 0, \"weight\": 2.117207738684658e-09}, {\"stock\": \"DIS\", \"run\": 0, \"weight\": 0.24073011625338597}, {\"stock\": \"FB\", \"run\": 0, \"weight\": 0.14037738705137087}, {\"stock\": \"GOOG\", \"run\": 0, \"weight\": 0.0943805754039099}, {\"stock\": \"HAL\", \"run\": 0, \"weight\": 0.03390992482989396}, {\"stock\": \"HSBC\", \"run\": 0, \"weight\": 0.3202357986110269}, {\"stock\": \"AAPL\", \"run\": 1, \"weight\": 0.048124375004396654}, {\"stock\": \"ABBV\", \"run\": 1, \"weight\": 6.103363298015085e-08}, {\"stock\": \"AMZN\", \"run\": 1, \"weight\": 0.08011359435823097}, {\"stock\": \"DB\", \"run\": 1, \"weight\": 2.7953029936653282e-09}, {\"stock\": \"DIS\", \"run\": 1, \"weight\": 0.16186959484378613}, {\"stock\": \"FB\", \"run\": 1, \"weight\": 0.14954919414978238}, {\"stock\": \"GOOG\", \"run\": 1, \"weight\": 0.11554998001209112}, {\"stock\": \"HAL\", \"run\": 1, \"weight\": 0.07272290911797206}, {\"stock\": \"HSBC\", \"run\": 1, \"weight\": 0.37207028868480796}, {\"stock\": \"AAPL\", \"run\": 2, \"weight\": 0.06302478368151646}, {\"stock\": \"ABBV\", \"run\": 2, \"weight\": 0.008752824479955526}, {\"stock\": \"AMZN\", \"run\": 2, \"weight\": 0.08727367670638894}, {\"stock\": \"DB\", \"run\": 2, \"weight\": 3.4523137051157353e-09}, {\"stock\": \"DIS\", \"run\": 2, \"weight\": 0.2479747942988809}, {\"stock\": \"FB\", \"run\": 2, \"weight\": 0.06841329167518154}, {\"stock\": \"GOOG\", \"run\": 2, \"weight\": 0.11284208582027223}, {\"stock\": \"HAL\", \"run\": 2, \"weight\": 0.04961280761640854}, {\"stock\": \"HSBC\", \"run\": 2, \"weight\": 0.3621057322690822}, {\"stock\": \"AAPL\", \"run\": 3, \"weight\": 0.03283773787379716}, {\"stock\": \"ABBV\", \"run\": 3, \"weight\": 0.025818658678392663}, {\"stock\": \"AMZN\", \"run\": 3, \"weight\": 0.04482655853199999}, {\"stock\": \"DB\", \"run\": 3, \"weight\": 1.2361466814751106e-09}, {\"stock\": \"DIS\", \"run\": 3, \"weight\": 0.3644809065254876}, {\"stock\": \"FB\", \"run\": 3, \"weight\": 0.08647650910874218}, {\"stock\": \"GOOG\", \"run\": 3, \"weight\": 0.17384659984074252}, {\"stock\": \"HAL\", \"run\": 3, \"weight\": 6.346132555456517e-08}, {\"stock\": \"HSBC\", \"run\": 3, \"weight\": 0.27171296474336515}, {\"stock\": \"AAPL\", \"run\": 4, \"weight\": 7.476004444719037e-09}, {\"stock\": \"ABBV\", \"run\": 4, \"weight\": 0.09651852660516824}, {\"stock\": \"AMZN\", \"run\": 4, \"weight\": 0.152593342599894}, {\"stock\": \"DB\", \"run\": 4, \"weight\": 4.486327617894006e-09}, {\"stock\": \"DIS\", \"run\": 4, \"weight\": 0.24203870528559715}, {\"stock\": \"FB\", \"run\": 4, \"weight\": 0.04423020780506539}, {\"stock\": \"GOOG\", \"run\": 4, \"weight\": 0.12615788605381215}, {\"stock\": \"HAL\", \"run\": 4, \"weight\": 0.005131186305682564}, {\"stock\": \"HSBC\", \"run\": 4, \"weight\": 0.33333013338244855}, {\"stock\": \"AAPL\", \"run\": 5, \"weight\": 0.10066019961637204}, {\"stock\": \"ABBV\", \"run\": 5, \"weight\": 0.06773125977318983}, {\"stock\": \"AMZN\", \"run\": 5, \"weight\": 0.13370000648615807}, {\"stock\": \"DB\", \"run\": 5, \"weight\": 3.6152664948730375e-08}, {\"stock\": \"DIS\", \"run\": 5, \"weight\": 0.24698915025045762}, {\"stock\": \"FB\", \"run\": 5, \"weight\": 0.04719317209337333}, {\"stock\": \"GOOG\", \"run\": 5, \"weight\": 0.05901167894290467}, {\"stock\": \"HAL\", \"run\": 5, \"weight\": 1.3353707246263953e-08}, {\"stock\": \"HSBC\", \"run\": 5, \"weight\": 0.3447144833311721}, {\"stock\": \"AAPL\", \"run\": 6, \"weight\": 0.07392441523035075}, {\"stock\": \"ABBV\", \"run\": 6, \"weight\": 0.03882407791547761}, {\"stock\": \"AMZN\", \"run\": 6, \"weight\": 0.06287570336775876}, {\"stock\": \"DB\", \"run\": 6, \"weight\": 5.346383532661913e-09}, {\"stock\": \"DIS\", \"run\": 6, \"weight\": 0.22895404786940848}, {\"stock\": \"FB\", \"run\": 6, \"weight\": 0.1366655443182635}, {\"stock\": \"GOOG\", \"run\": 6, \"weight\": 0.06426494981274389}, {\"stock\": \"HAL\", \"run\": 6, \"weight\": 0.004662607329918792}, {\"stock\": \"HSBC\", \"run\": 6, \"weight\": 0.38982864880969464}]}}, {\"mode\": \"vega-lite\"});\n",
       "</script>"
      ],
      "text/plain": [
       "alt.Chart(...)"
      ]
     },
     "execution_count": 1706,
     "metadata": {},
     "output_type": "execute_result"
    }
   ],
   "source": [
    "chart_07_3"
   ]
  },
  {
   "cell_type": "markdown",
   "metadata": {},
   "source": [
    "As the ellipsoid gets smaller, the model becomes more conservative and selects a majority of the 3 major companies previous mentioned. This is because the smaller the ellipsoid, the less risk the model is willing to take.HSBC, DIS, and FB. "
   ]
  },
  {
   "cell_type": "markdown",
   "metadata": {},
   "source": [
    "### Kappa 0.35"
   ]
  },
  {
   "cell_type": "code",
   "execution_count": 1707,
   "metadata": {},
   "outputs": [],
   "source": [
    "kappa = 0.35\n",
    "\n",
    "mu = X.mean(axis=0)\n",
    "GMRP_robust_3FF = portfolioMaxReturnRobustEllipsoid(mu, Sigma_FamaFrench, kappa)\n",
    "GMRP_robust_3FF_df = pd.DataFrame(GMRP_robust_3FF)\n",
    "GMRP_robust_3FF_df['stock'] = X_trn.columns\n",
    "GMRP_robust_3FF_df.columns = ['w', 'stock']\n",
    "\n",
    "# Plot the results\n",
    "chart_035_1 = alt.Chart(GMRP_robust_3FF_df).mark_bar(color='blue').encode(\n",
    "    x='stock:N',\n",
    "    y='w:Q'\n",
    ")\n"
   ]
  },
  {
   "cell_type": "code",
   "execution_count": 1708,
   "metadata": {},
   "outputs": [],
   "source": [
    "# Robust Noisy Solution\n",
    "w_all_GMRP_robust_ellipsoid = np.expand_dims(GMRP_robust_3FF, axis=1)\n",
    "\n",
    "np.random.seed(100)\n",
    "for i in range(6):\n",
    "    X_noisy = pd.DataFrame(np.random.multivariate_normal(mu, Sigma_FamaFrench, size=T))\n",
    "    mu_noisy = X_noisy.mean(axis=0)\n",
    "    Sigma_noisy = X_noisy.cov()\n",
    "    if not is_pos_def(Sigma_noisy, 0.001):\n",
    "      Sigma_noisy = cov_nearest(Sigma_noisy)\n",
    "    w_GMRP_robust_ellipsoid_noisy = portfolioMaxReturnRobustEllipsoid(mu_noisy, Sigma_noisy, kappa)\n",
    "    w_all_GMRP_robust_ellipsoid = np.concatenate((w_all_GMRP_robust_ellipsoid,\n",
    "                                                   np.expand_dims(w_GMRP_robust_ellipsoid_noisy, axis=1)), axis=1)\n",
    "\n",
    "w_all_GMRP_robust_ellipsoid = pd.DataFrame(w_all_GMRP_robust_ellipsoid)\n",
    "w_all_GMRP_robust_ellipsoid[\"stock\"] = X_trn.columns\n",
    "\n",
    "long_w_all_GMRP_robust_ellipsoid = pd.melt(\n",
    "    w_all_GMRP_robust_ellipsoid,\n",
    "    id_vars=['stock'],\n",
    "    var_name='run',\n",
    "    value_name='weight') # melt the dataframe to long format\n",
    "\n",
    "# this chart shows the portfolio weights by stock and noisy run\n",
    "chart_035_2 = alt.Chart(long_w_all_GMRP_robust_ellipsoid).mark_bar(size=10, color='red').encode(\n",
    "    x=alt.X('concat(stock, \" - \", run):O', axis=alt.Axis(title='Stock - Run'), sort=None),\n",
    "    y='weight:Q',\n",
    "    column=alt.Column('stock:N', spacing=2)\n",
    ").properties(width=125, title='Portfolilo weight by stock and noisy run')\n",
    "\n",
    "\n",
    "# this chart shows the proportion of portfolio weight by stock\n",
    "chart_035_3=alt.Chart(long_w_all_GMRP_robust_ellipsoid).mark_bar().encode(\n",
    "    x=alt.X('run:O', axis=None),\n",
    "    y=alt.Y('weight:Q', title='% weight'),\n",
    "    color='stock:N',\n",
    "    order=alt.Order('stock', sort='ascending')\n",
    ").properties(width=500, title='Proportion of portfolio weight by stock')"
   ]
  },
  {
   "cell_type": "code",
   "execution_count": 1709,
   "metadata": {},
   "outputs": [
    {
     "name": "stderr",
     "output_type": "stream",
     "text": [
      "/opt/anaconda3/lib/python3.11/site-packages/altair/utils/core.py:395: FutureWarning: the convert_dtype parameter is deprecated and will be removed in a future version.  Do ``ser.astype(object).apply()`` instead if you want ``convert_dtype=False``.\n",
      "  col = df[col_name].apply(to_list_if_array, convert_dtype=False)\n"
     ]
    },
    {
     "data": {
      "text/html": [
       "\n",
       "<style>\n",
       "  #altair-viz-e5ec9637d1114febbe7fe551e8e1c6fc.vega-embed {\n",
       "    width: 100%;\n",
       "    display: flex;\n",
       "  }\n",
       "\n",
       "  #altair-viz-e5ec9637d1114febbe7fe551e8e1c6fc.vega-embed details,\n",
       "  #altair-viz-e5ec9637d1114febbe7fe551e8e1c6fc.vega-embed details summary {\n",
       "    position: relative;\n",
       "  }\n",
       "</style>\n",
       "<div id=\"altair-viz-e5ec9637d1114febbe7fe551e8e1c6fc\"></div>\n",
       "<script type=\"text/javascript\">\n",
       "  var VEGA_DEBUG = (typeof VEGA_DEBUG == \"undefined\") ? {} : VEGA_DEBUG;\n",
       "  (function(spec, embedOpt){\n",
       "    let outputDiv = document.currentScript.previousElementSibling;\n",
       "    if (outputDiv.id !== \"altair-viz-e5ec9637d1114febbe7fe551e8e1c6fc\") {\n",
       "      outputDiv = document.getElementById(\"altair-viz-e5ec9637d1114febbe7fe551e8e1c6fc\");\n",
       "    }\n",
       "    const paths = {\n",
       "      \"vega\": \"https://cdn.jsdelivr.net/npm/vega@5?noext\",\n",
       "      \"vega-lib\": \"https://cdn.jsdelivr.net/npm/vega-lib?noext\",\n",
       "      \"vega-lite\": \"https://cdn.jsdelivr.net/npm/vega-lite@5.8.0?noext\",\n",
       "      \"vega-embed\": \"https://cdn.jsdelivr.net/npm/vega-embed@6?noext\",\n",
       "    };\n",
       "\n",
       "    function maybeLoadScript(lib, version) {\n",
       "      var key = `${lib.replace(\"-\", \"\")}_version`;\n",
       "      return (VEGA_DEBUG[key] == version) ?\n",
       "        Promise.resolve(paths[lib]) :\n",
       "        new Promise(function(resolve, reject) {\n",
       "          var s = document.createElement('script');\n",
       "          document.getElementsByTagName(\"head\")[0].appendChild(s);\n",
       "          s.async = true;\n",
       "          s.onload = () => {\n",
       "            VEGA_DEBUG[key] = version;\n",
       "            return resolve(paths[lib]);\n",
       "          };\n",
       "          s.onerror = () => reject(`Error loading script: ${paths[lib]}`);\n",
       "          s.src = paths[lib];\n",
       "        });\n",
       "    }\n",
       "\n",
       "    function showError(err) {\n",
       "      outputDiv.innerHTML = `<div class=\"error\" style=\"color:red;\">${err}</div>`;\n",
       "      throw err;\n",
       "    }\n",
       "\n",
       "    function displayChart(vegaEmbed) {\n",
       "      vegaEmbed(outputDiv, spec, embedOpt)\n",
       "        .catch(err => showError(`Javascript Error: ${err.message}<br>This usually means there's a typo in your chart specification. See the javascript console for the full traceback.`));\n",
       "    }\n",
       "\n",
       "    if(typeof define === \"function\" && define.amd) {\n",
       "      requirejs.config({paths});\n",
       "      require([\"vega-embed\"], displayChart, err => showError(`Error loading script: ${err.message}`));\n",
       "    } else {\n",
       "      maybeLoadScript(\"vega\", \"5\")\n",
       "        .then(() => maybeLoadScript(\"vega-lite\", \"5.8.0\"))\n",
       "        .then(() => maybeLoadScript(\"vega-embed\", \"6\"))\n",
       "        .catch(showError)\n",
       "        .then(() => displayChart(vegaEmbed));\n",
       "    }\n",
       "  })({\"config\": {\"view\": {\"continuousWidth\": 300, \"continuousHeight\": 300}}, \"data\": {\"name\": \"data-59a35f0636d76aa19abf812ce6898470\"}, \"mark\": {\"type\": \"bar\", \"color\": \"blue\"}, \"encoding\": {\"x\": {\"field\": \"stock\", \"type\": \"nominal\"}, \"y\": {\"field\": \"w\", \"type\": \"quantitative\"}}, \"$schema\": \"https://vega.github.io/schema/vega-lite/v5.8.0.json\", \"datasets\": {\"data-59a35f0636d76aa19abf812ce6898470\": [{\"w\": 0.014527943033120973, \"stock\": \"AAPL\"}, {\"w\": 0.008720844063308041, \"stock\": \"ABBV\"}, {\"w\": 0.1622581293905402, \"stock\": \"AMZN\"}, {\"w\": 1.3499688328908759e-09, \"stock\": \"DB\"}, {\"w\": 0.22115637465980342, \"stock\": \"DIS\"}, {\"w\": 0.17327118054354576, \"stock\": \"FB\"}, {\"w\": 0.11685356486187493, \"stock\": \"GOOG\"}, {\"w\": 0.055314003207201846, \"stock\": \"HAL\"}, {\"w\": 0.2478979588906356, \"stock\": \"HSBC\"}]}}, {\"mode\": \"vega-lite\"});\n",
       "</script>"
      ],
      "text/plain": [
       "alt.Chart(...)"
      ]
     },
     "execution_count": 1709,
     "metadata": {},
     "output_type": "execute_result"
    }
   ],
   "source": [
    "chart_035_1"
   ]
  },
  {
   "cell_type": "code",
   "execution_count": 1710,
   "metadata": {},
   "outputs": [
    {
     "name": "stderr",
     "output_type": "stream",
     "text": [
      "/opt/anaconda3/lib/python3.11/site-packages/altair/utils/core.py:395: FutureWarning: the convert_dtype parameter is deprecated and will be removed in a future version.  Do ``ser.astype(object).apply()`` instead if you want ``convert_dtype=False``.\n",
      "  col = df[col_name].apply(to_list_if_array, convert_dtype=False)\n",
      "/opt/anaconda3/lib/python3.11/site-packages/altair/utils/core.py:395: FutureWarning: the convert_dtype parameter is deprecated and will be removed in a future version.  Do ``ser.astype(object).apply()`` instead if you want ``convert_dtype=False``.\n",
      "  col = df[col_name].apply(to_list_if_array, convert_dtype=False)\n"
     ]
    },
    {
     "data": {
      "text/html": [
       "\n",
       "<style>\n",
       "  #altair-viz-faeb88ad78f8426c9a62c41c0bfb9034.vega-embed {\n",
       "    width: 100%;\n",
       "    display: flex;\n",
       "  }\n",
       "\n",
       "  #altair-viz-faeb88ad78f8426c9a62c41c0bfb9034.vega-embed details,\n",
       "  #altair-viz-faeb88ad78f8426c9a62c41c0bfb9034.vega-embed details summary {\n",
       "    position: relative;\n",
       "  }\n",
       "</style>\n",
       "<div id=\"altair-viz-faeb88ad78f8426c9a62c41c0bfb9034\"></div>\n",
       "<script type=\"text/javascript\">\n",
       "  var VEGA_DEBUG = (typeof VEGA_DEBUG == \"undefined\") ? {} : VEGA_DEBUG;\n",
       "  (function(spec, embedOpt){\n",
       "    let outputDiv = document.currentScript.previousElementSibling;\n",
       "    if (outputDiv.id !== \"altair-viz-faeb88ad78f8426c9a62c41c0bfb9034\") {\n",
       "      outputDiv = document.getElementById(\"altair-viz-faeb88ad78f8426c9a62c41c0bfb9034\");\n",
       "    }\n",
       "    const paths = {\n",
       "      \"vega\": \"https://cdn.jsdelivr.net/npm/vega@5?noext\",\n",
       "      \"vega-lib\": \"https://cdn.jsdelivr.net/npm/vega-lib?noext\",\n",
       "      \"vega-lite\": \"https://cdn.jsdelivr.net/npm/vega-lite@5.8.0?noext\",\n",
       "      \"vega-embed\": \"https://cdn.jsdelivr.net/npm/vega-embed@6?noext\",\n",
       "    };\n",
       "\n",
       "    function maybeLoadScript(lib, version) {\n",
       "      var key = `${lib.replace(\"-\", \"\")}_version`;\n",
       "      return (VEGA_DEBUG[key] == version) ?\n",
       "        Promise.resolve(paths[lib]) :\n",
       "        new Promise(function(resolve, reject) {\n",
       "          var s = document.createElement('script');\n",
       "          document.getElementsByTagName(\"head\")[0].appendChild(s);\n",
       "          s.async = true;\n",
       "          s.onload = () => {\n",
       "            VEGA_DEBUG[key] = version;\n",
       "            return resolve(paths[lib]);\n",
       "          };\n",
       "          s.onerror = () => reject(`Error loading script: ${paths[lib]}`);\n",
       "          s.src = paths[lib];\n",
       "        });\n",
       "    }\n",
       "\n",
       "    function showError(err) {\n",
       "      outputDiv.innerHTML = `<div class=\"error\" style=\"color:red;\">${err}</div>`;\n",
       "      throw err;\n",
       "    }\n",
       "\n",
       "    function displayChart(vegaEmbed) {\n",
       "      vegaEmbed(outputDiv, spec, embedOpt)\n",
       "        .catch(err => showError(`Javascript Error: ${err.message}<br>This usually means there's a typo in your chart specification. See the javascript console for the full traceback.`));\n",
       "    }\n",
       "\n",
       "    if(typeof define === \"function\" && define.amd) {\n",
       "      requirejs.config({paths});\n",
       "      require([\"vega-embed\"], displayChart, err => showError(`Error loading script: ${err.message}`));\n",
       "    } else {\n",
       "      maybeLoadScript(\"vega\", \"5\")\n",
       "        .then(() => maybeLoadScript(\"vega-lite\", \"5.8.0\"))\n",
       "        .then(() => maybeLoadScript(\"vega-embed\", \"6\"))\n",
       "        .catch(showError)\n",
       "        .then(() => displayChart(vegaEmbed));\n",
       "    }\n",
       "  })({\"config\": {\"view\": {\"continuousWidth\": 300, \"continuousHeight\": 300}}, \"data\": {\"name\": \"data-040565ddea29f40a6377f5592f7f1ac5\"}, \"mark\": {\"type\": \"bar\", \"color\": \"red\", \"size\": 10}, \"encoding\": {\"column\": {\"field\": \"stock\", \"spacing\": 2, \"type\": \"nominal\"}, \"x\": {\"axis\": {\"title\": \"Stock - Run\"}, \"field\": \"concat(stock, \\\" - \\\", run)\", \"sort\": null, \"type\": \"ordinal\"}, \"y\": {\"field\": \"weight\", \"type\": \"quantitative\"}}, \"title\": \"Portfolilo weight by stock and noisy run\", \"width\": 125, \"$schema\": \"https://vega.github.io/schema/vega-lite/v5.8.0.json\", \"datasets\": {\"data-040565ddea29f40a6377f5592f7f1ac5\": [{\"stock\": \"AAPL\", \"run\": 0, \"weight\": 0.014527943033120973}, {\"stock\": \"ABBV\", \"run\": 0, \"weight\": 0.008720844063308041}, {\"stock\": \"AMZN\", \"run\": 0, \"weight\": 0.1622581293905402}, {\"stock\": \"DB\", \"run\": 0, \"weight\": 1.3499688328908759e-09}, {\"stock\": \"DIS\", \"run\": 0, \"weight\": 0.22115637465980342}, {\"stock\": \"FB\", \"run\": 0, \"weight\": 0.17327118054354576}, {\"stock\": \"GOOG\", \"run\": 0, \"weight\": 0.11685356486187493}, {\"stock\": \"HAL\", \"run\": 0, \"weight\": 0.055314003207201846}, {\"stock\": \"HSBC\", \"run\": 0, \"weight\": 0.2478979588906356}, {\"stock\": \"AAPL\", \"run\": 1, \"weight\": 3.2160608092579177e-07}, {\"stock\": \"ABBV\", \"run\": 1, \"weight\": 5.665491615256561e-09}, {\"stock\": \"AMZN\", \"run\": 1, \"weight\": 0.16254820972986153}, {\"stock\": \"DB\", \"run\": 1, \"weight\": 2.895618468524488e-09}, {\"stock\": \"DIS\", \"run\": 1, \"weight\": 0.09411871359300414}, {\"stock\": \"FB\", \"run\": 1, \"weight\": 0.1065784240793786}, {\"stock\": \"GOOG\", \"run\": 1, \"weight\": 0.16804037623469606}, {\"stock\": \"HAL\", \"run\": 1, \"weight\": 0.12557384765647106}, {\"stock\": \"HSBC\", \"run\": 1, \"weight\": 0.3431400985393996}, {\"stock\": \"AAPL\", \"run\": 2, \"weight\": 0.06570779233852649}, {\"stock\": \"ABBV\", \"run\": 2, \"weight\": 1.299378749642016e-08}, {\"stock\": \"AMZN\", \"run\": 2, \"weight\": 0.1978305497892354}, {\"stock\": \"DB\", \"run\": 2, \"weight\": 1.6234391789814261e-09}, {\"stock\": \"DIS\", \"run\": 2, \"weight\": 0.22757514114954136}, {\"stock\": \"FB\", \"run\": 2, \"weight\": 0.03411233822590483}, {\"stock\": \"GOOG\", \"run\": 2, \"weight\": 0.12575200086286015}, {\"stock\": \"HAL\", \"run\": 2, \"weight\": 0.054610072975686715}, {\"stock\": \"HSBC\", \"run\": 2, \"weight\": 0.2944120900410183}, {\"stock\": \"AAPL\", \"run\": 3, \"weight\": 3.046136436694637e-08}, {\"stock\": \"ABBV\", \"run\": 3, \"weight\": 1.4344376374683447e-06}, {\"stock\": \"AMZN\", \"run\": 3, \"weight\": 0.11743379788863381}, {\"stock\": \"DB\", \"run\": 3, \"weight\": 2.3534355553451447e-09}, {\"stock\": \"DIS\", \"run\": 3, \"weight\": 0.42163584145907573}, {\"stock\": \"FB\", \"run\": 3, \"weight\": 0.15730539070478755}, {\"stock\": \"GOOG\", \"run\": 3, \"weight\": 0.2076229482926446}, {\"stock\": \"HAL\", \"run\": 3, \"weight\": 2.5020966081061916e-07}, {\"stock\": \"HSBC\", \"run\": 3, \"weight\": 0.0960003041927602}, {\"stock\": \"AAPL\", \"run\": 4, \"weight\": 9.793408562496946e-10}, {\"stock\": \"ABBV\", \"run\": 4, \"weight\": 0.1306744360155847}, {\"stock\": \"AMZN\", \"run\": 4, \"weight\": 0.2710419039625288}, {\"stock\": \"DB\", \"run\": 4, \"weight\": 1.9983310428187087e-09}, {\"stock\": \"DIS\", \"run\": 4, \"weight\": 0.2228687719903656}, {\"stock\": \"FB\", \"run\": 4, \"weight\": 1.0169627471770718e-08}, {\"stock\": \"GOOG\", \"run\": 4, \"weight\": 0.1369543302657301}, {\"stock\": \"HAL\", \"run\": 4, \"weight\": 9.519446322143679e-09}, {\"stock\": \"HSBC\", \"run\": 4, \"weight\": 0.23846053509904516}, {\"stock\": \"AAPL\", \"run\": 5, \"weight\": 0.11902650405319902}, {\"stock\": \"ABBV\", \"run\": 5, \"weight\": 0.03838917535004085}, {\"stock\": \"AMZN\", \"run\": 5, \"weight\": 0.2247617696540512}, {\"stock\": \"DB\", \"run\": 5, \"weight\": 6.855293024967629e-09}, {\"stock\": \"DIS\", \"run\": 5, \"weight\": 0.25157133540007803}, {\"stock\": \"FB\", \"run\": 5, \"weight\": 0.02165923021265358}, {\"stock\": \"GOOG\", \"run\": 5, \"weight\": 0.0832232243175534}, {\"stock\": \"HAL\", \"run\": 5, \"weight\": 3.5542637476221755e-09}, {\"stock\": \"HSBC\", \"run\": 5, \"weight\": 0.2613687506028673}, {\"stock\": \"AAPL\", \"run\": 6, \"weight\": 0.02459928067899033}, {\"stock\": \"ABBV\", \"run\": 6, \"weight\": 0.016320088727171198}, {\"stock\": \"AMZN\", \"run\": 6, \"weight\": 0.14831217956102521}, {\"stock\": \"DB\", \"run\": 6, \"weight\": 2.1183023343105356e-09}, {\"stock\": \"DIS\", \"run\": 6, \"weight\": 0.20773573879310947}, {\"stock\": \"FB\", \"run\": 6, \"weight\": 0.1668566018471158}, {\"stock\": \"GOOG\", \"run\": 6, \"weight\": 0.05273339495601195}, {\"stock\": \"HAL\", \"run\": 6, \"weight\": 2.909705311739017e-09}, {\"stock\": \"HSBC\", \"run\": 6, \"weight\": 0.3834427104085685}]}}, {\"mode\": \"vega-lite\"});\n",
       "</script>"
      ],
      "text/plain": [
       "alt.Chart(...)"
      ]
     },
     "execution_count": 1710,
     "metadata": {},
     "output_type": "execute_result"
    }
   ],
   "source": [
    "chart_035_2"
   ]
  },
  {
   "cell_type": "code",
   "execution_count": 1711,
   "metadata": {},
   "outputs": [
    {
     "name": "stderr",
     "output_type": "stream",
     "text": [
      "/opt/anaconda3/lib/python3.11/site-packages/altair/utils/core.py:395: FutureWarning: the convert_dtype parameter is deprecated and will be removed in a future version.  Do ``ser.astype(object).apply()`` instead if you want ``convert_dtype=False``.\n",
      "  col = df[col_name].apply(to_list_if_array, convert_dtype=False)\n",
      "/opt/anaconda3/lib/python3.11/site-packages/altair/utils/core.py:395: FutureWarning: the convert_dtype parameter is deprecated and will be removed in a future version.  Do ``ser.astype(object).apply()`` instead if you want ``convert_dtype=False``.\n",
      "  col = df[col_name].apply(to_list_if_array, convert_dtype=False)\n"
     ]
    },
    {
     "data": {
      "text/html": [
       "\n",
       "<style>\n",
       "  #altair-viz-4ae62bbcd596458f872c155ea06313b8.vega-embed {\n",
       "    width: 100%;\n",
       "    display: flex;\n",
       "  }\n",
       "\n",
       "  #altair-viz-4ae62bbcd596458f872c155ea06313b8.vega-embed details,\n",
       "  #altair-viz-4ae62bbcd596458f872c155ea06313b8.vega-embed details summary {\n",
       "    position: relative;\n",
       "  }\n",
       "</style>\n",
       "<div id=\"altair-viz-4ae62bbcd596458f872c155ea06313b8\"></div>\n",
       "<script type=\"text/javascript\">\n",
       "  var VEGA_DEBUG = (typeof VEGA_DEBUG == \"undefined\") ? {} : VEGA_DEBUG;\n",
       "  (function(spec, embedOpt){\n",
       "    let outputDiv = document.currentScript.previousElementSibling;\n",
       "    if (outputDiv.id !== \"altair-viz-4ae62bbcd596458f872c155ea06313b8\") {\n",
       "      outputDiv = document.getElementById(\"altair-viz-4ae62bbcd596458f872c155ea06313b8\");\n",
       "    }\n",
       "    const paths = {\n",
       "      \"vega\": \"https://cdn.jsdelivr.net/npm/vega@5?noext\",\n",
       "      \"vega-lib\": \"https://cdn.jsdelivr.net/npm/vega-lib?noext\",\n",
       "      \"vega-lite\": \"https://cdn.jsdelivr.net/npm/vega-lite@5.8.0?noext\",\n",
       "      \"vega-embed\": \"https://cdn.jsdelivr.net/npm/vega-embed@6?noext\",\n",
       "    };\n",
       "\n",
       "    function maybeLoadScript(lib, version) {\n",
       "      var key = `${lib.replace(\"-\", \"\")}_version`;\n",
       "      return (VEGA_DEBUG[key] == version) ?\n",
       "        Promise.resolve(paths[lib]) :\n",
       "        new Promise(function(resolve, reject) {\n",
       "          var s = document.createElement('script');\n",
       "          document.getElementsByTagName(\"head\")[0].appendChild(s);\n",
       "          s.async = true;\n",
       "          s.onload = () => {\n",
       "            VEGA_DEBUG[key] = version;\n",
       "            return resolve(paths[lib]);\n",
       "          };\n",
       "          s.onerror = () => reject(`Error loading script: ${paths[lib]}`);\n",
       "          s.src = paths[lib];\n",
       "        });\n",
       "    }\n",
       "\n",
       "    function showError(err) {\n",
       "      outputDiv.innerHTML = `<div class=\"error\" style=\"color:red;\">${err}</div>`;\n",
       "      throw err;\n",
       "    }\n",
       "\n",
       "    function displayChart(vegaEmbed) {\n",
       "      vegaEmbed(outputDiv, spec, embedOpt)\n",
       "        .catch(err => showError(`Javascript Error: ${err.message}<br>This usually means there's a typo in your chart specification. See the javascript console for the full traceback.`));\n",
       "    }\n",
       "\n",
       "    if(typeof define === \"function\" && define.amd) {\n",
       "      requirejs.config({paths});\n",
       "      require([\"vega-embed\"], displayChart, err => showError(`Error loading script: ${err.message}`));\n",
       "    } else {\n",
       "      maybeLoadScript(\"vega\", \"5\")\n",
       "        .then(() => maybeLoadScript(\"vega-lite\", \"5.8.0\"))\n",
       "        .then(() => maybeLoadScript(\"vega-embed\", \"6\"))\n",
       "        .catch(showError)\n",
       "        .then(() => displayChart(vegaEmbed));\n",
       "    }\n",
       "  })({\"config\": {\"view\": {\"continuousWidth\": 300, \"continuousHeight\": 300}}, \"data\": {\"name\": \"data-040565ddea29f40a6377f5592f7f1ac5\"}, \"mark\": {\"type\": \"bar\"}, \"encoding\": {\"color\": {\"field\": \"stock\", \"type\": \"nominal\"}, \"order\": {\"field\": \"stock\", \"sort\": \"ascending\", \"type\": \"nominal\"}, \"x\": {\"axis\": null, \"field\": \"run\", \"type\": \"ordinal\"}, \"y\": {\"field\": \"weight\", \"title\": \"% weight\", \"type\": \"quantitative\"}}, \"title\": \"Proportion of portfolio weight by stock\", \"width\": 500, \"$schema\": \"https://vega.github.io/schema/vega-lite/v5.8.0.json\", \"datasets\": {\"data-040565ddea29f40a6377f5592f7f1ac5\": [{\"stock\": \"AAPL\", \"run\": 0, \"weight\": 0.014527943033120973}, {\"stock\": \"ABBV\", \"run\": 0, \"weight\": 0.008720844063308041}, {\"stock\": \"AMZN\", \"run\": 0, \"weight\": 0.1622581293905402}, {\"stock\": \"DB\", \"run\": 0, \"weight\": 1.3499688328908759e-09}, {\"stock\": \"DIS\", \"run\": 0, \"weight\": 0.22115637465980342}, {\"stock\": \"FB\", \"run\": 0, \"weight\": 0.17327118054354576}, {\"stock\": \"GOOG\", \"run\": 0, \"weight\": 0.11685356486187493}, {\"stock\": \"HAL\", \"run\": 0, \"weight\": 0.055314003207201846}, {\"stock\": \"HSBC\", \"run\": 0, \"weight\": 0.2478979588906356}, {\"stock\": \"AAPL\", \"run\": 1, \"weight\": 3.2160608092579177e-07}, {\"stock\": \"ABBV\", \"run\": 1, \"weight\": 5.665491615256561e-09}, {\"stock\": \"AMZN\", \"run\": 1, \"weight\": 0.16254820972986153}, {\"stock\": \"DB\", \"run\": 1, \"weight\": 2.895618468524488e-09}, {\"stock\": \"DIS\", \"run\": 1, \"weight\": 0.09411871359300414}, {\"stock\": \"FB\", \"run\": 1, \"weight\": 0.1065784240793786}, {\"stock\": \"GOOG\", \"run\": 1, \"weight\": 0.16804037623469606}, {\"stock\": \"HAL\", \"run\": 1, \"weight\": 0.12557384765647106}, {\"stock\": \"HSBC\", \"run\": 1, \"weight\": 0.3431400985393996}, {\"stock\": \"AAPL\", \"run\": 2, \"weight\": 0.06570779233852649}, {\"stock\": \"ABBV\", \"run\": 2, \"weight\": 1.299378749642016e-08}, {\"stock\": \"AMZN\", \"run\": 2, \"weight\": 0.1978305497892354}, {\"stock\": \"DB\", \"run\": 2, \"weight\": 1.6234391789814261e-09}, {\"stock\": \"DIS\", \"run\": 2, \"weight\": 0.22757514114954136}, {\"stock\": \"FB\", \"run\": 2, \"weight\": 0.03411233822590483}, {\"stock\": \"GOOG\", \"run\": 2, \"weight\": 0.12575200086286015}, {\"stock\": \"HAL\", \"run\": 2, \"weight\": 0.054610072975686715}, {\"stock\": \"HSBC\", \"run\": 2, \"weight\": 0.2944120900410183}, {\"stock\": \"AAPL\", \"run\": 3, \"weight\": 3.046136436694637e-08}, {\"stock\": \"ABBV\", \"run\": 3, \"weight\": 1.4344376374683447e-06}, {\"stock\": \"AMZN\", \"run\": 3, \"weight\": 0.11743379788863381}, {\"stock\": \"DB\", \"run\": 3, \"weight\": 2.3534355553451447e-09}, {\"stock\": \"DIS\", \"run\": 3, \"weight\": 0.42163584145907573}, {\"stock\": \"FB\", \"run\": 3, \"weight\": 0.15730539070478755}, {\"stock\": \"GOOG\", \"run\": 3, \"weight\": 0.2076229482926446}, {\"stock\": \"HAL\", \"run\": 3, \"weight\": 2.5020966081061916e-07}, {\"stock\": \"HSBC\", \"run\": 3, \"weight\": 0.0960003041927602}, {\"stock\": \"AAPL\", \"run\": 4, \"weight\": 9.793408562496946e-10}, {\"stock\": \"ABBV\", \"run\": 4, \"weight\": 0.1306744360155847}, {\"stock\": \"AMZN\", \"run\": 4, \"weight\": 0.2710419039625288}, {\"stock\": \"DB\", \"run\": 4, \"weight\": 1.9983310428187087e-09}, {\"stock\": \"DIS\", \"run\": 4, \"weight\": 0.2228687719903656}, {\"stock\": \"FB\", \"run\": 4, \"weight\": 1.0169627471770718e-08}, {\"stock\": \"GOOG\", \"run\": 4, \"weight\": 0.1369543302657301}, {\"stock\": \"HAL\", \"run\": 4, \"weight\": 9.519446322143679e-09}, {\"stock\": \"HSBC\", \"run\": 4, \"weight\": 0.23846053509904516}, {\"stock\": \"AAPL\", \"run\": 5, \"weight\": 0.11902650405319902}, {\"stock\": \"ABBV\", \"run\": 5, \"weight\": 0.03838917535004085}, {\"stock\": \"AMZN\", \"run\": 5, \"weight\": 0.2247617696540512}, {\"stock\": \"DB\", \"run\": 5, \"weight\": 6.855293024967629e-09}, {\"stock\": \"DIS\", \"run\": 5, \"weight\": 0.25157133540007803}, {\"stock\": \"FB\", \"run\": 5, \"weight\": 0.02165923021265358}, {\"stock\": \"GOOG\", \"run\": 5, \"weight\": 0.0832232243175534}, {\"stock\": \"HAL\", \"run\": 5, \"weight\": 3.5542637476221755e-09}, {\"stock\": \"HSBC\", \"run\": 5, \"weight\": 0.2613687506028673}, {\"stock\": \"AAPL\", \"run\": 6, \"weight\": 0.02459928067899033}, {\"stock\": \"ABBV\", \"run\": 6, \"weight\": 0.016320088727171198}, {\"stock\": \"AMZN\", \"run\": 6, \"weight\": 0.14831217956102521}, {\"stock\": \"DB\", \"run\": 6, \"weight\": 2.1183023343105356e-09}, {\"stock\": \"DIS\", \"run\": 6, \"weight\": 0.20773573879310947}, {\"stock\": \"FB\", \"run\": 6, \"weight\": 0.1668566018471158}, {\"stock\": \"GOOG\", \"run\": 6, \"weight\": 0.05273339495601195}, {\"stock\": \"HAL\", \"run\": 6, \"weight\": 2.909705311739017e-09}, {\"stock\": \"HSBC\", \"run\": 6, \"weight\": 0.3834427104085685}]}}, {\"mode\": \"vega-lite\"});\n",
       "</script>"
      ],
      "text/plain": [
       "alt.Chart(...)"
      ]
     },
     "execution_count": 1711,
     "metadata": {},
     "output_type": "execute_result"
    }
   ],
   "source": [
    "chart_035_3"
   ]
  },
  {
   "cell_type": "markdown",
   "metadata": {},
   "source": [
    "Interestingly at 0.35 the model selects AMZN more than other stocks which was previously unidentified. Because the lower Kappa demands higher robustness, the model may be selecting more diversified activity from AMZN than in lower robustness models. This may include the 3FF factors, size, value, and market risk. Additionally, AMZN showed low overall correlation with other stocks and high variance which indicates strong independent robustness for the stock. "
   ]
  },
  {
   "cell_type": "markdown",
   "metadata": {},
   "source": [
    "# Sentiment indicator PNlog factor model"
   ]
  },
  {
   "cell_type": "code",
   "execution_count": 1712,
   "metadata": {},
   "outputs": [],
   "source": [
    "# Use Sentiment index for training\n",
    "F_PNlog_trn = SentIndx.iloc[0:T_trn].to_frame()  # Convert series to dataframe\n",
    "\n",
    "# Add a constant column to the factors for the intercept term\n",
    "F_PNlog_trn.insert(0, 'ones', 1)\n",
    "\n",
    "# Fit the model: X_trn ~ alpha + beta * SentIndx\n",
    "Gamma_PNlog = pd.DataFrame(solve(F_PNlog_trn.T @ F_PNlog_trn, F_PNlog_trn.T.to_numpy() @ X_trn.to_numpy()).T, columns=[\"alpha\", \"beta\"])\n",
    "alpha_PNlog = Gamma_PNlog[\"alpha\"]\n",
    "B_PNlog = Gamma_PNlog[[\"beta\"]]\n",
    "E_PNlog = pd.DataFrame((X_trn.T - Gamma_PNlog.to_numpy() @ F_PNlog_trn.to_numpy().T).T, index=X_trn.index)\n",
    "Psi_PNlog = (E_PNlog.T @ E_PNlog) / (T_trn - 2)\n"
   ]
  },
  {
   "cell_type": "code",
   "execution_count": 1713,
   "metadata": {},
   "outputs": [],
   "source": [
    "# Ensure F_PNlog_trn only includes the factors for the sentiment model (including the intercept)\n",
    "F_PNlog_trn = F_PNlog_trn.drop(columns=['ones'])  \n",
    "\n",
    "# Compute the covariance matrix of the factor returns\n",
    "cov_factors = F_PNlog_trn.cov()\n",
    "\n",
    "# Compute Sigma_PNlog\n",
    "Sigma_PNlog = B_PNlog.to_numpy() @ cov_factors.to_numpy() @ B_PNlog.to_numpy().T + np.diag(np.diag(Psi_PNlog))\n"
   ]
  },
  {
   "cell_type": "markdown",
   "metadata": {},
   "source": [
    "## K=0.95"
   ]
  },
  {
   "cell_type": "code",
   "execution_count": 1714,
   "metadata": {},
   "outputs": [],
   "source": [
    "kappa = 0.95\n",
    "\n",
    "mu = X.mean(axis=0)\n",
    "GMRP_robust_PNlog = portfolioMaxReturnRobustEllipsoid(mu, Sigma_PNlog, kappa)\n",
    "GMRP_robust_PNlog_df = pd.DataFrame(GMRP_robust_PNlog)\n",
    "GMRP_robust_PNlog_df['stock'] = X_trn.columns\n",
    "GMRP_robust_PNlog_df.columns = ['w', 'stock']\n",
    "\n",
    "# Plot the results\n",
    "chart_095_1 = alt.Chart(GMRP_robust_PNlog_df).mark_bar(color='blue').encode(\n",
    "    x='stock:N',\n",
    "    y='w:Q'\n",
    ").properties(\n",
    "    title='Proportion of Portfolio Weight by Stock and Noisy Run for kappa=0.95'\n",
    ")\n"
   ]
  },
  {
   "cell_type": "code",
   "execution_count": 1715,
   "metadata": {},
   "outputs": [
    {
     "name": "stderr",
     "output_type": "stream",
     "text": [
      "/opt/anaconda3/lib/python3.11/site-packages/altair/utils/core.py:395: FutureWarning: the convert_dtype parameter is deprecated and will be removed in a future version.  Do ``ser.astype(object).apply()`` instead if you want ``convert_dtype=False``.\n",
      "  col = df[col_name].apply(to_list_if_array, convert_dtype=False)\n"
     ]
    },
    {
     "data": {
      "text/html": [
       "\n",
       "<style>\n",
       "  #altair-viz-0b2e9c0d72624c589e375c3c4b9dd4fa.vega-embed {\n",
       "    width: 100%;\n",
       "    display: flex;\n",
       "  }\n",
       "\n",
       "  #altair-viz-0b2e9c0d72624c589e375c3c4b9dd4fa.vega-embed details,\n",
       "  #altair-viz-0b2e9c0d72624c589e375c3c4b9dd4fa.vega-embed details summary {\n",
       "    position: relative;\n",
       "  }\n",
       "</style>\n",
       "<div id=\"altair-viz-0b2e9c0d72624c589e375c3c4b9dd4fa\"></div>\n",
       "<script type=\"text/javascript\">\n",
       "  var VEGA_DEBUG = (typeof VEGA_DEBUG == \"undefined\") ? {} : VEGA_DEBUG;\n",
       "  (function(spec, embedOpt){\n",
       "    let outputDiv = document.currentScript.previousElementSibling;\n",
       "    if (outputDiv.id !== \"altair-viz-0b2e9c0d72624c589e375c3c4b9dd4fa\") {\n",
       "      outputDiv = document.getElementById(\"altair-viz-0b2e9c0d72624c589e375c3c4b9dd4fa\");\n",
       "    }\n",
       "    const paths = {\n",
       "      \"vega\": \"https://cdn.jsdelivr.net/npm/vega@5?noext\",\n",
       "      \"vega-lib\": \"https://cdn.jsdelivr.net/npm/vega-lib?noext\",\n",
       "      \"vega-lite\": \"https://cdn.jsdelivr.net/npm/vega-lite@5.8.0?noext\",\n",
       "      \"vega-embed\": \"https://cdn.jsdelivr.net/npm/vega-embed@6?noext\",\n",
       "    };\n",
       "\n",
       "    function maybeLoadScript(lib, version) {\n",
       "      var key = `${lib.replace(\"-\", \"\")}_version`;\n",
       "      return (VEGA_DEBUG[key] == version) ?\n",
       "        Promise.resolve(paths[lib]) :\n",
       "        new Promise(function(resolve, reject) {\n",
       "          var s = document.createElement('script');\n",
       "          document.getElementsByTagName(\"head\")[0].appendChild(s);\n",
       "          s.async = true;\n",
       "          s.onload = () => {\n",
       "            VEGA_DEBUG[key] = version;\n",
       "            return resolve(paths[lib]);\n",
       "          };\n",
       "          s.onerror = () => reject(`Error loading script: ${paths[lib]}`);\n",
       "          s.src = paths[lib];\n",
       "        });\n",
       "    }\n",
       "\n",
       "    function showError(err) {\n",
       "      outputDiv.innerHTML = `<div class=\"error\" style=\"color:red;\">${err}</div>`;\n",
       "      throw err;\n",
       "    }\n",
       "\n",
       "    function displayChart(vegaEmbed) {\n",
       "      vegaEmbed(outputDiv, spec, embedOpt)\n",
       "        .catch(err => showError(`Javascript Error: ${err.message}<br>This usually means there's a typo in your chart specification. See the javascript console for the full traceback.`));\n",
       "    }\n",
       "\n",
       "    if(typeof define === \"function\" && define.amd) {\n",
       "      requirejs.config({paths});\n",
       "      require([\"vega-embed\"], displayChart, err => showError(`Error loading script: ${err.message}`));\n",
       "    } else {\n",
       "      maybeLoadScript(\"vega\", \"5\")\n",
       "        .then(() => maybeLoadScript(\"vega-lite\", \"5.8.0\"))\n",
       "        .then(() => maybeLoadScript(\"vega-embed\", \"6\"))\n",
       "        .catch(showError)\n",
       "        .then(() => displayChart(vegaEmbed));\n",
       "    }\n",
       "  })({\"config\": {\"view\": {\"continuousWidth\": 300, \"continuousHeight\": 300}}, \"data\": {\"name\": \"data-f731f7989434c7a498266379419f8b14\"}, \"mark\": {\"type\": \"bar\", \"color\": \"blue\"}, \"encoding\": {\"x\": {\"field\": \"stock\", \"type\": \"nominal\"}, \"y\": {\"field\": \"w\", \"type\": \"quantitative\"}}, \"title\": \"Proportion of Portfolio Weight by Stock and Noisy Run for kappa=0.95\", \"$schema\": \"https://vega.github.io/schema/vega-lite/v5.8.0.json\", \"datasets\": {\"data-f731f7989434c7a498266379419f8b14\": [{\"w\": 0.11302205011338093, \"stock\": \"AAPL\"}, {\"w\": 0.07693110161646347, \"stock\": \"ABBV\"}, {\"w\": 0.09521639774955384, \"stock\": \"AMZN\"}, {\"w\": 0.061880053723269116, \"stock\": \"DB\"}, {\"w\": 0.15750064934729158, \"stock\": \"DIS\"}, {\"w\": 0.13486637742644225, \"stock\": \"FB\"}, {\"w\": 0.10888657339831377, \"stock\": \"GOOG\"}, {\"w\": 0.07342473492885797, \"stock\": \"HAL\"}, {\"w\": 0.17827206169642715, \"stock\": \"HSBC\"}]}}, {\"mode\": \"vega-lite\"});\n",
       "</script>"
      ],
      "text/plain": [
       "alt.Chart(...)"
      ]
     },
     "execution_count": 1715,
     "metadata": {},
     "output_type": "execute_result"
    }
   ],
   "source": [
    "chart_095_1"
   ]
  },
  {
   "cell_type": "code",
   "execution_count": 1716,
   "metadata": {},
   "outputs": [],
   "source": [
    "# Robust Noisy Solution\n",
    "w_all_GMRP_robust_ellipsoid = np.expand_dims(GMRP_robust_PNlog, axis=1)\n",
    "\n",
    "np.random.seed(100)\n",
    "for i in range(6):\n",
    "    X_noisy = pd.DataFrame(np.random.multivariate_normal(mu, Sigma_PNlog, size=T))\n",
    "    mu_noisy = X_noisy.mean(axis=0)\n",
    "    Sigma_noisy = X_noisy.cov()\n",
    "    if not is_pos_def(Sigma_noisy, 0.001):\n",
    "      Sigma_noisy = cov_nearest(Sigma_noisy)\n",
    "    w_GMRP_robust_ellipsoid_noisy = portfolioMaxReturnRobustEllipsoid(mu_noisy, Sigma_noisy, kappa)\n",
    "    w_all_GMRP_robust_ellipsoid = np.concatenate((w_all_GMRP_robust_ellipsoid,\n",
    "                                                   np.expand_dims(w_GMRP_robust_ellipsoid_noisy, axis=1)), axis=1)\n",
    "\n",
    "w_all_GMRP_robust_ellipsoid = pd.DataFrame(w_all_GMRP_robust_ellipsoid)\n",
    "w_all_GMRP_robust_ellipsoid[\"stock\"] = X_trn.columns\n",
    "\n",
    "long_w_all_GMRP_robust_ellipsoid = pd.melt(\n",
    "    w_all_GMRP_robust_ellipsoid,\n",
    "    id_vars=['stock'],\n",
    "    var_name='run',\n",
    "    value_name='weight')\n",
    "\n",
    "chart_095_2 = alt.Chart(long_w_all_GMRP_robust_ellipsoid).transform_calculate(\n",
    "    Stock_Run=\"datum.stock + ' - ' + datum.run\"  # Concatenating stock and run labels\n",
    ").mark_bar(size=10, color='red').encode(\n",
    "    x=alt.X('Stock_Run:O', axis=alt.Axis(title='Stock - Run')),  # Use the calculated concatenation\n",
    "    y=alt.Y('weight:Q', axis=alt.Axis(title='Portfolio Weight'))\n",
    ").properties(\n",
    "    width=800,\n",
    "    height=300,\n",
    "    title='Portfolio weight by stock and noisy run'\n",
    ")"
   ]
  },
  {
   "cell_type": "code",
   "execution_count": 1717,
   "metadata": {},
   "outputs": [
    {
     "name": "stderr",
     "output_type": "stream",
     "text": [
      "/opt/anaconda3/lib/python3.11/site-packages/altair/utils/core.py:395: FutureWarning: the convert_dtype parameter is deprecated and will be removed in a future version.  Do ``ser.astype(object).apply()`` instead if you want ``convert_dtype=False``.\n",
      "  col = df[col_name].apply(to_list_if_array, convert_dtype=False)\n",
      "/opt/anaconda3/lib/python3.11/site-packages/altair/utils/core.py:395: FutureWarning: the convert_dtype parameter is deprecated and will be removed in a future version.  Do ``ser.astype(object).apply()`` instead if you want ``convert_dtype=False``.\n",
      "  col = df[col_name].apply(to_list_if_array, convert_dtype=False)\n"
     ]
    },
    {
     "data": {
      "text/html": [
       "\n",
       "<style>\n",
       "  #altair-viz-eba2ca007203466db500ca3471d172c0.vega-embed {\n",
       "    width: 100%;\n",
       "    display: flex;\n",
       "  }\n",
       "\n",
       "  #altair-viz-eba2ca007203466db500ca3471d172c0.vega-embed details,\n",
       "  #altair-viz-eba2ca007203466db500ca3471d172c0.vega-embed details summary {\n",
       "    position: relative;\n",
       "  }\n",
       "</style>\n",
       "<div id=\"altair-viz-eba2ca007203466db500ca3471d172c0\"></div>\n",
       "<script type=\"text/javascript\">\n",
       "  var VEGA_DEBUG = (typeof VEGA_DEBUG == \"undefined\") ? {} : VEGA_DEBUG;\n",
       "  (function(spec, embedOpt){\n",
       "    let outputDiv = document.currentScript.previousElementSibling;\n",
       "    if (outputDiv.id !== \"altair-viz-eba2ca007203466db500ca3471d172c0\") {\n",
       "      outputDiv = document.getElementById(\"altair-viz-eba2ca007203466db500ca3471d172c0\");\n",
       "    }\n",
       "    const paths = {\n",
       "      \"vega\": \"https://cdn.jsdelivr.net/npm/vega@5?noext\",\n",
       "      \"vega-lib\": \"https://cdn.jsdelivr.net/npm/vega-lib?noext\",\n",
       "      \"vega-lite\": \"https://cdn.jsdelivr.net/npm/vega-lite@5.8.0?noext\",\n",
       "      \"vega-embed\": \"https://cdn.jsdelivr.net/npm/vega-embed@6?noext\",\n",
       "    };\n",
       "\n",
       "    function maybeLoadScript(lib, version) {\n",
       "      var key = `${lib.replace(\"-\", \"\")}_version`;\n",
       "      return (VEGA_DEBUG[key] == version) ?\n",
       "        Promise.resolve(paths[lib]) :\n",
       "        new Promise(function(resolve, reject) {\n",
       "          var s = document.createElement('script');\n",
       "          document.getElementsByTagName(\"head\")[0].appendChild(s);\n",
       "          s.async = true;\n",
       "          s.onload = () => {\n",
       "            VEGA_DEBUG[key] = version;\n",
       "            return resolve(paths[lib]);\n",
       "          };\n",
       "          s.onerror = () => reject(`Error loading script: ${paths[lib]}`);\n",
       "          s.src = paths[lib];\n",
       "        });\n",
       "    }\n",
       "\n",
       "    function showError(err) {\n",
       "      outputDiv.innerHTML = `<div class=\"error\" style=\"color:red;\">${err}</div>`;\n",
       "      throw err;\n",
       "    }\n",
       "\n",
       "    function displayChart(vegaEmbed) {\n",
       "      vegaEmbed(outputDiv, spec, embedOpt)\n",
       "        .catch(err => showError(`Javascript Error: ${err.message}<br>This usually means there's a typo in your chart specification. See the javascript console for the full traceback.`));\n",
       "    }\n",
       "\n",
       "    if(typeof define === \"function\" && define.amd) {\n",
       "      requirejs.config({paths});\n",
       "      require([\"vega-embed\"], displayChart, err => showError(`Error loading script: ${err.message}`));\n",
       "    } else {\n",
       "      maybeLoadScript(\"vega\", \"5\")\n",
       "        .then(() => maybeLoadScript(\"vega-lite\", \"5.8.0\"))\n",
       "        .then(() => maybeLoadScript(\"vega-embed\", \"6\"))\n",
       "        .catch(showError)\n",
       "        .then(() => displayChart(vegaEmbed));\n",
       "    }\n",
       "  })({\"config\": {\"view\": {\"continuousWidth\": 300, \"continuousHeight\": 300}}, \"data\": {\"name\": \"data-5263d75154684bfa2baccb5a6f738967\"}, \"mark\": {\"type\": \"bar\", \"color\": \"red\", \"size\": 10}, \"encoding\": {\"x\": {\"axis\": {\"title\": \"Stock - Run\"}, \"field\": \"Stock_Run\", \"type\": \"ordinal\"}, \"y\": {\"axis\": {\"title\": \"Portfolio Weight\"}, \"field\": \"weight\", \"type\": \"quantitative\"}}, \"height\": 300, \"title\": \"Portfolio weight by stock and noisy run\", \"transform\": [{\"calculate\": \"datum.stock + ' - ' + datum.run\", \"as\": \"Stock_Run\"}], \"width\": 800, \"$schema\": \"https://vega.github.io/schema/vega-lite/v5.8.0.json\", \"datasets\": {\"data-5263d75154684bfa2baccb5a6f738967\": [{\"stock\": \"AAPL\", \"run\": 0, \"weight\": 0.11302205011338093}, {\"stock\": \"ABBV\", \"run\": 0, \"weight\": 0.07693110161646347}, {\"stock\": \"AMZN\", \"run\": 0, \"weight\": 0.09521639774955384}, {\"stock\": \"DB\", \"run\": 0, \"weight\": 0.061880053723269116}, {\"stock\": \"DIS\", \"run\": 0, \"weight\": 0.15750064934729158}, {\"stock\": \"FB\", \"run\": 0, \"weight\": 0.13486637742644225}, {\"stock\": \"GOOG\", \"run\": 0, \"weight\": 0.10888657339831377}, {\"stock\": \"HAL\", \"run\": 0, \"weight\": 0.07342473492885797}, {\"stock\": \"HSBC\", \"run\": 0, \"weight\": 0.17827206169642715}, {\"stock\": \"AAPL\", \"run\": 1, \"weight\": 0.09139974979493033}, {\"stock\": \"ABBV\", \"run\": 1, \"weight\": 0.0877581936635663}, {\"stock\": \"AMZN\", \"run\": 1, \"weight\": 0.10893572290972516}, {\"stock\": \"DB\", \"run\": 1, \"weight\": 0.04507904502263883}, {\"stock\": \"DIS\", \"run\": 1, \"weight\": 0.15590322996196776}, {\"stock\": \"FB\", \"run\": 1, \"weight\": 0.1321407813302613}, {\"stock\": \"GOOG\", \"run\": 1, \"weight\": 0.10584643423626114}, {\"stock\": \"HAL\", \"run\": 1, \"weight\": 0.055391891159641764}, {\"stock\": \"HSBC\", \"run\": 1, \"weight\": 0.21754495192100742}, {\"stock\": \"AAPL\", \"run\": 2, \"weight\": 0.11146181497308129}, {\"stock\": \"ABBV\", \"run\": 2, \"weight\": 0.07700274084588457}, {\"stock\": \"AMZN\", \"run\": 2, \"weight\": 0.08635155952147018}, {\"stock\": \"DB\", \"run\": 2, \"weight\": 0.013567125773773064}, {\"stock\": \"DIS\", \"run\": 2, \"weight\": 0.18582794540816278}, {\"stock\": \"FB\", \"run\": 2, \"weight\": 0.13565290229466587}, {\"stock\": \"GOOG\", \"run\": 2, \"weight\": 0.1508364155343061}, {\"stock\": \"HAL\", \"run\": 2, \"weight\": 0.06500754581096745}, {\"stock\": \"HSBC\", \"run\": 2, \"weight\": 0.17429194983768861}, {\"stock\": \"AAPL\", \"run\": 3, \"weight\": 0.09600517446733528}, {\"stock\": \"ABBV\", \"run\": 3, \"weight\": 0.051145386287213844}, {\"stock\": \"AMZN\", \"run\": 3, \"weight\": 0.11462412015362898}, {\"stock\": \"DB\", \"run\": 3, \"weight\": 0.04243750074886867}, {\"stock\": \"DIS\", \"run\": 3, \"weight\": 0.2102981500420729}, {\"stock\": \"FB\", \"run\": 3, \"weight\": 0.1348648679721446}, {\"stock\": \"GOOG\", \"run\": 3, \"weight\": 0.13536875096051412}, {\"stock\": \"HAL\", \"run\": 3, \"weight\": 0.05273420430325408}, {\"stock\": \"HSBC\", \"run\": 3, \"weight\": 0.1625218450649675}, {\"stock\": \"AAPL\", \"run\": 4, \"weight\": 0.10752529256606778}, {\"stock\": \"ABBV\", \"run\": 4, \"weight\": 0.0835443982248271}, {\"stock\": \"AMZN\", \"run\": 4, \"weight\": 0.11426017436352878}, {\"stock\": \"DB\", \"run\": 4, \"weight\": 0.025258219532501933}, {\"stock\": \"DIS\", \"run\": 4, \"weight\": 0.14209973190929878}, {\"stock\": \"FB\", \"run\": 4, \"weight\": 0.15606354288898125}, {\"stock\": \"GOOG\", \"run\": 4, \"weight\": 0.11941166744900576}, {\"stock\": \"HAL\", \"run\": 4, \"weight\": 0.0673222740292287}, {\"stock\": \"HSBC\", \"run\": 4, \"weight\": 0.18451469903655993}, {\"stock\": \"AAPL\", \"run\": 5, \"weight\": 0.09898137115886943}, {\"stock\": \"ABBV\", \"run\": 5, \"weight\": 0.07549664926710067}, {\"stock\": \"AMZN\", \"run\": 5, \"weight\": 0.12986060646196326}, {\"stock\": \"DB\", \"run\": 5, \"weight\": 0.05814887566694756}, {\"stock\": \"DIS\", \"run\": 5, \"weight\": 0.17646392613515352}, {\"stock\": \"FB\", \"run\": 5, \"weight\": 0.1518093566924418}, {\"stock\": \"GOOG\", \"run\": 5, \"weight\": 0.07250316927842439}, {\"stock\": \"HAL\", \"run\": 5, \"weight\": 0.07136063824246824}, {\"stock\": \"HSBC\", \"run\": 5, \"weight\": 0.16537540709663126}, {\"stock\": \"AAPL\", \"run\": 6, \"weight\": 0.10817060656387566}, {\"stock\": \"ABBV\", \"run\": 6, \"weight\": 0.061345230067922106}, {\"stock\": \"AMZN\", \"run\": 6, \"weight\": 0.09488742093375314}, {\"stock\": \"DB\", \"run\": 6, \"weight\": 0.05256284788832293}, {\"stock\": \"DIS\", \"run\": 6, \"weight\": 0.16832815346409336}, {\"stock\": \"FB\", \"run\": 6, \"weight\": 0.1489237404140185}, {\"stock\": \"GOOG\", \"run\": 6, \"weight\": 0.08709001243661213}, {\"stock\": \"HAL\", \"run\": 6, \"weight\": 0.07304223824519328}, {\"stock\": \"HSBC\", \"run\": 6, \"weight\": 0.20564974998620889}]}}, {\"mode\": \"vega-lite\"});\n",
       "</script>"
      ],
      "text/plain": [
       "alt.Chart(...)"
      ]
     },
     "execution_count": 1717,
     "metadata": {},
     "output_type": "execute_result"
    }
   ],
   "source": [
    "chart_095_2"
   ]
  },
  {
   "cell_type": "code",
   "execution_count": 1718,
   "metadata": {},
   "outputs": [],
   "source": [
    "chart_095_3=alt.Chart(long_w_all_GMRP_robust_ellipsoid).mark_bar().encode(\n",
    "    x=alt.X('run:O', axis=alt.Axis(title='Run Index', labels=True)), \n",
    "    y=alt.Y('weight:Q', title='% Weight', sort='ascending'),\n",
    "    color=alt.Color('stock:N', scale=alt.Scale(scheme='tableau20'), legend=alt.Legend(title=\"Stock\")),\n",
    "    tooltip=[alt.Tooltip('run:N'), alt.Tooltip('stock:N'), alt.Tooltip('weight:Q')]\n",
    ").properties(\n",
    "    width=500, \n",
    "    title='Proportion of Portfolio Weight by Stock and Noisy Run for kappa=0.95'\n",
    ")"
   ]
  },
  {
   "cell_type": "code",
   "execution_count": 1719,
   "metadata": {},
   "outputs": [
    {
     "name": "stderr",
     "output_type": "stream",
     "text": [
      "/opt/anaconda3/lib/python3.11/site-packages/altair/utils/core.py:395: FutureWarning: the convert_dtype parameter is deprecated and will be removed in a future version.  Do ``ser.astype(object).apply()`` instead if you want ``convert_dtype=False``.\n",
      "  col = df[col_name].apply(to_list_if_array, convert_dtype=False)\n",
      "/opt/anaconda3/lib/python3.11/site-packages/altair/utils/core.py:395: FutureWarning: the convert_dtype parameter is deprecated and will be removed in a future version.  Do ``ser.astype(object).apply()`` instead if you want ``convert_dtype=False``.\n",
      "  col = df[col_name].apply(to_list_if_array, convert_dtype=False)\n"
     ]
    },
    {
     "data": {
      "text/html": [
       "\n",
       "<style>\n",
       "  #altair-viz-9bc16bc5ec9442ddb5ca5543ae90acdf.vega-embed {\n",
       "    width: 100%;\n",
       "    display: flex;\n",
       "  }\n",
       "\n",
       "  #altair-viz-9bc16bc5ec9442ddb5ca5543ae90acdf.vega-embed details,\n",
       "  #altair-viz-9bc16bc5ec9442ddb5ca5543ae90acdf.vega-embed details summary {\n",
       "    position: relative;\n",
       "  }\n",
       "</style>\n",
       "<div id=\"altair-viz-9bc16bc5ec9442ddb5ca5543ae90acdf\"></div>\n",
       "<script type=\"text/javascript\">\n",
       "  var VEGA_DEBUG = (typeof VEGA_DEBUG == \"undefined\") ? {} : VEGA_DEBUG;\n",
       "  (function(spec, embedOpt){\n",
       "    let outputDiv = document.currentScript.previousElementSibling;\n",
       "    if (outputDiv.id !== \"altair-viz-9bc16bc5ec9442ddb5ca5543ae90acdf\") {\n",
       "      outputDiv = document.getElementById(\"altair-viz-9bc16bc5ec9442ddb5ca5543ae90acdf\");\n",
       "    }\n",
       "    const paths = {\n",
       "      \"vega\": \"https://cdn.jsdelivr.net/npm/vega@5?noext\",\n",
       "      \"vega-lib\": \"https://cdn.jsdelivr.net/npm/vega-lib?noext\",\n",
       "      \"vega-lite\": \"https://cdn.jsdelivr.net/npm/vega-lite@5.8.0?noext\",\n",
       "      \"vega-embed\": \"https://cdn.jsdelivr.net/npm/vega-embed@6?noext\",\n",
       "    };\n",
       "\n",
       "    function maybeLoadScript(lib, version) {\n",
       "      var key = `${lib.replace(\"-\", \"\")}_version`;\n",
       "      return (VEGA_DEBUG[key] == version) ?\n",
       "        Promise.resolve(paths[lib]) :\n",
       "        new Promise(function(resolve, reject) {\n",
       "          var s = document.createElement('script');\n",
       "          document.getElementsByTagName(\"head\")[0].appendChild(s);\n",
       "          s.async = true;\n",
       "          s.onload = () => {\n",
       "            VEGA_DEBUG[key] = version;\n",
       "            return resolve(paths[lib]);\n",
       "          };\n",
       "          s.onerror = () => reject(`Error loading script: ${paths[lib]}`);\n",
       "          s.src = paths[lib];\n",
       "        });\n",
       "    }\n",
       "\n",
       "    function showError(err) {\n",
       "      outputDiv.innerHTML = `<div class=\"error\" style=\"color:red;\">${err}</div>`;\n",
       "      throw err;\n",
       "    }\n",
       "\n",
       "    function displayChart(vegaEmbed) {\n",
       "      vegaEmbed(outputDiv, spec, embedOpt)\n",
       "        .catch(err => showError(`Javascript Error: ${err.message}<br>This usually means there's a typo in your chart specification. See the javascript console for the full traceback.`));\n",
       "    }\n",
       "\n",
       "    if(typeof define === \"function\" && define.amd) {\n",
       "      requirejs.config({paths});\n",
       "      require([\"vega-embed\"], displayChart, err => showError(`Error loading script: ${err.message}`));\n",
       "    } else {\n",
       "      maybeLoadScript(\"vega\", \"5\")\n",
       "        .then(() => maybeLoadScript(\"vega-lite\", \"5.8.0\"))\n",
       "        .then(() => maybeLoadScript(\"vega-embed\", \"6\"))\n",
       "        .catch(showError)\n",
       "        .then(() => displayChart(vegaEmbed));\n",
       "    }\n",
       "  })({\"config\": {\"view\": {\"continuousWidth\": 300, \"continuousHeight\": 300}}, \"data\": {\"name\": \"data-5263d75154684bfa2baccb5a6f738967\"}, \"mark\": {\"type\": \"bar\"}, \"encoding\": {\"color\": {\"field\": \"stock\", \"legend\": {\"title\": \"Stock\"}, \"scale\": {\"scheme\": \"tableau20\"}, \"type\": \"nominal\"}, \"tooltip\": [{\"field\": \"run\", \"type\": \"nominal\"}, {\"field\": \"stock\", \"type\": \"nominal\"}, {\"field\": \"weight\", \"type\": \"quantitative\"}], \"x\": {\"axis\": {\"labels\": true, \"title\": \"Run Index\"}, \"field\": \"run\", \"type\": \"ordinal\"}, \"y\": {\"field\": \"weight\", \"sort\": \"ascending\", \"title\": \"% Weight\", \"type\": \"quantitative\"}}, \"title\": \"Proportion of Portfolio Weight by Stock and Noisy Run for kappa=0.95\", \"width\": 500, \"$schema\": \"https://vega.github.io/schema/vega-lite/v5.8.0.json\", \"datasets\": {\"data-5263d75154684bfa2baccb5a6f738967\": [{\"stock\": \"AAPL\", \"run\": 0, \"weight\": 0.11302205011338093}, {\"stock\": \"ABBV\", \"run\": 0, \"weight\": 0.07693110161646347}, {\"stock\": \"AMZN\", \"run\": 0, \"weight\": 0.09521639774955384}, {\"stock\": \"DB\", \"run\": 0, \"weight\": 0.061880053723269116}, {\"stock\": \"DIS\", \"run\": 0, \"weight\": 0.15750064934729158}, {\"stock\": \"FB\", \"run\": 0, \"weight\": 0.13486637742644225}, {\"stock\": \"GOOG\", \"run\": 0, \"weight\": 0.10888657339831377}, {\"stock\": \"HAL\", \"run\": 0, \"weight\": 0.07342473492885797}, {\"stock\": \"HSBC\", \"run\": 0, \"weight\": 0.17827206169642715}, {\"stock\": \"AAPL\", \"run\": 1, \"weight\": 0.09139974979493033}, {\"stock\": \"ABBV\", \"run\": 1, \"weight\": 0.0877581936635663}, {\"stock\": \"AMZN\", \"run\": 1, \"weight\": 0.10893572290972516}, {\"stock\": \"DB\", \"run\": 1, \"weight\": 0.04507904502263883}, {\"stock\": \"DIS\", \"run\": 1, \"weight\": 0.15590322996196776}, {\"stock\": \"FB\", \"run\": 1, \"weight\": 0.1321407813302613}, {\"stock\": \"GOOG\", \"run\": 1, \"weight\": 0.10584643423626114}, {\"stock\": \"HAL\", \"run\": 1, \"weight\": 0.055391891159641764}, {\"stock\": \"HSBC\", \"run\": 1, \"weight\": 0.21754495192100742}, {\"stock\": \"AAPL\", \"run\": 2, \"weight\": 0.11146181497308129}, {\"stock\": \"ABBV\", \"run\": 2, \"weight\": 0.07700274084588457}, {\"stock\": \"AMZN\", \"run\": 2, \"weight\": 0.08635155952147018}, {\"stock\": \"DB\", \"run\": 2, \"weight\": 0.013567125773773064}, {\"stock\": \"DIS\", \"run\": 2, \"weight\": 0.18582794540816278}, {\"stock\": \"FB\", \"run\": 2, \"weight\": 0.13565290229466587}, {\"stock\": \"GOOG\", \"run\": 2, \"weight\": 0.1508364155343061}, {\"stock\": \"HAL\", \"run\": 2, \"weight\": 0.06500754581096745}, {\"stock\": \"HSBC\", \"run\": 2, \"weight\": 0.17429194983768861}, {\"stock\": \"AAPL\", \"run\": 3, \"weight\": 0.09600517446733528}, {\"stock\": \"ABBV\", \"run\": 3, \"weight\": 0.051145386287213844}, {\"stock\": \"AMZN\", \"run\": 3, \"weight\": 0.11462412015362898}, {\"stock\": \"DB\", \"run\": 3, \"weight\": 0.04243750074886867}, {\"stock\": \"DIS\", \"run\": 3, \"weight\": 0.2102981500420729}, {\"stock\": \"FB\", \"run\": 3, \"weight\": 0.1348648679721446}, {\"stock\": \"GOOG\", \"run\": 3, \"weight\": 0.13536875096051412}, {\"stock\": \"HAL\", \"run\": 3, \"weight\": 0.05273420430325408}, {\"stock\": \"HSBC\", \"run\": 3, \"weight\": 0.1625218450649675}, {\"stock\": \"AAPL\", \"run\": 4, \"weight\": 0.10752529256606778}, {\"stock\": \"ABBV\", \"run\": 4, \"weight\": 0.0835443982248271}, {\"stock\": \"AMZN\", \"run\": 4, \"weight\": 0.11426017436352878}, {\"stock\": \"DB\", \"run\": 4, \"weight\": 0.025258219532501933}, {\"stock\": \"DIS\", \"run\": 4, \"weight\": 0.14209973190929878}, {\"stock\": \"FB\", \"run\": 4, \"weight\": 0.15606354288898125}, {\"stock\": \"GOOG\", \"run\": 4, \"weight\": 0.11941166744900576}, {\"stock\": \"HAL\", \"run\": 4, \"weight\": 0.0673222740292287}, {\"stock\": \"HSBC\", \"run\": 4, \"weight\": 0.18451469903655993}, {\"stock\": \"AAPL\", \"run\": 5, \"weight\": 0.09898137115886943}, {\"stock\": \"ABBV\", \"run\": 5, \"weight\": 0.07549664926710067}, {\"stock\": \"AMZN\", \"run\": 5, \"weight\": 0.12986060646196326}, {\"stock\": \"DB\", \"run\": 5, \"weight\": 0.05814887566694756}, {\"stock\": \"DIS\", \"run\": 5, \"weight\": 0.17646392613515352}, {\"stock\": \"FB\", \"run\": 5, \"weight\": 0.1518093566924418}, {\"stock\": \"GOOG\", \"run\": 5, \"weight\": 0.07250316927842439}, {\"stock\": \"HAL\", \"run\": 5, \"weight\": 0.07136063824246824}, {\"stock\": \"HSBC\", \"run\": 5, \"weight\": 0.16537540709663126}, {\"stock\": \"AAPL\", \"run\": 6, \"weight\": 0.10817060656387566}, {\"stock\": \"ABBV\", \"run\": 6, \"weight\": 0.061345230067922106}, {\"stock\": \"AMZN\", \"run\": 6, \"weight\": 0.09488742093375314}, {\"stock\": \"DB\", \"run\": 6, \"weight\": 0.05256284788832293}, {\"stock\": \"DIS\", \"run\": 6, \"weight\": 0.16832815346409336}, {\"stock\": \"FB\", \"run\": 6, \"weight\": 0.1489237404140185}, {\"stock\": \"GOOG\", \"run\": 6, \"weight\": 0.08709001243661213}, {\"stock\": \"HAL\", \"run\": 6, \"weight\": 0.07304223824519328}, {\"stock\": \"HSBC\", \"run\": 6, \"weight\": 0.20564974998620889}]}}, {\"mode\": \"vega-lite\"});\n",
       "</script>"
      ],
      "text/plain": [
       "alt.Chart(...)"
      ]
     },
     "execution_count": 1719,
     "metadata": {},
     "output_type": "execute_result"
    }
   ],
   "source": [
    "chart_095_3"
   ]
  },
  {
   "cell_type": "markdown",
   "metadata": {},
   "source": [
    "## K=0.7"
   ]
  },
  {
   "cell_type": "code",
   "execution_count": 1720,
   "metadata": {},
   "outputs": [],
   "source": [
    "kappa = 0.7\n",
    "\n",
    "GMRP_robust_PNlog = portfolioMaxReturnRobustEllipsoid(mu, Sigma_PNlog, kappa)\n",
    "GMRP_robust_PNlog_df = pd.DataFrame(GMRP_robust_PNlog)\n",
    "GMRP_robust_PNlog_df['stock'] = X_trn.columns\n",
    "GMRP_robust_PNlog_df.columns = ['w', 'stock']\n",
    "\n",
    "chart_07_1 = alt.Chart(GMRP_robust_PNlog_df).mark_bar(color='blue').encode(\n",
    "    x='stock:N',\n",
    "    y='w:Q'\n",
    ").properties(\n",
    "    title='Portwolio weight by stock for kappa=0.7'  \n",
    ")"
   ]
  },
  {
   "cell_type": "code",
   "execution_count": 1721,
   "metadata": {},
   "outputs": [],
   "source": [
    "# Robust Noisy Solution\n",
    "w_all_GMRP_robust_ellipsoid = np.expand_dims(GMRP_robust_PNlog, axis=1)\n",
    "\n",
    "np.random.seed(100)\n",
    "for i in range(6):\n",
    "    X_noisy = pd.DataFrame(np.random.multivariate_normal(mu, Sigma_PNlog, size=T))\n",
    "    mu_noisy = X_noisy.mean(axis=0)\n",
    "    Sigma_noisy = X_noisy.cov()\n",
    "    if not is_pos_def(Sigma_noisy, 0.001):\n",
    "      Sigma_noisy = cov_nearest(Sigma_noisy)\n",
    "    w_GMRP_robust_ellipsoid_noisy = portfolioMaxReturnRobustEllipsoid(mu_noisy, Sigma_noisy, kappa)\n",
    "    w_all_GMRP_robust_ellipsoid = np.concatenate((w_all_GMRP_robust_ellipsoid,\n",
    "                                                   np.expand_dims(w_GMRP_robust_ellipsoid_noisy, axis=1)), axis=1)\n",
    "\n",
    "w_all_GMRP_robust_ellipsoid = pd.DataFrame(w_all_GMRP_robust_ellipsoid)\n",
    "w_all_GMRP_robust_ellipsoid[\"stock\"] = X_trn.columns\n",
    "\n",
    "long_w_all_GMRP_robust_ellipsoid = pd.melt(\n",
    "    w_all_GMRP_robust_ellipsoid,\n",
    "    id_vars=['stock'],\n",
    "    var_name='run',\n",
    "    value_name='weight')\n",
    "\n",
    "chart_07_2=alt.Chart(long_w_all_GMRP_robust_ellipsoid).mark_bar(size=10, color='red').encode(\n",
    "    x=alt.X('run:O', axis=None),\n",
    "    y='weight:Q',\n",
    "    column=alt.Column('stock:N', spacing=2)\n",
    ").properties(width=125, title='Portfolilo weight by stock and noisy run')"
   ]
  },
  {
   "cell_type": "code",
   "execution_count": 1722,
   "metadata": {},
   "outputs": [],
   "source": [
    "chart_07_3=alt.Chart(long_w_all_GMRP_robust_ellipsoid).mark_bar().encode(\n",
    "    x=alt.X('run:O', axis=alt.Axis(title='Run Index', labels=True)), \n",
    "    y=alt.Y('weight:Q', title='% Weight', sort='ascending'),\n",
    "    color=alt.Color('stock:N', scale=alt.Scale(scheme='tableau20'), legend=alt.Legend(title=\"Stock\")),\n",
    "    tooltip=[alt.Tooltip('run:N'), alt.Tooltip('stock:N'), alt.Tooltip('weight:Q')]\n",
    ").properties(\n",
    "    width=500, \n",
    "    title='Proportion of Portfolio Weight by Stock and Noisy Run for kappa=0.7'\n",
    ")"
   ]
  },
  {
   "cell_type": "markdown",
   "metadata": {},
   "source": [
    "## K=0.35"
   ]
  },
  {
   "cell_type": "code",
   "execution_count": 1723,
   "metadata": {},
   "outputs": [],
   "source": [
    "kappa = 0.35\n",
    "\n",
    "GMRP_robust_PNlog = portfolioMaxReturnRobustEllipsoid(mu, Sigma_PNlog, kappa)\n",
    "GMRP_robust_PNlog_df = pd.DataFrame(GMRP_robust_PNlog)\n",
    "GMRP_robust_PNlog_df['stock'] = X_trn.columns\n",
    "GMRP_robust_PNlog_df.columns = ['w', 'stock']\n",
    "\n",
    "# Plot the results\n",
    "chart_035_1=alt.Chart(GMRP_robust_PNlog_df).mark_bar(color='blue').encode(\n",
    "    x='stock:N',\n",
    "    y='w:Q'\n",
    ").properties(\n",
    "    title='Proportion of Portfolio Weight by Stock and Noisy Run for kappa=0.35'\n",
    ")"
   ]
  },
  {
   "cell_type": "code",
   "execution_count": 1724,
   "metadata": {},
   "outputs": [],
   "source": [
    "# Robust Noisy Solution\n",
    "w_all_GMRP_robust_ellipsoid = np.expand_dims(GMRP_robust_PNlog, axis=1)\n",
    "\n",
    "np.random.seed(100)\n",
    "for i in range(6):\n",
    "    X_noisy = pd.DataFrame(np.random.multivariate_normal(mu, Sigma_PNlog, size=T))\n",
    "    mu_noisy = X_noisy.mean(axis=0)\n",
    "    Sigma_noisy = X_noisy.cov()\n",
    "    if not is_pos_def(Sigma_noisy, 0.001):\n",
    "      Sigma_noisy = cov_nearest(Sigma_noisy)\n",
    "    w_GMRP_robust_ellipsoid_noisy = portfolioMaxReturnRobustEllipsoid(mu_noisy, Sigma_noisy, kappa)\n",
    "    w_all_GMRP_robust_ellipsoid = np.concatenate((w_all_GMRP_robust_ellipsoid,\n",
    "                                                   np.expand_dims(w_GMRP_robust_ellipsoid_noisy, axis=1)), axis=1)\n",
    "\n",
    "w_all_GMRP_robust_ellipsoid = pd.DataFrame(w_all_GMRP_robust_ellipsoid)\n",
    "w_all_GMRP_robust_ellipsoid[\"stock\"] = X_trn.columns\n",
    "\n",
    "long_w_all_GMRP_robust_ellipsoid = pd.melt(\n",
    "    w_all_GMRP_robust_ellipsoid,\n",
    "    id_vars=['stock'],\n",
    "    var_name='run',\n",
    "    value_name='weight')\n",
    "\n",
    "chart_035_2=alt.Chart(long_w_all_GMRP_robust_ellipsoid).mark_bar(size=10, color='red').encode(\n",
    "    x=alt.X('run:O', axis=None),\n",
    "    y='weight:Q',\n",
    "    column=alt.Column('stock:N', spacing=2)\n",
    ").properties(width=125, title='Portfolilo weight by stock and noisy run')"
   ]
  },
  {
   "cell_type": "code",
   "execution_count": 1725,
   "metadata": {},
   "outputs": [],
   "source": [
    "chart_035_3=alt.Chart(long_w_all_GMRP_robust_ellipsoid).mark_bar().encode(\n",
    "    x=alt.X('run:O', axis=alt.Axis(title='Run Index', labels=True)), \n",
    "    y=alt.Y('weight:Q', title='% Weight', sort='ascending'),\n",
    "    color=alt.Color('stock:N', scale=alt.Scale(scheme='tableau20'), legend=alt.Legend(title=\"Stock\")),\n",
    "    tooltip=[alt.Tooltip('run:N'), alt.Tooltip('stock:N'), alt.Tooltip('weight:Q')]\n",
    ").properties(\n",
    "    width=500, \n",
    "    title='Proportion of Portfolio Weight by Stock and Noisy Run for kappa=0.35'\n",
    ")"
   ]
  },
  {
   "cell_type": "markdown",
   "metadata": {},
   "source": [
    "## K=0.1"
   ]
  },
  {
   "cell_type": "code",
   "execution_count": 1726,
   "metadata": {},
   "outputs": [],
   "source": [
    "kappa = 0.1\n",
    "\n",
    "GMRP_robust_PNlog = portfolioMaxReturnRobustEllipsoid(mu, Sigma_PNlog, kappa)\n",
    "GMRP_robust_PNlog_df = pd.DataFrame(GMRP_robust_PNlog)\n",
    "GMRP_robust_PNlog_df['stock'] = X_trn.columns\n",
    "GMRP_robust_PNlog_df.columns = ['w', 'stock']\n",
    "\n",
    "# Plot the results\n",
    "chart_01_1=alt.Chart(GMRP_robust_PNlog_df).mark_bar(color='blue').encode(\n",
    "    x='stock:N',\n",
    "    y='w:Q'\n",
    ").properties(\n",
    "    title='Proportion of Portfolio Weight by Stock and Noisy Run for kappa=0.1'\n",
    ")"
   ]
  },
  {
   "cell_type": "code",
   "execution_count": 1727,
   "metadata": {},
   "outputs": [],
   "source": [
    "# Robust Noisy Solution\n",
    "w_all_GMRP_robust_ellipsoid = np.expand_dims(GMRP_robust_PNlog, axis=1)\n",
    "\n",
    "np.random.seed(100)\n",
    "for i in range(6):\n",
    "    X_noisy = pd.DataFrame(np.random.multivariate_normal(mu, Sigma_PNlog, size=T))\n",
    "    mu_noisy = X_noisy.mean(axis=0)\n",
    "    Sigma_noisy = X_noisy.cov()\n",
    "    if not is_pos_def(Sigma_noisy, 0.001):\n",
    "      Sigma_noisy = cov_nearest(Sigma_noisy)\n",
    "    w_GMRP_robust_ellipsoid_noisy = portfolioMaxReturnRobustEllipsoid(mu_noisy, Sigma_noisy, kappa)\n",
    "    w_all_GMRP_robust_ellipsoid = np.concatenate((w_all_GMRP_robust_ellipsoid,\n",
    "                                                   np.expand_dims(w_GMRP_robust_ellipsoid_noisy, axis=1)), axis=1)\n",
    "\n",
    "w_all_GMRP_robust_ellipsoid = pd.DataFrame(w_all_GMRP_robust_ellipsoid)\n",
    "w_all_GMRP_robust_ellipsoid[\"stock\"] = X_trn.columns\n",
    "\n",
    "long_w_all_GMRP_robust_ellipsoid = pd.melt(\n",
    "    w_all_GMRP_robust_ellipsoid,\n",
    "    id_vars=['stock'],\n",
    "    var_name='run',\n",
    "    value_name='weight')\n",
    "\n",
    "chart_01_2=alt.Chart(long_w_all_GMRP_robust_ellipsoid).mark_bar(size=10, color='red').encode(\n",
    "    x=alt.X('run:O', axis=None),\n",
    "    y='weight:Q',\n",
    "    column=alt.Column('stock:N', spacing=2)\n",
    ").properties(width=125, title='Portfolilo weight by stock and noisy run')"
   ]
  },
  {
   "cell_type": "code",
   "execution_count": 1728,
   "metadata": {},
   "outputs": [],
   "source": [
    "chart_01_3=alt.Chart(long_w_all_GMRP_robust_ellipsoid).mark_bar().encode(\n",
    "    x=alt.X('run:O', axis=alt.Axis(title='Run Index', labels=True)), \n",
    "    y=alt.Y('weight:Q', title='% Weight', sort='ascending'),\n",
    "    color=alt.Color('stock:N', scale=alt.Scale(scheme='tableau20'), legend=alt.Legend(title=\"Stock\")),\n",
    "    tooltip=[alt.Tooltip('run:N'), alt.Tooltip('stock:N'), alt.Tooltip('weight:Q')]\n",
    ").properties(\n",
    "    width=500, \n",
    "    title='Proportion of Portfolio Weight by Stock and Noisy Run for kappa=0.1'\n",
    ")"
   ]
  },
  {
   "cell_type": "code",
   "execution_count": 1729,
   "metadata": {},
   "outputs": [
    {
     "name": "stderr",
     "output_type": "stream",
     "text": [
      "/opt/anaconda3/lib/python3.11/site-packages/altair/utils/core.py:395: FutureWarning: the convert_dtype parameter is deprecated and will be removed in a future version.  Do ``ser.astype(object).apply()`` instead if you want ``convert_dtype=False``.\n",
      "  col = df[col_name].apply(to_list_if_array, convert_dtype=False)\n",
      "/opt/anaconda3/lib/python3.11/site-packages/altair/utils/core.py:395: FutureWarning: the convert_dtype parameter is deprecated and will be removed in a future version.  Do ``ser.astype(object).apply()`` instead if you want ``convert_dtype=False``.\n",
      "  col = df[col_name].apply(to_list_if_array, convert_dtype=False)\n"
     ]
    },
    {
     "data": {
      "text/html": [
       "\n",
       "<style>\n",
       "  #altair-viz-0003ca7850834c9a8a5562d0a029c883.vega-embed {\n",
       "    width: 100%;\n",
       "    display: flex;\n",
       "  }\n",
       "\n",
       "  #altair-viz-0003ca7850834c9a8a5562d0a029c883.vega-embed details,\n",
       "  #altair-viz-0003ca7850834c9a8a5562d0a029c883.vega-embed details summary {\n",
       "    position: relative;\n",
       "  }\n",
       "</style>\n",
       "<div id=\"altair-viz-0003ca7850834c9a8a5562d0a029c883\"></div>\n",
       "<script type=\"text/javascript\">\n",
       "  var VEGA_DEBUG = (typeof VEGA_DEBUG == \"undefined\") ? {} : VEGA_DEBUG;\n",
       "  (function(spec, embedOpt){\n",
       "    let outputDiv = document.currentScript.previousElementSibling;\n",
       "    if (outputDiv.id !== \"altair-viz-0003ca7850834c9a8a5562d0a029c883\") {\n",
       "      outputDiv = document.getElementById(\"altair-viz-0003ca7850834c9a8a5562d0a029c883\");\n",
       "    }\n",
       "    const paths = {\n",
       "      \"vega\": \"https://cdn.jsdelivr.net/npm/vega@5?noext\",\n",
       "      \"vega-lib\": \"https://cdn.jsdelivr.net/npm/vega-lib?noext\",\n",
       "      \"vega-lite\": \"https://cdn.jsdelivr.net/npm/vega-lite@5.8.0?noext\",\n",
       "      \"vega-embed\": \"https://cdn.jsdelivr.net/npm/vega-embed@6?noext\",\n",
       "    };\n",
       "\n",
       "    function maybeLoadScript(lib, version) {\n",
       "      var key = `${lib.replace(\"-\", \"\")}_version`;\n",
       "      return (VEGA_DEBUG[key] == version) ?\n",
       "        Promise.resolve(paths[lib]) :\n",
       "        new Promise(function(resolve, reject) {\n",
       "          var s = document.createElement('script');\n",
       "          document.getElementsByTagName(\"head\")[0].appendChild(s);\n",
       "          s.async = true;\n",
       "          s.onload = () => {\n",
       "            VEGA_DEBUG[key] = version;\n",
       "            return resolve(paths[lib]);\n",
       "          };\n",
       "          s.onerror = () => reject(`Error loading script: ${paths[lib]}`);\n",
       "          s.src = paths[lib];\n",
       "        });\n",
       "    }\n",
       "\n",
       "    function showError(err) {\n",
       "      outputDiv.innerHTML = `<div class=\"error\" style=\"color:red;\">${err}</div>`;\n",
       "      throw err;\n",
       "    }\n",
       "\n",
       "    function displayChart(vegaEmbed) {\n",
       "      vegaEmbed(outputDiv, spec, embedOpt)\n",
       "        .catch(err => showError(`Javascript Error: ${err.message}<br>This usually means there's a typo in your chart specification. See the javascript console for the full traceback.`));\n",
       "    }\n",
       "\n",
       "    if(typeof define === \"function\" && define.amd) {\n",
       "      requirejs.config({paths});\n",
       "      require([\"vega-embed\"], displayChart, err => showError(`Error loading script: ${err.message}`));\n",
       "    } else {\n",
       "      maybeLoadScript(\"vega\", \"5\")\n",
       "        .then(() => maybeLoadScript(\"vega-lite\", \"5.8.0\"))\n",
       "        .then(() => maybeLoadScript(\"vega-embed\", \"6\"))\n",
       "        .catch(showError)\n",
       "        .then(() => displayChart(vegaEmbed));\n",
       "    }\n",
       "  })({\"config\": {\"view\": {\"continuousWidth\": 300, \"continuousHeight\": 300}}, \"data\": {\"name\": \"data-4c5c02d889f38a62c43900a85502444b\"}, \"mark\": {\"type\": \"bar\"}, \"encoding\": {\"color\": {\"field\": \"stock\", \"legend\": {\"title\": \"Stock\"}, \"scale\": {\"scheme\": \"tableau20\"}, \"type\": \"nominal\"}, \"tooltip\": [{\"field\": \"run\", \"type\": \"nominal\"}, {\"field\": \"stock\", \"type\": \"nominal\"}, {\"field\": \"weight\", \"type\": \"quantitative\"}], \"x\": {\"axis\": {\"labels\": true, \"title\": \"Run Index\"}, \"field\": \"run\", \"type\": \"ordinal\"}, \"y\": {\"field\": \"weight\", \"sort\": \"ascending\", \"title\": \"% Weight\", \"type\": \"quantitative\"}}, \"title\": \"Proportion of Portfolio Weight by Stock and Noisy Run for kappa=0.1\", \"width\": 500, \"$schema\": \"https://vega.github.io/schema/vega-lite/v5.8.0.json\", \"datasets\": {\"data-4c5c02d889f38a62c43900a85502444b\": [{\"stock\": \"AAPL\", \"run\": 0, \"weight\": 0.02711865428766039}, {\"stock\": \"ABBV\", \"run\": 0, \"weight\": 7.137814294595775e-09}, {\"stock\": \"AMZN\", \"run\": 0, \"weight\": 0.3589687060122077}, {\"stock\": \"DB\", \"run\": 0, \"weight\": 1.8775047023189806e-09}, {\"stock\": \"DIS\", \"run\": 0, \"weight\": 0.07071675784613347}, {\"stock\": \"FB\", \"run\": 0, \"weight\": 0.23602369013006447}, {\"stock\": \"GOOG\", \"run\": 0, \"weight\": 0.19143963378403608}, {\"stock\": \"HAL\", \"run\": 0, \"weight\": 0.11573253941940828}, {\"stock\": \"HSBC\", \"run\": 0, \"weight\": 9.505170395121708e-09}, {\"stock\": \"AAPL\", \"run\": 1, \"weight\": 4.301253277374643e-08}, {\"stock\": \"ABBV\", \"run\": 1, \"weight\": 0.22174816239201728}, {\"stock\": \"AMZN\", \"run\": 1, \"weight\": 0.1362414814639433}, {\"stock\": \"DB\", \"run\": 1, \"weight\": 1.808195143316764e-08}, {\"stock\": \"DIS\", \"run\": 1, \"weight\": 1.5743579392803947e-07}, {\"stock\": \"FB\", \"run\": 1, \"weight\": 0.26810957844942623}, {\"stock\": \"GOOG\", \"run\": 1, \"weight\": 0.30573278079201377}, {\"stock\": \"HAL\", \"run\": 1, \"weight\": 4.960424494388657e-08}, {\"stock\": \"HSBC\", \"run\": 1, \"weight\": 0.0681677287680755}, {\"stock\": \"AAPL\", \"run\": 2, \"weight\": 0.037466917571216785}, {\"stock\": \"ABBV\", \"run\": 2, \"weight\": 0.01487543896583101}, {\"stock\": \"AMZN\", \"run\": 2, \"weight\": 0.31339777786713463}, {\"stock\": \"DB\", \"run\": 2, \"weight\": 3.7911080271893584e-10}, {\"stock\": \"DIS\", \"run\": 2, \"weight\": 0.010012781921682678}, {\"stock\": \"FB\", \"run\": 2, \"weight\": 0.15433228196409837}, {\"stock\": \"GOOG\", \"run\": 2, \"weight\": 0.3958403575581088}, {\"stock\": \"HAL\", \"run\": 2, \"weight\": 0.07407444143696738}, {\"stock\": \"HSBC\", \"run\": 2, \"weight\": 2.3358495773407683e-09}, {\"stock\": \"AAPL\", \"run\": 3, \"weight\": 9.815637955131261e-10}, {\"stock\": \"ABBV\", \"run\": 3, \"weight\": 6.6299382670273e-10}, {\"stock\": \"AMZN\", \"run\": 3, \"weight\": 0.6002447521726485}, {\"stock\": \"DB\", \"run\": 3, \"weight\": 2.725855158692952e-10}, {\"stock\": \"DIS\", \"run\": 3, \"weight\": 2.6397123116473475e-09}, {\"stock\": \"FB\", \"run\": 3, \"weight\": 8.818062514271843e-10}, {\"stock\": \"GOOG\", \"run\": 3, \"weight\": 0.39975524155746084}, {\"stock\": \"HAL\", \"run\": 3, \"weight\": 3.8281887084511255e-10}, {\"stock\": \"HSBC\", \"run\": 3, \"weight\": 4.4840983396995447e-10}, {\"stock\": \"AAPL\", \"run\": 4, \"weight\": 6.627550794729185e-10}, {\"stock\": \"ABBV\", \"run\": 4, \"weight\": 8.731282030002065e-10}, {\"stock\": \"AMZN\", \"run\": 4, \"weight\": 0.8423975991047531}, {\"stock\": \"DB\", \"run\": 4, \"weight\": 3.257326867646792e-10}, {\"stock\": \"DIS\", \"run\": 4, \"weight\": 0.09278563636063318}, {\"stock\": \"FB\", \"run\": 4, \"weight\": 0.0648167546351643}, {\"stock\": \"GOOG\", \"run\": 4, \"weight\": 2.9777366863787175e-09}, {\"stock\": \"HAL\", \"run\": 4, \"weight\": 3.324089396168413e-09}, {\"stock\": \"HSBC\", \"run\": 4, \"weight\": 1.736007452595734e-09}, {\"stock\": \"AAPL\", \"run\": 5, \"weight\": 5.8514901085080055e-09}, {\"stock\": \"ABBV\", \"run\": 5, \"weight\": 6.7208191870088536e-09}, {\"stock\": \"AMZN\", \"run\": 5, \"weight\": 0.999999897107006}, {\"stock\": \"DB\", \"run\": 5, \"weight\": 1.1296312000391047e-08}, {\"stock\": \"DIS\", \"run\": 5, \"weight\": 1.564429573276559e-09}, {\"stock\": \"FB\", \"run\": 5, \"weight\": 5.233381811247474e-08}, {\"stock\": \"GOOG\", \"run\": 5, \"weight\": 1.0530990686762426e-08}, {\"stock\": \"HAL\", \"run\": 5, \"weight\": 1.332908070957578e-08}, {\"stock\": \"HSBC\", \"run\": 5, \"weight\": 1.2660537654918266e-09}, {\"stock\": \"AAPL\", \"run\": 6, \"weight\": 6.166862740997502e-08}, {\"stock\": \"ABBV\", \"run\": 6, \"weight\": 1.8382837842766443e-08}, {\"stock\": \"AMZN\", \"run\": 6, \"weight\": 0.8693220178374972}, {\"stock\": \"DB\", \"run\": 6, \"weight\": 5.171793454820252e-09}, {\"stock\": \"DIS\", \"run\": 6, \"weight\": 1.2802342587344768e-07}, {\"stock\": \"FB\", \"run\": 6, \"weight\": 7.263262218149496e-08}, {\"stock\": \"GOOG\", \"run\": 6, \"weight\": 1.6032016558522914e-08}, {\"stock\": \"HAL\", \"run\": 6, \"weight\": 1.714033494231144e-08}, {\"stock\": \"HSBC\", \"run\": 6, \"weight\": 0.1306776631108446}]}}, {\"mode\": \"vega-lite\"});\n",
       "</script>"
      ],
      "text/plain": [
       "alt.Chart(...)"
      ]
     },
     "execution_count": 1729,
     "metadata": {},
     "output_type": "execute_result"
    }
   ],
   "source": [
    "chart_01_3"
   ]
  },
  {
   "cell_type": "markdown",
   "metadata": {},
   "source": [
    "## Visualization and comparison"
   ]
  },
  {
   "cell_type": "code",
   "execution_count": 1730,
   "metadata": {},
   "outputs": [
    {
     "name": "stderr",
     "output_type": "stream",
     "text": [
      "/opt/anaconda3/lib/python3.11/site-packages/altair/utils/core.py:395: FutureWarning: the convert_dtype parameter is deprecated and will be removed in a future version.  Do ``ser.astype(object).apply()`` instead if you want ``convert_dtype=False``.\n",
      "  col = df[col_name].apply(to_list_if_array, convert_dtype=False)\n",
      "/opt/anaconda3/lib/python3.11/site-packages/altair/utils/core.py:395: FutureWarning: the convert_dtype parameter is deprecated and will be removed in a future version.  Do ``ser.astype(object).apply()`` instead if you want ``convert_dtype=False``.\n",
      "  col = df[col_name].apply(to_list_if_array, convert_dtype=False)\n",
      "/opt/anaconda3/lib/python3.11/site-packages/altair/utils/core.py:395: FutureWarning: the convert_dtype parameter is deprecated and will be removed in a future version.  Do ``ser.astype(object).apply()`` instead if you want ``convert_dtype=False``.\n",
      "  col = df[col_name].apply(to_list_if_array, convert_dtype=False)\n",
      "/opt/anaconda3/lib/python3.11/site-packages/altair/utils/core.py:395: FutureWarning: the convert_dtype parameter is deprecated and will be removed in a future version.  Do ``ser.astype(object).apply()`` instead if you want ``convert_dtype=False``.\n",
      "  col = df[col_name].apply(to_list_if_array, convert_dtype=False)\n"
     ]
    },
    {
     "data": {
      "text/html": [
       "\n",
       "<style>\n",
       "  #altair-viz-f54fbf2620ab4599ad20f96f509d508e.vega-embed {\n",
       "    width: 100%;\n",
       "    display: flex;\n",
       "  }\n",
       "\n",
       "  #altair-viz-f54fbf2620ab4599ad20f96f509d508e.vega-embed details,\n",
       "  #altair-viz-f54fbf2620ab4599ad20f96f509d508e.vega-embed details summary {\n",
       "    position: relative;\n",
       "  }\n",
       "</style>\n",
       "<div id=\"altair-viz-f54fbf2620ab4599ad20f96f509d508e\"></div>\n",
       "<script type=\"text/javascript\">\n",
       "  var VEGA_DEBUG = (typeof VEGA_DEBUG == \"undefined\") ? {} : VEGA_DEBUG;\n",
       "  (function(spec, embedOpt){\n",
       "    let outputDiv = document.currentScript.previousElementSibling;\n",
       "    if (outputDiv.id !== \"altair-viz-f54fbf2620ab4599ad20f96f509d508e\") {\n",
       "      outputDiv = document.getElementById(\"altair-viz-f54fbf2620ab4599ad20f96f509d508e\");\n",
       "    }\n",
       "    const paths = {\n",
       "      \"vega\": \"https://cdn.jsdelivr.net/npm/vega@5?noext\",\n",
       "      \"vega-lib\": \"https://cdn.jsdelivr.net/npm/vega-lib?noext\",\n",
       "      \"vega-lite\": \"https://cdn.jsdelivr.net/npm/vega-lite@5.8.0?noext\",\n",
       "      \"vega-embed\": \"https://cdn.jsdelivr.net/npm/vega-embed@6?noext\",\n",
       "    };\n",
       "\n",
       "    function maybeLoadScript(lib, version) {\n",
       "      var key = `${lib.replace(\"-\", \"\")}_version`;\n",
       "      return (VEGA_DEBUG[key] == version) ?\n",
       "        Promise.resolve(paths[lib]) :\n",
       "        new Promise(function(resolve, reject) {\n",
       "          var s = document.createElement('script');\n",
       "          document.getElementsByTagName(\"head\")[0].appendChild(s);\n",
       "          s.async = true;\n",
       "          s.onload = () => {\n",
       "            VEGA_DEBUG[key] = version;\n",
       "            return resolve(paths[lib]);\n",
       "          };\n",
       "          s.onerror = () => reject(`Error loading script: ${paths[lib]}`);\n",
       "          s.src = paths[lib];\n",
       "        });\n",
       "    }\n",
       "\n",
       "    function showError(err) {\n",
       "      outputDiv.innerHTML = `<div class=\"error\" style=\"color:red;\">${err}</div>`;\n",
       "      throw err;\n",
       "    }\n",
       "\n",
       "    function displayChart(vegaEmbed) {\n",
       "      vegaEmbed(outputDiv, spec, embedOpt)\n",
       "        .catch(err => showError(`Javascript Error: ${err.message}<br>This usually means there's a typo in your chart specification. See the javascript console for the full traceback.`));\n",
       "    }\n",
       "\n",
       "    if(typeof define === \"function\" && define.amd) {\n",
       "      requirejs.config({paths});\n",
       "      require([\"vega-embed\"], displayChart, err => showError(`Error loading script: ${err.message}`));\n",
       "    } else {\n",
       "      maybeLoadScript(\"vega\", \"5\")\n",
       "        .then(() => maybeLoadScript(\"vega-lite\", \"5.8.0\"))\n",
       "        .then(() => maybeLoadScript(\"vega-embed\", \"6\"))\n",
       "        .catch(showError)\n",
       "        .then(() => displayChart(vegaEmbed));\n",
       "    }\n",
       "  })({\"config\": {\"view\": {\"continuousWidth\": 300, \"continuousHeight\": 300}}, \"hconcat\": [{\"data\": {\"name\": \"data-f731f7989434c7a498266379419f8b14\"}, \"mark\": {\"type\": \"bar\", \"color\": \"blue\"}, \"encoding\": {\"x\": {\"field\": \"stock\", \"type\": \"nominal\"}, \"y\": {\"field\": \"w\", \"type\": \"quantitative\"}}, \"title\": \"Proportion of Portfolio Weight by Stock and Noisy Run for kappa=0.95\"}, {\"data\": {\"name\": \"data-0df5893e41804a09fc9c9b9cb1242078\"}, \"mark\": {\"type\": \"bar\", \"color\": \"blue\"}, \"encoding\": {\"x\": {\"field\": \"stock\", \"type\": \"nominal\"}, \"y\": {\"field\": \"w\", \"type\": \"quantitative\"}}, \"title\": \"Portwolio weight by stock for kappa=0.7\"}, {\"data\": {\"name\": \"data-0fd806948054b4833c9e88da1f73208c\"}, \"mark\": {\"type\": \"bar\", \"color\": \"blue\"}, \"encoding\": {\"x\": {\"field\": \"stock\", \"type\": \"nominal\"}, \"y\": {\"field\": \"w\", \"type\": \"quantitative\"}}, \"title\": \"Proportion of Portfolio Weight by Stock and Noisy Run for kappa=0.35\"}, {\"data\": {\"name\": \"data-709a8bc3ecbf3991deefcce8753600de\"}, \"mark\": {\"type\": \"bar\", \"color\": \"blue\"}, \"encoding\": {\"x\": {\"field\": \"stock\", \"type\": \"nominal\"}, \"y\": {\"field\": \"w\", \"type\": \"quantitative\"}}, \"title\": \"Proportion of Portfolio Weight by Stock and Noisy Run for kappa=0.1\"}], \"$schema\": \"https://vega.github.io/schema/vega-lite/v5.8.0.json\", \"datasets\": {\"data-f731f7989434c7a498266379419f8b14\": [{\"w\": 0.11302205011338093, \"stock\": \"AAPL\"}, {\"w\": 0.07693110161646347, \"stock\": \"ABBV\"}, {\"w\": 0.09521639774955384, \"stock\": \"AMZN\"}, {\"w\": 0.061880053723269116, \"stock\": \"DB\"}, {\"w\": 0.15750064934729158, \"stock\": \"DIS\"}, {\"w\": 0.13486637742644225, \"stock\": \"FB\"}, {\"w\": 0.10888657339831377, \"stock\": \"GOOG\"}, {\"w\": 0.07342473492885797, \"stock\": \"HAL\"}, {\"w\": 0.17827206169642715, \"stock\": \"HSBC\"}], \"data-0df5893e41804a09fc9c9b9cb1242078\": [{\"w\": 0.11194879779449872, \"stock\": \"AAPL\"}, {\"w\": 0.07532552339811076, \"stock\": \"ABBV\"}, {\"w\": 0.10244511251867658, \"stock\": \"AMZN\"}, {\"w\": 0.05463070178698152, \"stock\": \"DB\"}, {\"w\": 0.15680276961144798, \"stock\": \"DIS\"}, {\"w\": 0.13854597447959785, \"stock\": \"FB\"}, {\"w\": 0.11183214672798795, \"stock\": \"GOOG\"}, {\"w\": 0.07508907785616997, \"stock\": \"HAL\"}, {\"w\": 0.17337989582652857, \"stock\": \"HSBC\"}], \"data-0fd806948054b4833c9e88da1f73208c\": [{\"w\": 0.10762442469535351, \"stock\": \"AAPL\"}, {\"w\": 0.06886678132895882, \"stock\": \"ABBV\"}, {\"w\": 0.13163262617029003, \"stock\": \"AMZN\"}, {\"w\": 0.025357883468168602, \"stock\": \"DB\"}, {\"w\": 0.15396311202990542, \"stock\": \"DIS\"}, {\"w\": 0.15338003954484297, \"stock\": \"FB\"}, {\"w\": 0.1237266916226421, \"stock\": \"GOOG\"}, {\"w\": 0.08183809165767511, \"stock\": \"HAL\"}, {\"w\": 0.15361034948216346, \"stock\": \"HSBC\"}], \"data-709a8bc3ecbf3991deefcce8753600de\": [{\"w\": 0.02711865428766039, \"stock\": \"AAPL\"}, {\"w\": 7.137814294595775e-09, \"stock\": \"ABBV\"}, {\"w\": 0.3589687060122077, \"stock\": \"AMZN\"}, {\"w\": 1.8775047023189806e-09, \"stock\": \"DB\"}, {\"w\": 0.07071675784613347, \"stock\": \"DIS\"}, {\"w\": 0.23602369013006447, \"stock\": \"FB\"}, {\"w\": 0.19143963378403608, \"stock\": \"GOOG\"}, {\"w\": 0.11573253941940828, \"stock\": \"HAL\"}, {\"w\": 9.505170395121708e-09, \"stock\": \"HSBC\"}]}}, {\"mode\": \"vega-lite\"});\n",
       "</script>"
      ],
      "text/plain": [
       "alt.HConcatChart(...)"
      ]
     },
     "execution_count": 1730,
     "metadata": {},
     "output_type": "execute_result"
    }
   ],
   "source": [
    "# Assuming you have another chart stored in a variable named 'chart2'\n",
    "combined_chart_1 = alt.hconcat(chart_095_1, chart_07_1, chart_035_1, chart_01_1)\n",
    "combined_chart_1"
   ]
  },
  {
   "cell_type": "code",
   "execution_count": 1731,
   "metadata": {},
   "outputs": [
    {
     "name": "stderr",
     "output_type": "stream",
     "text": [
      "/opt/anaconda3/lib/python3.11/site-packages/altair/utils/core.py:395: FutureWarning: the convert_dtype parameter is deprecated and will be removed in a future version.  Do ``ser.astype(object).apply()`` instead if you want ``convert_dtype=False``.\n",
      "  col = df[col_name].apply(to_list_if_array, convert_dtype=False)\n",
      "/opt/anaconda3/lib/python3.11/site-packages/altair/utils/core.py:395: FutureWarning: the convert_dtype parameter is deprecated and will be removed in a future version.  Do ``ser.astype(object).apply()`` instead if you want ``convert_dtype=False``.\n",
      "  col = df[col_name].apply(to_list_if_array, convert_dtype=False)\n",
      "/opt/anaconda3/lib/python3.11/site-packages/altair/utils/core.py:395: FutureWarning: the convert_dtype parameter is deprecated and will be removed in a future version.  Do ``ser.astype(object).apply()`` instead if you want ``convert_dtype=False``.\n",
      "  col = df[col_name].apply(to_list_if_array, convert_dtype=False)\n",
      "/opt/anaconda3/lib/python3.11/site-packages/altair/utils/core.py:395: FutureWarning: the convert_dtype parameter is deprecated and will be removed in a future version.  Do ``ser.astype(object).apply()`` instead if you want ``convert_dtype=False``.\n",
      "  col = df[col_name].apply(to_list_if_array, convert_dtype=False)\n",
      "/opt/anaconda3/lib/python3.11/site-packages/altair/utils/core.py:395: FutureWarning: the convert_dtype parameter is deprecated and will be removed in a future version.  Do ``ser.astype(object).apply()`` instead if you want ``convert_dtype=False``.\n",
      "  col = df[col_name].apply(to_list_if_array, convert_dtype=False)\n",
      "/opt/anaconda3/lib/python3.11/site-packages/altair/utils/core.py:395: FutureWarning: the convert_dtype parameter is deprecated and will be removed in a future version.  Do ``ser.astype(object).apply()`` instead if you want ``convert_dtype=False``.\n",
      "  col = df[col_name].apply(to_list_if_array, convert_dtype=False)\n",
      "/opt/anaconda3/lib/python3.11/site-packages/altair/utils/core.py:395: FutureWarning: the convert_dtype parameter is deprecated and will be removed in a future version.  Do ``ser.astype(object).apply()`` instead if you want ``convert_dtype=False``.\n",
      "  col = df[col_name].apply(to_list_if_array, convert_dtype=False)\n",
      "/opt/anaconda3/lib/python3.11/site-packages/altair/utils/core.py:395: FutureWarning: the convert_dtype parameter is deprecated and will be removed in a future version.  Do ``ser.astype(object).apply()`` instead if you want ``convert_dtype=False``.\n",
      "  col = df[col_name].apply(to_list_if_array, convert_dtype=False)\n"
     ]
    },
    {
     "data": {
      "text/html": [
       "\n",
       "<style>\n",
       "  #altair-viz-497bce58166a4449827f2dbcb3743bf1.vega-embed {\n",
       "    width: 100%;\n",
       "    display: flex;\n",
       "  }\n",
       "\n",
       "  #altair-viz-497bce58166a4449827f2dbcb3743bf1.vega-embed details,\n",
       "  #altair-viz-497bce58166a4449827f2dbcb3743bf1.vega-embed details summary {\n",
       "    position: relative;\n",
       "  }\n",
       "</style>\n",
       "<div id=\"altair-viz-497bce58166a4449827f2dbcb3743bf1\"></div>\n",
       "<script type=\"text/javascript\">\n",
       "  var VEGA_DEBUG = (typeof VEGA_DEBUG == \"undefined\") ? {} : VEGA_DEBUG;\n",
       "  (function(spec, embedOpt){\n",
       "    let outputDiv = document.currentScript.previousElementSibling;\n",
       "    if (outputDiv.id !== \"altair-viz-497bce58166a4449827f2dbcb3743bf1\") {\n",
       "      outputDiv = document.getElementById(\"altair-viz-497bce58166a4449827f2dbcb3743bf1\");\n",
       "    }\n",
       "    const paths = {\n",
       "      \"vega\": \"https://cdn.jsdelivr.net/npm/vega@5?noext\",\n",
       "      \"vega-lib\": \"https://cdn.jsdelivr.net/npm/vega-lib?noext\",\n",
       "      \"vega-lite\": \"https://cdn.jsdelivr.net/npm/vega-lite@5.8.0?noext\",\n",
       "      \"vega-embed\": \"https://cdn.jsdelivr.net/npm/vega-embed@6?noext\",\n",
       "    };\n",
       "\n",
       "    function maybeLoadScript(lib, version) {\n",
       "      var key = `${lib.replace(\"-\", \"\")}_version`;\n",
       "      return (VEGA_DEBUG[key] == version) ?\n",
       "        Promise.resolve(paths[lib]) :\n",
       "        new Promise(function(resolve, reject) {\n",
       "          var s = document.createElement('script');\n",
       "          document.getElementsByTagName(\"head\")[0].appendChild(s);\n",
       "          s.async = true;\n",
       "          s.onload = () => {\n",
       "            VEGA_DEBUG[key] = version;\n",
       "            return resolve(paths[lib]);\n",
       "          };\n",
       "          s.onerror = () => reject(`Error loading script: ${paths[lib]}`);\n",
       "          s.src = paths[lib];\n",
       "        });\n",
       "    }\n",
       "\n",
       "    function showError(err) {\n",
       "      outputDiv.innerHTML = `<div class=\"error\" style=\"color:red;\">${err}</div>`;\n",
       "      throw err;\n",
       "    }\n",
       "\n",
       "    function displayChart(vegaEmbed) {\n",
       "      vegaEmbed(outputDiv, spec, embedOpt)\n",
       "        .catch(err => showError(`Javascript Error: ${err.message}<br>This usually means there's a typo in your chart specification. See the javascript console for the full traceback.`));\n",
       "    }\n",
       "\n",
       "    if(typeof define === \"function\" && define.amd) {\n",
       "      requirejs.config({paths});\n",
       "      require([\"vega-embed\"], displayChart, err => showError(`Error loading script: ${err.message}`));\n",
       "    } else {\n",
       "      maybeLoadScript(\"vega\", \"5\")\n",
       "        .then(() => maybeLoadScript(\"vega-lite\", \"5.8.0\"))\n",
       "        .then(() => maybeLoadScript(\"vega-embed\", \"6\"))\n",
       "        .catch(showError)\n",
       "        .then(() => displayChart(vegaEmbed));\n",
       "    }\n",
       "  })({\"config\": {\"view\": {\"continuousWidth\": 300, \"continuousHeight\": 300}}, \"vconcat\": [{\"hconcat\": [{\"data\": {\"name\": \"data-5263d75154684bfa2baccb5a6f738967\"}, \"mark\": {\"type\": \"bar\", \"color\": \"red\", \"size\": 10}, \"encoding\": {\"x\": {\"axis\": {\"title\": \"Stock - Run\"}, \"field\": \"Stock_Run\", \"type\": \"ordinal\"}, \"y\": {\"axis\": {\"title\": \"Portfolio Weight\"}, \"field\": \"weight\", \"type\": \"quantitative\"}}, \"height\": 300, \"title\": \"Portfolio weight by stock and noisy run\", \"transform\": [{\"calculate\": \"datum.stock + ' - ' + datum.run\", \"as\": \"Stock_Run\"}], \"width\": 800}, {\"data\": {\"name\": \"data-7e2ad33eb8f6450b29d2049773d0893b\"}, \"mark\": {\"type\": \"bar\", \"color\": \"red\", \"size\": 10}, \"encoding\": {\"column\": {\"field\": \"stock\", \"spacing\": 2, \"type\": \"nominal\"}, \"x\": {\"axis\": null, \"field\": \"run\", \"type\": \"ordinal\"}, \"y\": {\"field\": \"weight\", \"type\": \"quantitative\"}}, \"title\": \"Portfolilo weight by stock and noisy run\", \"width\": 125}]}, {\"hconcat\": [{\"data\": {\"name\": \"data-ea657254087fee6d0e7c40bcbf771a86\"}, \"mark\": {\"type\": \"bar\", \"color\": \"red\", \"size\": 10}, \"encoding\": {\"column\": {\"field\": \"stock\", \"spacing\": 2, \"type\": \"nominal\"}, \"x\": {\"axis\": null, \"field\": \"run\", \"type\": \"ordinal\"}, \"y\": {\"field\": \"weight\", \"type\": \"quantitative\"}}, \"title\": \"Portfolilo weight by stock and noisy run\", \"width\": 125}, {\"data\": {\"name\": \"data-4c5c02d889f38a62c43900a85502444b\"}, \"mark\": {\"type\": \"bar\", \"color\": \"red\", \"size\": 10}, \"encoding\": {\"column\": {\"field\": \"stock\", \"spacing\": 2, \"type\": \"nominal\"}, \"x\": {\"axis\": null, \"field\": \"run\", \"type\": \"ordinal\"}, \"y\": {\"field\": \"weight\", \"type\": \"quantitative\"}}, \"title\": \"Portfolilo weight by stock and noisy run\", \"width\": 125}]}], \"$schema\": \"https://vega.github.io/schema/vega-lite/v5.8.0.json\", \"datasets\": {\"data-5263d75154684bfa2baccb5a6f738967\": [{\"stock\": \"AAPL\", \"run\": 0, \"weight\": 0.11302205011338093}, {\"stock\": \"ABBV\", \"run\": 0, \"weight\": 0.07693110161646347}, {\"stock\": \"AMZN\", \"run\": 0, \"weight\": 0.09521639774955384}, {\"stock\": \"DB\", \"run\": 0, \"weight\": 0.061880053723269116}, {\"stock\": \"DIS\", \"run\": 0, \"weight\": 0.15750064934729158}, {\"stock\": \"FB\", \"run\": 0, \"weight\": 0.13486637742644225}, {\"stock\": \"GOOG\", \"run\": 0, \"weight\": 0.10888657339831377}, {\"stock\": \"HAL\", \"run\": 0, \"weight\": 0.07342473492885797}, {\"stock\": \"HSBC\", \"run\": 0, \"weight\": 0.17827206169642715}, {\"stock\": \"AAPL\", \"run\": 1, \"weight\": 0.09139974979493033}, {\"stock\": \"ABBV\", \"run\": 1, \"weight\": 0.0877581936635663}, {\"stock\": \"AMZN\", \"run\": 1, \"weight\": 0.10893572290972516}, {\"stock\": \"DB\", \"run\": 1, \"weight\": 0.04507904502263883}, {\"stock\": \"DIS\", \"run\": 1, \"weight\": 0.15590322996196776}, {\"stock\": \"FB\", \"run\": 1, \"weight\": 0.1321407813302613}, {\"stock\": \"GOOG\", \"run\": 1, \"weight\": 0.10584643423626114}, {\"stock\": \"HAL\", \"run\": 1, \"weight\": 0.055391891159641764}, {\"stock\": \"HSBC\", \"run\": 1, \"weight\": 0.21754495192100742}, {\"stock\": \"AAPL\", \"run\": 2, \"weight\": 0.11146181497308129}, {\"stock\": \"ABBV\", \"run\": 2, \"weight\": 0.07700274084588457}, {\"stock\": \"AMZN\", \"run\": 2, \"weight\": 0.08635155952147018}, {\"stock\": \"DB\", \"run\": 2, \"weight\": 0.013567125773773064}, {\"stock\": \"DIS\", \"run\": 2, \"weight\": 0.18582794540816278}, {\"stock\": \"FB\", \"run\": 2, \"weight\": 0.13565290229466587}, {\"stock\": \"GOOG\", \"run\": 2, \"weight\": 0.1508364155343061}, {\"stock\": \"HAL\", \"run\": 2, \"weight\": 0.06500754581096745}, {\"stock\": \"HSBC\", \"run\": 2, \"weight\": 0.17429194983768861}, {\"stock\": \"AAPL\", \"run\": 3, \"weight\": 0.09600517446733528}, {\"stock\": \"ABBV\", \"run\": 3, \"weight\": 0.051145386287213844}, {\"stock\": \"AMZN\", \"run\": 3, \"weight\": 0.11462412015362898}, {\"stock\": \"DB\", \"run\": 3, \"weight\": 0.04243750074886867}, {\"stock\": \"DIS\", \"run\": 3, \"weight\": 0.2102981500420729}, {\"stock\": \"FB\", \"run\": 3, \"weight\": 0.1348648679721446}, {\"stock\": \"GOOG\", \"run\": 3, \"weight\": 0.13536875096051412}, {\"stock\": \"HAL\", \"run\": 3, \"weight\": 0.05273420430325408}, {\"stock\": \"HSBC\", \"run\": 3, \"weight\": 0.1625218450649675}, {\"stock\": \"AAPL\", \"run\": 4, \"weight\": 0.10752529256606778}, {\"stock\": \"ABBV\", \"run\": 4, \"weight\": 0.0835443982248271}, {\"stock\": \"AMZN\", \"run\": 4, \"weight\": 0.11426017436352878}, {\"stock\": \"DB\", \"run\": 4, \"weight\": 0.025258219532501933}, {\"stock\": \"DIS\", \"run\": 4, \"weight\": 0.14209973190929878}, {\"stock\": \"FB\", \"run\": 4, \"weight\": 0.15606354288898125}, {\"stock\": \"GOOG\", \"run\": 4, \"weight\": 0.11941166744900576}, {\"stock\": \"HAL\", \"run\": 4, \"weight\": 0.0673222740292287}, {\"stock\": \"HSBC\", \"run\": 4, \"weight\": 0.18451469903655993}, {\"stock\": \"AAPL\", \"run\": 5, \"weight\": 0.09898137115886943}, {\"stock\": \"ABBV\", \"run\": 5, \"weight\": 0.07549664926710067}, {\"stock\": \"AMZN\", \"run\": 5, \"weight\": 0.12986060646196326}, {\"stock\": \"DB\", \"run\": 5, \"weight\": 0.05814887566694756}, {\"stock\": \"DIS\", \"run\": 5, \"weight\": 0.17646392613515352}, {\"stock\": \"FB\", \"run\": 5, \"weight\": 0.1518093566924418}, {\"stock\": \"GOOG\", \"run\": 5, \"weight\": 0.07250316927842439}, {\"stock\": \"HAL\", \"run\": 5, \"weight\": 0.07136063824246824}, {\"stock\": \"HSBC\", \"run\": 5, \"weight\": 0.16537540709663126}, {\"stock\": \"AAPL\", \"run\": 6, \"weight\": 0.10817060656387566}, {\"stock\": \"ABBV\", \"run\": 6, \"weight\": 0.061345230067922106}, {\"stock\": \"AMZN\", \"run\": 6, \"weight\": 0.09488742093375314}, {\"stock\": \"DB\", \"run\": 6, \"weight\": 0.05256284788832293}, {\"stock\": \"DIS\", \"run\": 6, \"weight\": 0.16832815346409336}, {\"stock\": \"FB\", \"run\": 6, \"weight\": 0.1489237404140185}, {\"stock\": \"GOOG\", \"run\": 6, \"weight\": 0.08709001243661213}, {\"stock\": \"HAL\", \"run\": 6, \"weight\": 0.07304223824519328}, {\"stock\": \"HSBC\", \"run\": 6, \"weight\": 0.20564974998620889}], \"data-7e2ad33eb8f6450b29d2049773d0893b\": [{\"stock\": \"AAPL\", \"run\": 0, \"weight\": 0.11194879779449872}, {\"stock\": \"ABBV\", \"run\": 0, \"weight\": 0.07532552339811076}, {\"stock\": \"AMZN\", \"run\": 0, \"weight\": 0.10244511251867658}, {\"stock\": \"DB\", \"run\": 0, \"weight\": 0.05463070178698152}, {\"stock\": \"DIS\", \"run\": 0, \"weight\": 0.15680276961144798}, {\"stock\": \"FB\", \"run\": 0, \"weight\": 0.13854597447959785}, {\"stock\": \"GOOG\", \"run\": 0, \"weight\": 0.11183214672798795}, {\"stock\": \"HAL\", \"run\": 0, \"weight\": 0.07508907785616997}, {\"stock\": \"HSBC\", \"run\": 0, \"weight\": 0.17337989582652857}, {\"stock\": \"AAPL\", \"run\": 1, \"weight\": 0.08408475774704051}, {\"stock\": \"ABBV\", \"run\": 1, \"weight\": 0.09400529752506191}, {\"stock\": \"AMZN\", \"run\": 1, \"weight\": 0.11229496137291733}, {\"stock\": \"DB\", \"run\": 1, \"weight\": 0.03380846629053349}, {\"stock\": \"DIS\", \"run\": 1, \"weight\": 0.15385030661395185}, {\"stock\": \"FB\", \"run\": 1, \"weight\": 0.13915075277590103}, {\"stock\": \"GOOG\", \"run\": 1, \"weight\": 0.11363411303974225}, {\"stock\": \"HAL\", \"run\": 1, \"weight\": 0.05073729978111096}, {\"stock\": \"HSBC\", \"run\": 1, \"weight\": 0.21843404485374038}, {\"stock\": \"AAPL\", \"run\": 2, \"weight\": 0.11246101534340346}, {\"stock\": \"ABBV\", \"run\": 2, \"weight\": 0.07688000705946718}, {\"stock\": \"AMZN\", \"run\": 2, \"weight\": 0.09452371468583982}, {\"stock\": \"DB\", \"run\": 2, \"weight\": 8.847842170742157e-08}, {\"stock\": \"DIS\", \"run\": 2, \"weight\": 0.1848325949180852}, {\"stock\": \"FB\", \"run\": 2, \"weight\": 0.13841750618090964}, {\"stock\": \"GOOG\", \"run\": 2, \"weight\": 0.15865113959375673}, {\"stock\": \"HAL\", \"run\": 2, \"weight\": 0.06645081507218406}, {\"stock\": \"HSBC\", \"run\": 2, \"weight\": 0.16778311866793208}, {\"stock\": \"AAPL\", \"run\": 3, \"weight\": 0.09818218812600897}, {\"stock\": \"ABBV\", \"run\": 3, \"weight\": 0.04844492071151038}, {\"stock\": \"AMZN\", \"run\": 3, \"weight\": 0.12905152314246435}, {\"stock\": \"DB\", \"run\": 3, \"weight\": 0.029553624217813396}, {\"stock\": \"DIS\", \"run\": 3, \"weight\": 0.21783409213520508}, {\"stock\": \"FB\", \"run\": 3, \"weight\": 0.1350298119584298}, {\"stock\": \"GOOG\", \"run\": 3, \"weight\": 0.1463345975495664}, {\"stock\": \"HAL\", \"run\": 3, \"weight\": 0.045779317035805366}, {\"stock\": \"HSBC\", \"run\": 3, \"weight\": 0.1497899251231964}, {\"stock\": \"AAPL\", \"run\": 4, \"weight\": 0.10010175697711192}, {\"stock\": \"ABBV\", \"run\": 4, \"weight\": 0.07896416023191892}, {\"stock\": \"AMZN\", \"run\": 4, \"weight\": 0.12764423204644393}, {\"stock\": \"DB\", \"run\": 4, \"weight\": 0.009599064013582613}, {\"stock\": \"DIS\", \"run\": 4, \"weight\": 0.14988309911360306}, {\"stock\": \"FB\", \"run\": 4, \"weight\": 0.16180989260567008}, {\"stock\": \"GOOG\", \"run\": 4, \"weight\": 0.12186762702364252}, {\"stock\": \"HAL\", \"run\": 4, \"weight\": 0.07016805758690266}, {\"stock\": \"HSBC\", \"run\": 4, \"weight\": 0.1799621104011244}, {\"stock\": \"AAPL\", \"run\": 5, \"weight\": 0.09472813332340678}, {\"stock\": \"ABBV\", \"run\": 5, \"weight\": 0.07011772359694819}, {\"stock\": \"AMZN\", \"run\": 5, \"weight\": 0.14859313358640935}, {\"stock\": \"DB\", \"run\": 5, \"weight\": 0.05526153004237224}, {\"stock\": \"DIS\", \"run\": 5, \"weight\": 0.17750993353677594}, {\"stock\": \"FB\", \"run\": 5, \"weight\": 0.15848219923291754}, {\"stock\": \"GOOG\", \"run\": 5, \"weight\": 0.07084491227749112}, {\"stock\": \"HAL\", \"run\": 5, \"weight\": 0.06913635388653258}, {\"stock\": \"HSBC\", \"run\": 5, \"weight\": 0.1553260805171462}, {\"stock\": \"AAPL\", \"run\": 6, \"weight\": 0.10829557478104468}, {\"stock\": \"ABBV\", \"run\": 6, \"weight\": 0.059377127375740336}, {\"stock\": \"AMZN\", \"run\": 6, \"weight\": 0.10501391205590917}, {\"stock\": \"DB\", \"run\": 6, \"weight\": 0.044780770577495466}, {\"stock\": \"DIS\", \"run\": 6, \"weight\": 0.16866812571524287}, {\"stock\": \"FB\", \"run\": 6, \"weight\": 0.14939331010779397}, {\"stock\": \"GOOG\", \"run\": 6, \"weight\": 0.0845971053720502}, {\"stock\": \"HAL\", \"run\": 6, \"weight\": 0.07101638807834354}, {\"stock\": \"HSBC\", \"run\": 6, \"weight\": 0.20885768593637974}], \"data-ea657254087fee6d0e7c40bcbf771a86\": [{\"stock\": \"AAPL\", \"run\": 0, \"weight\": 0.10762442469535351}, {\"stock\": \"ABBV\", \"run\": 0, \"weight\": 0.06886678132895882}, {\"stock\": \"AMZN\", \"run\": 0, \"weight\": 0.13163262617029003}, {\"stock\": \"DB\", \"run\": 0, \"weight\": 0.025357883468168602}, {\"stock\": \"DIS\", \"run\": 0, \"weight\": 0.15396311202990542}, {\"stock\": \"FB\", \"run\": 0, \"weight\": 0.15338003954484297}, {\"stock\": \"GOOG\", \"run\": 0, \"weight\": 0.1237266916226421}, {\"stock\": \"HAL\", \"run\": 0, \"weight\": 0.08183809165767511}, {\"stock\": \"HSBC\", \"run\": 0, \"weight\": 0.15361034948216346}, {\"stock\": \"AAPL\", \"run\": 1, \"weight\": 0.053465787727593306}, {\"stock\": \"ABBV\", \"run\": 1, \"weight\": 0.1181798584258783}, {\"stock\": \"AMZN\", \"run\": 1, \"weight\": 0.12426977875921094}, {\"stock\": \"DB\", \"run\": 1, \"weight\": 3.8507577057288124e-08}, {\"stock\": \"DIS\", \"run\": 1, \"weight\": 0.14282004218583497}, {\"stock\": \"FB\", \"run\": 1, \"weight\": 0.16634105334283875}, {\"stock\": \"GOOG\", \"run\": 1, \"weight\": 0.14459029188387934}, {\"stock\": \"HAL\", \"run\": 1, \"weight\": 0.03132163688407891}, {\"stock\": \"HSBC\", \"run\": 1, \"weight\": 0.21901151228310853}, {\"stock\": \"AAPL\", \"run\": 2, \"weight\": 0.10796438687846954}, {\"stock\": \"ABBV\", \"run\": 2, \"weight\": 0.07325888572113998}, {\"stock\": \"AMZN\", \"run\": 2, \"weight\": 0.11874436965725074}, {\"stock\": \"DB\", \"run\": 2, \"weight\": 5.909236599772552e-09}, {\"stock\": \"DIS\", \"run\": 2, \"weight\": 0.1721737705561576}, {\"stock\": \"FB\", \"run\": 2, \"weight\": 0.14342612179103711}, {\"stock\": \"GOOG\", \"run\": 2, \"weight\": 0.18503619631788207}, {\"stock\": \"HAL\", \"run\": 2, \"weight\": 0.06843922924796357}, {\"stock\": \"HSBC\", \"run\": 2, \"weight\": 0.13095703392086291}, {\"stock\": \"AAPL\", \"run\": 3, \"weight\": 0.1046652721972329}, {\"stock\": \"ABBV\", \"run\": 3, \"weight\": 0.03279591419739795}, {\"stock\": \"AMZN\", \"run\": 3, \"weight\": 0.1952825275333806}, {\"stock\": \"DB\", \"run\": 3, \"weight\": 4.065607312123959e-09}, {\"stock\": \"DIS\", \"run\": 3, \"weight\": 0.24722697712353175}, {\"stock\": \"FB\", \"run\": 3, \"weight\": 0.12829470686965944}, {\"stock\": \"GOOG\", \"run\": 3, \"weight\": 0.19633844282745994}, {\"stock\": \"HAL\", \"run\": 3, \"weight\": 0.012429892279944154}, {\"stock\": \"HSBC\", \"run\": 3, \"weight\": 0.08296626290578596}, {\"stock\": \"AAPL\", \"run\": 4, \"weight\": 0.0599601819435658}, {\"stock\": \"ABBV\", \"run\": 4, \"weight\": 0.054441720662583556}, {\"stock\": \"AMZN\", \"run\": 4, \"weight\": 0.1779406932214468}, {\"stock\": \"DB\", \"run\": 4, \"weight\": 3.5046765407859393e-09}, {\"stock\": \"DIS\", \"run\": 4, \"weight\": 0.1738969202185848}, {\"stock\": \"FB\", \"run\": 4, \"weight\": 0.1755744421751749}, {\"stock\": \"GOOG\", \"run\": 4, \"weight\": 0.12433574882316008}, {\"stock\": \"HAL\", \"run\": 4, \"weight\": 0.0752424624010017}, {\"stock\": \"HSBC\", \"run\": 4, \"weight\": 0.15860782704980592}, {\"stock\": \"AAPL\", \"run\": 5, \"weight\": 0.07493943258619942}, {\"stock\": \"ABBV\", \"run\": 5, \"weight\": 0.04509100159854591}, {\"stock\": \"AMZN\", \"run\": 5, \"weight\": 0.23575327454510306}, {\"stock\": \"DB\", \"run\": 5, \"weight\": 0.04182439029086822}, {\"stock\": \"DIS\", \"run\": 5, \"weight\": 0.18238063033801163}, {\"stock\": \"FB\", \"run\": 5, \"weight\": 0.1895299300846676}, {\"stock\": \"GOOG\", \"run\": 5, \"weight\": 0.06312581762987325}, {\"stock\": \"HAL\", \"run\": 5, \"weight\": 0.05878037493729745}, {\"stock\": \"HSBC\", \"run\": 5, \"weight\": 0.10857514798943356}, {\"stock\": \"AAPL\", \"run\": 6, \"weight\": 0.1088218561479861}, {\"stock\": \"ABBV\", \"run\": 6, \"weight\": 0.05117678508540431}, {\"stock\": \"AMZN\", \"run\": 6, \"weight\": 0.14721660742258907}, {\"stock\": \"DB\", \"run\": 6, \"weight\": 0.012331146505154576}, {\"stock\": \"DIS\", \"run\": 6, \"weight\": 0.17008481461549516}, {\"stock\": \"FB\", \"run\": 6, \"weight\": 0.15135361224730154}, {\"stock\": \"GOOG\", \"run\": 6, \"weight\": 0.07420990364448697}, {\"stock\": \"HAL\", \"run\": 6, \"weight\": 0.06257763421805783}, {\"stock\": \"HSBC\", \"run\": 6, \"weight\": 0.22222764011352453}], \"data-4c5c02d889f38a62c43900a85502444b\": [{\"stock\": \"AAPL\", \"run\": 0, \"weight\": 0.02711865428766039}, {\"stock\": \"ABBV\", \"run\": 0, \"weight\": 7.137814294595775e-09}, {\"stock\": \"AMZN\", \"run\": 0, \"weight\": 0.3589687060122077}, {\"stock\": \"DB\", \"run\": 0, \"weight\": 1.8775047023189806e-09}, {\"stock\": \"DIS\", \"run\": 0, \"weight\": 0.07071675784613347}, {\"stock\": \"FB\", \"run\": 0, \"weight\": 0.23602369013006447}, {\"stock\": \"GOOG\", \"run\": 0, \"weight\": 0.19143963378403608}, {\"stock\": \"HAL\", \"run\": 0, \"weight\": 0.11573253941940828}, {\"stock\": \"HSBC\", \"run\": 0, \"weight\": 9.505170395121708e-09}, {\"stock\": \"AAPL\", \"run\": 1, \"weight\": 4.301253277374643e-08}, {\"stock\": \"ABBV\", \"run\": 1, \"weight\": 0.22174816239201728}, {\"stock\": \"AMZN\", \"run\": 1, \"weight\": 0.1362414814639433}, {\"stock\": \"DB\", \"run\": 1, \"weight\": 1.808195143316764e-08}, {\"stock\": \"DIS\", \"run\": 1, \"weight\": 1.5743579392803947e-07}, {\"stock\": \"FB\", \"run\": 1, \"weight\": 0.26810957844942623}, {\"stock\": \"GOOG\", \"run\": 1, \"weight\": 0.30573278079201377}, {\"stock\": \"HAL\", \"run\": 1, \"weight\": 4.960424494388657e-08}, {\"stock\": \"HSBC\", \"run\": 1, \"weight\": 0.0681677287680755}, {\"stock\": \"AAPL\", \"run\": 2, \"weight\": 0.037466917571216785}, {\"stock\": \"ABBV\", \"run\": 2, \"weight\": 0.01487543896583101}, {\"stock\": \"AMZN\", \"run\": 2, \"weight\": 0.31339777786713463}, {\"stock\": \"DB\", \"run\": 2, \"weight\": 3.7911080271893584e-10}, {\"stock\": \"DIS\", \"run\": 2, \"weight\": 0.010012781921682678}, {\"stock\": \"FB\", \"run\": 2, \"weight\": 0.15433228196409837}, {\"stock\": \"GOOG\", \"run\": 2, \"weight\": 0.3958403575581088}, {\"stock\": \"HAL\", \"run\": 2, \"weight\": 0.07407444143696738}, {\"stock\": \"HSBC\", \"run\": 2, \"weight\": 2.3358495773407683e-09}, {\"stock\": \"AAPL\", \"run\": 3, \"weight\": 9.815637955131261e-10}, {\"stock\": \"ABBV\", \"run\": 3, \"weight\": 6.6299382670273e-10}, {\"stock\": \"AMZN\", \"run\": 3, \"weight\": 0.6002447521726485}, {\"stock\": \"DB\", \"run\": 3, \"weight\": 2.725855158692952e-10}, {\"stock\": \"DIS\", \"run\": 3, \"weight\": 2.6397123116473475e-09}, {\"stock\": \"FB\", \"run\": 3, \"weight\": 8.818062514271843e-10}, {\"stock\": \"GOOG\", \"run\": 3, \"weight\": 0.39975524155746084}, {\"stock\": \"HAL\", \"run\": 3, \"weight\": 3.8281887084511255e-10}, {\"stock\": \"HSBC\", \"run\": 3, \"weight\": 4.4840983396995447e-10}, {\"stock\": \"AAPL\", \"run\": 4, \"weight\": 6.627550794729185e-10}, {\"stock\": \"ABBV\", \"run\": 4, \"weight\": 8.731282030002065e-10}, {\"stock\": \"AMZN\", \"run\": 4, \"weight\": 0.8423975991047531}, {\"stock\": \"DB\", \"run\": 4, \"weight\": 3.257326867646792e-10}, {\"stock\": \"DIS\", \"run\": 4, \"weight\": 0.09278563636063318}, {\"stock\": \"FB\", \"run\": 4, \"weight\": 0.0648167546351643}, {\"stock\": \"GOOG\", \"run\": 4, \"weight\": 2.9777366863787175e-09}, {\"stock\": \"HAL\", \"run\": 4, \"weight\": 3.324089396168413e-09}, {\"stock\": \"HSBC\", \"run\": 4, \"weight\": 1.736007452595734e-09}, {\"stock\": \"AAPL\", \"run\": 5, \"weight\": 5.8514901085080055e-09}, {\"stock\": \"ABBV\", \"run\": 5, \"weight\": 6.7208191870088536e-09}, {\"stock\": \"AMZN\", \"run\": 5, \"weight\": 0.999999897107006}, {\"stock\": \"DB\", \"run\": 5, \"weight\": 1.1296312000391047e-08}, {\"stock\": \"DIS\", \"run\": 5, \"weight\": 1.564429573276559e-09}, {\"stock\": \"FB\", \"run\": 5, \"weight\": 5.233381811247474e-08}, {\"stock\": \"GOOG\", \"run\": 5, \"weight\": 1.0530990686762426e-08}, {\"stock\": \"HAL\", \"run\": 5, \"weight\": 1.332908070957578e-08}, {\"stock\": \"HSBC\", \"run\": 5, \"weight\": 1.2660537654918266e-09}, {\"stock\": \"AAPL\", \"run\": 6, \"weight\": 6.166862740997502e-08}, {\"stock\": \"ABBV\", \"run\": 6, \"weight\": 1.8382837842766443e-08}, {\"stock\": \"AMZN\", \"run\": 6, \"weight\": 0.8693220178374972}, {\"stock\": \"DB\", \"run\": 6, \"weight\": 5.171793454820252e-09}, {\"stock\": \"DIS\", \"run\": 6, \"weight\": 1.2802342587344768e-07}, {\"stock\": \"FB\", \"run\": 6, \"weight\": 7.263262218149496e-08}, {\"stock\": \"GOOG\", \"run\": 6, \"weight\": 1.6032016558522914e-08}, {\"stock\": \"HAL\", \"run\": 6, \"weight\": 1.714033494231144e-08}, {\"stock\": \"HSBC\", \"run\": 6, \"weight\": 0.1306776631108446}]}}, {\"mode\": \"vega-lite\"});\n",
       "</script>"
      ],
      "text/plain": [
       "alt.VConcatChart(...)"
      ]
     },
     "execution_count": 1731,
     "metadata": {},
     "output_type": "execute_result"
    }
   ],
   "source": [
    "# Horizontal combination of the first two charts\n",
    "top_row_2 = alt.hconcat(chart_095_2, chart_07_2)\n",
    "\n",
    "# Horizontal combination of the second two charts\n",
    "bottom_row_2 = alt.hconcat(chart_035_2, chart_01_2)\n",
    "\n",
    "# Vertical combination of the two rows\n",
    "combined_chart_2 = alt.vconcat(top_row_2, bottom_row_2)\n",
    "\n",
    "# Display the combined chart\n",
    "combined_chart_2"
   ]
  },
  {
   "cell_type": "code",
   "execution_count": 1732,
   "metadata": {},
   "outputs": [
    {
     "name": "stderr",
     "output_type": "stream",
     "text": [
      "/opt/anaconda3/lib/python3.11/site-packages/altair/utils/core.py:395: FutureWarning: the convert_dtype parameter is deprecated and will be removed in a future version.  Do ``ser.astype(object).apply()`` instead if you want ``convert_dtype=False``.\n",
      "  col = df[col_name].apply(to_list_if_array, convert_dtype=False)\n",
      "/opt/anaconda3/lib/python3.11/site-packages/altair/utils/core.py:395: FutureWarning: the convert_dtype parameter is deprecated and will be removed in a future version.  Do ``ser.astype(object).apply()`` instead if you want ``convert_dtype=False``.\n",
      "  col = df[col_name].apply(to_list_if_array, convert_dtype=False)\n",
      "/opt/anaconda3/lib/python3.11/site-packages/altair/utils/core.py:395: FutureWarning: the convert_dtype parameter is deprecated and will be removed in a future version.  Do ``ser.astype(object).apply()`` instead if you want ``convert_dtype=False``.\n",
      "  col = df[col_name].apply(to_list_if_array, convert_dtype=False)\n",
      "/opt/anaconda3/lib/python3.11/site-packages/altair/utils/core.py:395: FutureWarning: the convert_dtype parameter is deprecated and will be removed in a future version.  Do ``ser.astype(object).apply()`` instead if you want ``convert_dtype=False``.\n",
      "  col = df[col_name].apply(to_list_if_array, convert_dtype=False)\n",
      "/opt/anaconda3/lib/python3.11/site-packages/altair/utils/core.py:395: FutureWarning: the convert_dtype parameter is deprecated and will be removed in a future version.  Do ``ser.astype(object).apply()`` instead if you want ``convert_dtype=False``.\n",
      "  col = df[col_name].apply(to_list_if_array, convert_dtype=False)\n",
      "/opt/anaconda3/lib/python3.11/site-packages/altair/utils/core.py:395: FutureWarning: the convert_dtype parameter is deprecated and will be removed in a future version.  Do ``ser.astype(object).apply()`` instead if you want ``convert_dtype=False``.\n",
      "  col = df[col_name].apply(to_list_if_array, convert_dtype=False)\n",
      "/opt/anaconda3/lib/python3.11/site-packages/altair/utils/core.py:395: FutureWarning: the convert_dtype parameter is deprecated and will be removed in a future version.  Do ``ser.astype(object).apply()`` instead if you want ``convert_dtype=False``.\n",
      "  col = df[col_name].apply(to_list_if_array, convert_dtype=False)\n",
      "/opt/anaconda3/lib/python3.11/site-packages/altair/utils/core.py:395: FutureWarning: the convert_dtype parameter is deprecated and will be removed in a future version.  Do ``ser.astype(object).apply()`` instead if you want ``convert_dtype=False``.\n",
      "  col = df[col_name].apply(to_list_if_array, convert_dtype=False)\n"
     ]
    },
    {
     "data": {
      "text/html": [
       "\n",
       "<style>\n",
       "  #altair-viz-e952c83ccaf842b0be8575ac5ddea2f3.vega-embed {\n",
       "    width: 100%;\n",
       "    display: flex;\n",
       "  }\n",
       "\n",
       "  #altair-viz-e952c83ccaf842b0be8575ac5ddea2f3.vega-embed details,\n",
       "  #altair-viz-e952c83ccaf842b0be8575ac5ddea2f3.vega-embed details summary {\n",
       "    position: relative;\n",
       "  }\n",
       "</style>\n",
       "<div id=\"altair-viz-e952c83ccaf842b0be8575ac5ddea2f3\"></div>\n",
       "<script type=\"text/javascript\">\n",
       "  var VEGA_DEBUG = (typeof VEGA_DEBUG == \"undefined\") ? {} : VEGA_DEBUG;\n",
       "  (function(spec, embedOpt){\n",
       "    let outputDiv = document.currentScript.previousElementSibling;\n",
       "    if (outputDiv.id !== \"altair-viz-e952c83ccaf842b0be8575ac5ddea2f3\") {\n",
       "      outputDiv = document.getElementById(\"altair-viz-e952c83ccaf842b0be8575ac5ddea2f3\");\n",
       "    }\n",
       "    const paths = {\n",
       "      \"vega\": \"https://cdn.jsdelivr.net/npm/vega@5?noext\",\n",
       "      \"vega-lib\": \"https://cdn.jsdelivr.net/npm/vega-lib?noext\",\n",
       "      \"vega-lite\": \"https://cdn.jsdelivr.net/npm/vega-lite@5.8.0?noext\",\n",
       "      \"vega-embed\": \"https://cdn.jsdelivr.net/npm/vega-embed@6?noext\",\n",
       "    };\n",
       "\n",
       "    function maybeLoadScript(lib, version) {\n",
       "      var key = `${lib.replace(\"-\", \"\")}_version`;\n",
       "      return (VEGA_DEBUG[key] == version) ?\n",
       "        Promise.resolve(paths[lib]) :\n",
       "        new Promise(function(resolve, reject) {\n",
       "          var s = document.createElement('script');\n",
       "          document.getElementsByTagName(\"head\")[0].appendChild(s);\n",
       "          s.async = true;\n",
       "          s.onload = () => {\n",
       "            VEGA_DEBUG[key] = version;\n",
       "            return resolve(paths[lib]);\n",
       "          };\n",
       "          s.onerror = () => reject(`Error loading script: ${paths[lib]}`);\n",
       "          s.src = paths[lib];\n",
       "        });\n",
       "    }\n",
       "\n",
       "    function showError(err) {\n",
       "      outputDiv.innerHTML = `<div class=\"error\" style=\"color:red;\">${err}</div>`;\n",
       "      throw err;\n",
       "    }\n",
       "\n",
       "    function displayChart(vegaEmbed) {\n",
       "      vegaEmbed(outputDiv, spec, embedOpt)\n",
       "        .catch(err => showError(`Javascript Error: ${err.message}<br>This usually means there's a typo in your chart specification. See the javascript console for the full traceback.`));\n",
       "    }\n",
       "\n",
       "    if(typeof define === \"function\" && define.amd) {\n",
       "      requirejs.config({paths});\n",
       "      require([\"vega-embed\"], displayChart, err => showError(`Error loading script: ${err.message}`));\n",
       "    } else {\n",
       "      maybeLoadScript(\"vega\", \"5\")\n",
       "        .then(() => maybeLoadScript(\"vega-lite\", \"5.8.0\"))\n",
       "        .then(() => maybeLoadScript(\"vega-embed\", \"6\"))\n",
       "        .catch(showError)\n",
       "        .then(() => displayChart(vegaEmbed));\n",
       "    }\n",
       "  })({\"config\": {\"view\": {\"continuousWidth\": 300, \"continuousHeight\": 300}}, \"vconcat\": [{\"hconcat\": [{\"data\": {\"name\": \"data-5263d75154684bfa2baccb5a6f738967\"}, \"mark\": {\"type\": \"bar\"}, \"encoding\": {\"color\": {\"field\": \"stock\", \"legend\": {\"title\": \"Stock\"}, \"scale\": {\"scheme\": \"tableau20\"}, \"type\": \"nominal\"}, \"tooltip\": [{\"field\": \"run\", \"type\": \"nominal\"}, {\"field\": \"stock\", \"type\": \"nominal\"}, {\"field\": \"weight\", \"type\": \"quantitative\"}], \"x\": {\"axis\": {\"labels\": true, \"title\": \"Run Index\"}, \"field\": \"run\", \"type\": \"ordinal\"}, \"y\": {\"field\": \"weight\", \"sort\": \"ascending\", \"title\": \"% Weight\", \"type\": \"quantitative\"}}, \"title\": \"Proportion of Portfolio Weight by Stock and Noisy Run for kappa=0.95\", \"width\": 500}, {\"data\": {\"name\": \"data-7e2ad33eb8f6450b29d2049773d0893b\"}, \"mark\": {\"type\": \"bar\"}, \"encoding\": {\"color\": {\"field\": \"stock\", \"legend\": {\"title\": \"Stock\"}, \"scale\": {\"scheme\": \"tableau20\"}, \"type\": \"nominal\"}, \"tooltip\": [{\"field\": \"run\", \"type\": \"nominal\"}, {\"field\": \"stock\", \"type\": \"nominal\"}, {\"field\": \"weight\", \"type\": \"quantitative\"}], \"x\": {\"axis\": {\"labels\": true, \"title\": \"Run Index\"}, \"field\": \"run\", \"type\": \"ordinal\"}, \"y\": {\"field\": \"weight\", \"sort\": \"ascending\", \"title\": \"% Weight\", \"type\": \"quantitative\"}}, \"title\": \"Proportion of Portfolio Weight by Stock and Noisy Run for kappa=0.7\", \"width\": 500}]}, {\"hconcat\": [{\"data\": {\"name\": \"data-ea657254087fee6d0e7c40bcbf771a86\"}, \"mark\": {\"type\": \"bar\"}, \"encoding\": {\"color\": {\"field\": \"stock\", \"legend\": {\"title\": \"Stock\"}, \"scale\": {\"scheme\": \"tableau20\"}, \"type\": \"nominal\"}, \"tooltip\": [{\"field\": \"run\", \"type\": \"nominal\"}, {\"field\": \"stock\", \"type\": \"nominal\"}, {\"field\": \"weight\", \"type\": \"quantitative\"}], \"x\": {\"axis\": {\"labels\": true, \"title\": \"Run Index\"}, \"field\": \"run\", \"type\": \"ordinal\"}, \"y\": {\"field\": \"weight\", \"sort\": \"ascending\", \"title\": \"% Weight\", \"type\": \"quantitative\"}}, \"title\": \"Proportion of Portfolio Weight by Stock and Noisy Run for kappa=0.35\", \"width\": 500}, {\"data\": {\"name\": \"data-4c5c02d889f38a62c43900a85502444b\"}, \"mark\": {\"type\": \"bar\"}, \"encoding\": {\"color\": {\"field\": \"stock\", \"legend\": {\"title\": \"Stock\"}, \"scale\": {\"scheme\": \"tableau20\"}, \"type\": \"nominal\"}, \"tooltip\": [{\"field\": \"run\", \"type\": \"nominal\"}, {\"field\": \"stock\", \"type\": \"nominal\"}, {\"field\": \"weight\", \"type\": \"quantitative\"}], \"x\": {\"axis\": {\"labels\": true, \"title\": \"Run Index\"}, \"field\": \"run\", \"type\": \"ordinal\"}, \"y\": {\"field\": \"weight\", \"sort\": \"ascending\", \"title\": \"% Weight\", \"type\": \"quantitative\"}}, \"title\": \"Proportion of Portfolio Weight by Stock and Noisy Run for kappa=0.1\", \"width\": 500}]}], \"$schema\": \"https://vega.github.io/schema/vega-lite/v5.8.0.json\", \"datasets\": {\"data-5263d75154684bfa2baccb5a6f738967\": [{\"stock\": \"AAPL\", \"run\": 0, \"weight\": 0.11302205011338093}, {\"stock\": \"ABBV\", \"run\": 0, \"weight\": 0.07693110161646347}, {\"stock\": \"AMZN\", \"run\": 0, \"weight\": 0.09521639774955384}, {\"stock\": \"DB\", \"run\": 0, \"weight\": 0.061880053723269116}, {\"stock\": \"DIS\", \"run\": 0, \"weight\": 0.15750064934729158}, {\"stock\": \"FB\", \"run\": 0, \"weight\": 0.13486637742644225}, {\"stock\": \"GOOG\", \"run\": 0, \"weight\": 0.10888657339831377}, {\"stock\": \"HAL\", \"run\": 0, \"weight\": 0.07342473492885797}, {\"stock\": \"HSBC\", \"run\": 0, \"weight\": 0.17827206169642715}, {\"stock\": \"AAPL\", \"run\": 1, \"weight\": 0.09139974979493033}, {\"stock\": \"ABBV\", \"run\": 1, \"weight\": 0.0877581936635663}, {\"stock\": \"AMZN\", \"run\": 1, \"weight\": 0.10893572290972516}, {\"stock\": \"DB\", \"run\": 1, \"weight\": 0.04507904502263883}, {\"stock\": \"DIS\", \"run\": 1, \"weight\": 0.15590322996196776}, {\"stock\": \"FB\", \"run\": 1, \"weight\": 0.1321407813302613}, {\"stock\": \"GOOG\", \"run\": 1, \"weight\": 0.10584643423626114}, {\"stock\": \"HAL\", \"run\": 1, \"weight\": 0.055391891159641764}, {\"stock\": \"HSBC\", \"run\": 1, \"weight\": 0.21754495192100742}, {\"stock\": \"AAPL\", \"run\": 2, \"weight\": 0.11146181497308129}, {\"stock\": \"ABBV\", \"run\": 2, \"weight\": 0.07700274084588457}, {\"stock\": \"AMZN\", \"run\": 2, \"weight\": 0.08635155952147018}, {\"stock\": \"DB\", \"run\": 2, \"weight\": 0.013567125773773064}, {\"stock\": \"DIS\", \"run\": 2, \"weight\": 0.18582794540816278}, {\"stock\": \"FB\", \"run\": 2, \"weight\": 0.13565290229466587}, {\"stock\": \"GOOG\", \"run\": 2, \"weight\": 0.1508364155343061}, {\"stock\": \"HAL\", \"run\": 2, \"weight\": 0.06500754581096745}, {\"stock\": \"HSBC\", \"run\": 2, \"weight\": 0.17429194983768861}, {\"stock\": \"AAPL\", \"run\": 3, \"weight\": 0.09600517446733528}, {\"stock\": \"ABBV\", \"run\": 3, \"weight\": 0.051145386287213844}, {\"stock\": \"AMZN\", \"run\": 3, \"weight\": 0.11462412015362898}, {\"stock\": \"DB\", \"run\": 3, \"weight\": 0.04243750074886867}, {\"stock\": \"DIS\", \"run\": 3, \"weight\": 0.2102981500420729}, {\"stock\": \"FB\", \"run\": 3, \"weight\": 0.1348648679721446}, {\"stock\": \"GOOG\", \"run\": 3, \"weight\": 0.13536875096051412}, {\"stock\": \"HAL\", \"run\": 3, \"weight\": 0.05273420430325408}, {\"stock\": \"HSBC\", \"run\": 3, \"weight\": 0.1625218450649675}, {\"stock\": \"AAPL\", \"run\": 4, \"weight\": 0.10752529256606778}, {\"stock\": \"ABBV\", \"run\": 4, \"weight\": 0.0835443982248271}, {\"stock\": \"AMZN\", \"run\": 4, \"weight\": 0.11426017436352878}, {\"stock\": \"DB\", \"run\": 4, \"weight\": 0.025258219532501933}, {\"stock\": \"DIS\", \"run\": 4, \"weight\": 0.14209973190929878}, {\"stock\": \"FB\", \"run\": 4, \"weight\": 0.15606354288898125}, {\"stock\": \"GOOG\", \"run\": 4, \"weight\": 0.11941166744900576}, {\"stock\": \"HAL\", \"run\": 4, \"weight\": 0.0673222740292287}, {\"stock\": \"HSBC\", \"run\": 4, \"weight\": 0.18451469903655993}, {\"stock\": \"AAPL\", \"run\": 5, \"weight\": 0.09898137115886943}, {\"stock\": \"ABBV\", \"run\": 5, \"weight\": 0.07549664926710067}, {\"stock\": \"AMZN\", \"run\": 5, \"weight\": 0.12986060646196326}, {\"stock\": \"DB\", \"run\": 5, \"weight\": 0.05814887566694756}, {\"stock\": \"DIS\", \"run\": 5, \"weight\": 0.17646392613515352}, {\"stock\": \"FB\", \"run\": 5, \"weight\": 0.1518093566924418}, {\"stock\": \"GOOG\", \"run\": 5, \"weight\": 0.07250316927842439}, {\"stock\": \"HAL\", \"run\": 5, \"weight\": 0.07136063824246824}, {\"stock\": \"HSBC\", \"run\": 5, \"weight\": 0.16537540709663126}, {\"stock\": \"AAPL\", \"run\": 6, \"weight\": 0.10817060656387566}, {\"stock\": \"ABBV\", \"run\": 6, \"weight\": 0.061345230067922106}, {\"stock\": \"AMZN\", \"run\": 6, \"weight\": 0.09488742093375314}, {\"stock\": \"DB\", \"run\": 6, \"weight\": 0.05256284788832293}, {\"stock\": \"DIS\", \"run\": 6, \"weight\": 0.16832815346409336}, {\"stock\": \"FB\", \"run\": 6, \"weight\": 0.1489237404140185}, {\"stock\": \"GOOG\", \"run\": 6, \"weight\": 0.08709001243661213}, {\"stock\": \"HAL\", \"run\": 6, \"weight\": 0.07304223824519328}, {\"stock\": \"HSBC\", \"run\": 6, \"weight\": 0.20564974998620889}], \"data-7e2ad33eb8f6450b29d2049773d0893b\": [{\"stock\": \"AAPL\", \"run\": 0, \"weight\": 0.11194879779449872}, {\"stock\": \"ABBV\", \"run\": 0, \"weight\": 0.07532552339811076}, {\"stock\": \"AMZN\", \"run\": 0, \"weight\": 0.10244511251867658}, {\"stock\": \"DB\", \"run\": 0, \"weight\": 0.05463070178698152}, {\"stock\": \"DIS\", \"run\": 0, \"weight\": 0.15680276961144798}, {\"stock\": \"FB\", \"run\": 0, \"weight\": 0.13854597447959785}, {\"stock\": \"GOOG\", \"run\": 0, \"weight\": 0.11183214672798795}, {\"stock\": \"HAL\", \"run\": 0, \"weight\": 0.07508907785616997}, {\"stock\": \"HSBC\", \"run\": 0, \"weight\": 0.17337989582652857}, {\"stock\": \"AAPL\", \"run\": 1, \"weight\": 0.08408475774704051}, {\"stock\": \"ABBV\", \"run\": 1, \"weight\": 0.09400529752506191}, {\"stock\": \"AMZN\", \"run\": 1, \"weight\": 0.11229496137291733}, {\"stock\": \"DB\", \"run\": 1, \"weight\": 0.03380846629053349}, {\"stock\": \"DIS\", \"run\": 1, \"weight\": 0.15385030661395185}, {\"stock\": \"FB\", \"run\": 1, \"weight\": 0.13915075277590103}, {\"stock\": \"GOOG\", \"run\": 1, \"weight\": 0.11363411303974225}, {\"stock\": \"HAL\", \"run\": 1, \"weight\": 0.05073729978111096}, {\"stock\": \"HSBC\", \"run\": 1, \"weight\": 0.21843404485374038}, {\"stock\": \"AAPL\", \"run\": 2, \"weight\": 0.11246101534340346}, {\"stock\": \"ABBV\", \"run\": 2, \"weight\": 0.07688000705946718}, {\"stock\": \"AMZN\", \"run\": 2, \"weight\": 0.09452371468583982}, {\"stock\": \"DB\", \"run\": 2, \"weight\": 8.847842170742157e-08}, {\"stock\": \"DIS\", \"run\": 2, \"weight\": 0.1848325949180852}, {\"stock\": \"FB\", \"run\": 2, \"weight\": 0.13841750618090964}, {\"stock\": \"GOOG\", \"run\": 2, \"weight\": 0.15865113959375673}, {\"stock\": \"HAL\", \"run\": 2, \"weight\": 0.06645081507218406}, {\"stock\": \"HSBC\", \"run\": 2, \"weight\": 0.16778311866793208}, {\"stock\": \"AAPL\", \"run\": 3, \"weight\": 0.09818218812600897}, {\"stock\": \"ABBV\", \"run\": 3, \"weight\": 0.04844492071151038}, {\"stock\": \"AMZN\", \"run\": 3, \"weight\": 0.12905152314246435}, {\"stock\": \"DB\", \"run\": 3, \"weight\": 0.029553624217813396}, {\"stock\": \"DIS\", \"run\": 3, \"weight\": 0.21783409213520508}, {\"stock\": \"FB\", \"run\": 3, \"weight\": 0.1350298119584298}, {\"stock\": \"GOOG\", \"run\": 3, \"weight\": 0.1463345975495664}, {\"stock\": \"HAL\", \"run\": 3, \"weight\": 0.045779317035805366}, {\"stock\": \"HSBC\", \"run\": 3, \"weight\": 0.1497899251231964}, {\"stock\": \"AAPL\", \"run\": 4, \"weight\": 0.10010175697711192}, {\"stock\": \"ABBV\", \"run\": 4, \"weight\": 0.07896416023191892}, {\"stock\": \"AMZN\", \"run\": 4, \"weight\": 0.12764423204644393}, {\"stock\": \"DB\", \"run\": 4, \"weight\": 0.009599064013582613}, {\"stock\": \"DIS\", \"run\": 4, \"weight\": 0.14988309911360306}, {\"stock\": \"FB\", \"run\": 4, \"weight\": 0.16180989260567008}, {\"stock\": \"GOOG\", \"run\": 4, \"weight\": 0.12186762702364252}, {\"stock\": \"HAL\", \"run\": 4, \"weight\": 0.07016805758690266}, {\"stock\": \"HSBC\", \"run\": 4, \"weight\": 0.1799621104011244}, {\"stock\": \"AAPL\", \"run\": 5, \"weight\": 0.09472813332340678}, {\"stock\": \"ABBV\", \"run\": 5, \"weight\": 0.07011772359694819}, {\"stock\": \"AMZN\", \"run\": 5, \"weight\": 0.14859313358640935}, {\"stock\": \"DB\", \"run\": 5, \"weight\": 0.05526153004237224}, {\"stock\": \"DIS\", \"run\": 5, \"weight\": 0.17750993353677594}, {\"stock\": \"FB\", \"run\": 5, \"weight\": 0.15848219923291754}, {\"stock\": \"GOOG\", \"run\": 5, \"weight\": 0.07084491227749112}, {\"stock\": \"HAL\", \"run\": 5, \"weight\": 0.06913635388653258}, {\"stock\": \"HSBC\", \"run\": 5, \"weight\": 0.1553260805171462}, {\"stock\": \"AAPL\", \"run\": 6, \"weight\": 0.10829557478104468}, {\"stock\": \"ABBV\", \"run\": 6, \"weight\": 0.059377127375740336}, {\"stock\": \"AMZN\", \"run\": 6, \"weight\": 0.10501391205590917}, {\"stock\": \"DB\", \"run\": 6, \"weight\": 0.044780770577495466}, {\"stock\": \"DIS\", \"run\": 6, \"weight\": 0.16866812571524287}, {\"stock\": \"FB\", \"run\": 6, \"weight\": 0.14939331010779397}, {\"stock\": \"GOOG\", \"run\": 6, \"weight\": 0.0845971053720502}, {\"stock\": \"HAL\", \"run\": 6, \"weight\": 0.07101638807834354}, {\"stock\": \"HSBC\", \"run\": 6, \"weight\": 0.20885768593637974}], \"data-ea657254087fee6d0e7c40bcbf771a86\": [{\"stock\": \"AAPL\", \"run\": 0, \"weight\": 0.10762442469535351}, {\"stock\": \"ABBV\", \"run\": 0, \"weight\": 0.06886678132895882}, {\"stock\": \"AMZN\", \"run\": 0, \"weight\": 0.13163262617029003}, {\"stock\": \"DB\", \"run\": 0, \"weight\": 0.025357883468168602}, {\"stock\": \"DIS\", \"run\": 0, \"weight\": 0.15396311202990542}, {\"stock\": \"FB\", \"run\": 0, \"weight\": 0.15338003954484297}, {\"stock\": \"GOOG\", \"run\": 0, \"weight\": 0.1237266916226421}, {\"stock\": \"HAL\", \"run\": 0, \"weight\": 0.08183809165767511}, {\"stock\": \"HSBC\", \"run\": 0, \"weight\": 0.15361034948216346}, {\"stock\": \"AAPL\", \"run\": 1, \"weight\": 0.053465787727593306}, {\"stock\": \"ABBV\", \"run\": 1, \"weight\": 0.1181798584258783}, {\"stock\": \"AMZN\", \"run\": 1, \"weight\": 0.12426977875921094}, {\"stock\": \"DB\", \"run\": 1, \"weight\": 3.8507577057288124e-08}, {\"stock\": \"DIS\", \"run\": 1, \"weight\": 0.14282004218583497}, {\"stock\": \"FB\", \"run\": 1, \"weight\": 0.16634105334283875}, {\"stock\": \"GOOG\", \"run\": 1, \"weight\": 0.14459029188387934}, {\"stock\": \"HAL\", \"run\": 1, \"weight\": 0.03132163688407891}, {\"stock\": \"HSBC\", \"run\": 1, \"weight\": 0.21901151228310853}, {\"stock\": \"AAPL\", \"run\": 2, \"weight\": 0.10796438687846954}, {\"stock\": \"ABBV\", \"run\": 2, \"weight\": 0.07325888572113998}, {\"stock\": \"AMZN\", \"run\": 2, \"weight\": 0.11874436965725074}, {\"stock\": \"DB\", \"run\": 2, \"weight\": 5.909236599772552e-09}, {\"stock\": \"DIS\", \"run\": 2, \"weight\": 0.1721737705561576}, {\"stock\": \"FB\", \"run\": 2, \"weight\": 0.14342612179103711}, {\"stock\": \"GOOG\", \"run\": 2, \"weight\": 0.18503619631788207}, {\"stock\": \"HAL\", \"run\": 2, \"weight\": 0.06843922924796357}, {\"stock\": \"HSBC\", \"run\": 2, \"weight\": 0.13095703392086291}, {\"stock\": \"AAPL\", \"run\": 3, \"weight\": 0.1046652721972329}, {\"stock\": \"ABBV\", \"run\": 3, \"weight\": 0.03279591419739795}, {\"stock\": \"AMZN\", \"run\": 3, \"weight\": 0.1952825275333806}, {\"stock\": \"DB\", \"run\": 3, \"weight\": 4.065607312123959e-09}, {\"stock\": \"DIS\", \"run\": 3, \"weight\": 0.24722697712353175}, {\"stock\": \"FB\", \"run\": 3, \"weight\": 0.12829470686965944}, {\"stock\": \"GOOG\", \"run\": 3, \"weight\": 0.19633844282745994}, {\"stock\": \"HAL\", \"run\": 3, \"weight\": 0.012429892279944154}, {\"stock\": \"HSBC\", \"run\": 3, \"weight\": 0.08296626290578596}, {\"stock\": \"AAPL\", \"run\": 4, \"weight\": 0.0599601819435658}, {\"stock\": \"ABBV\", \"run\": 4, \"weight\": 0.054441720662583556}, {\"stock\": \"AMZN\", \"run\": 4, \"weight\": 0.1779406932214468}, {\"stock\": \"DB\", \"run\": 4, \"weight\": 3.5046765407859393e-09}, {\"stock\": \"DIS\", \"run\": 4, \"weight\": 0.1738969202185848}, {\"stock\": \"FB\", \"run\": 4, \"weight\": 0.1755744421751749}, {\"stock\": \"GOOG\", \"run\": 4, \"weight\": 0.12433574882316008}, {\"stock\": \"HAL\", \"run\": 4, \"weight\": 0.0752424624010017}, {\"stock\": \"HSBC\", \"run\": 4, \"weight\": 0.15860782704980592}, {\"stock\": \"AAPL\", \"run\": 5, \"weight\": 0.07493943258619942}, {\"stock\": \"ABBV\", \"run\": 5, \"weight\": 0.04509100159854591}, {\"stock\": \"AMZN\", \"run\": 5, \"weight\": 0.23575327454510306}, {\"stock\": \"DB\", \"run\": 5, \"weight\": 0.04182439029086822}, {\"stock\": \"DIS\", \"run\": 5, \"weight\": 0.18238063033801163}, {\"stock\": \"FB\", \"run\": 5, \"weight\": 0.1895299300846676}, {\"stock\": \"GOOG\", \"run\": 5, \"weight\": 0.06312581762987325}, {\"stock\": \"HAL\", \"run\": 5, \"weight\": 0.05878037493729745}, {\"stock\": \"HSBC\", \"run\": 5, \"weight\": 0.10857514798943356}, {\"stock\": \"AAPL\", \"run\": 6, \"weight\": 0.1088218561479861}, {\"stock\": \"ABBV\", \"run\": 6, \"weight\": 0.05117678508540431}, {\"stock\": \"AMZN\", \"run\": 6, \"weight\": 0.14721660742258907}, {\"stock\": \"DB\", \"run\": 6, \"weight\": 0.012331146505154576}, {\"stock\": \"DIS\", \"run\": 6, \"weight\": 0.17008481461549516}, {\"stock\": \"FB\", \"run\": 6, \"weight\": 0.15135361224730154}, {\"stock\": \"GOOG\", \"run\": 6, \"weight\": 0.07420990364448697}, {\"stock\": \"HAL\", \"run\": 6, \"weight\": 0.06257763421805783}, {\"stock\": \"HSBC\", \"run\": 6, \"weight\": 0.22222764011352453}], \"data-4c5c02d889f38a62c43900a85502444b\": [{\"stock\": \"AAPL\", \"run\": 0, \"weight\": 0.02711865428766039}, {\"stock\": \"ABBV\", \"run\": 0, \"weight\": 7.137814294595775e-09}, {\"stock\": \"AMZN\", \"run\": 0, \"weight\": 0.3589687060122077}, {\"stock\": \"DB\", \"run\": 0, \"weight\": 1.8775047023189806e-09}, {\"stock\": \"DIS\", \"run\": 0, \"weight\": 0.07071675784613347}, {\"stock\": \"FB\", \"run\": 0, \"weight\": 0.23602369013006447}, {\"stock\": \"GOOG\", \"run\": 0, \"weight\": 0.19143963378403608}, {\"stock\": \"HAL\", \"run\": 0, \"weight\": 0.11573253941940828}, {\"stock\": \"HSBC\", \"run\": 0, \"weight\": 9.505170395121708e-09}, {\"stock\": \"AAPL\", \"run\": 1, \"weight\": 4.301253277374643e-08}, {\"stock\": \"ABBV\", \"run\": 1, \"weight\": 0.22174816239201728}, {\"stock\": \"AMZN\", \"run\": 1, \"weight\": 0.1362414814639433}, {\"stock\": \"DB\", \"run\": 1, \"weight\": 1.808195143316764e-08}, {\"stock\": \"DIS\", \"run\": 1, \"weight\": 1.5743579392803947e-07}, {\"stock\": \"FB\", \"run\": 1, \"weight\": 0.26810957844942623}, {\"stock\": \"GOOG\", \"run\": 1, \"weight\": 0.30573278079201377}, {\"stock\": \"HAL\", \"run\": 1, \"weight\": 4.960424494388657e-08}, {\"stock\": \"HSBC\", \"run\": 1, \"weight\": 0.0681677287680755}, {\"stock\": \"AAPL\", \"run\": 2, \"weight\": 0.037466917571216785}, {\"stock\": \"ABBV\", \"run\": 2, \"weight\": 0.01487543896583101}, {\"stock\": \"AMZN\", \"run\": 2, \"weight\": 0.31339777786713463}, {\"stock\": \"DB\", \"run\": 2, \"weight\": 3.7911080271893584e-10}, {\"stock\": \"DIS\", \"run\": 2, \"weight\": 0.010012781921682678}, {\"stock\": \"FB\", \"run\": 2, \"weight\": 0.15433228196409837}, {\"stock\": \"GOOG\", \"run\": 2, \"weight\": 0.3958403575581088}, {\"stock\": \"HAL\", \"run\": 2, \"weight\": 0.07407444143696738}, {\"stock\": \"HSBC\", \"run\": 2, \"weight\": 2.3358495773407683e-09}, {\"stock\": \"AAPL\", \"run\": 3, \"weight\": 9.815637955131261e-10}, {\"stock\": \"ABBV\", \"run\": 3, \"weight\": 6.6299382670273e-10}, {\"stock\": \"AMZN\", \"run\": 3, \"weight\": 0.6002447521726485}, {\"stock\": \"DB\", \"run\": 3, \"weight\": 2.725855158692952e-10}, {\"stock\": \"DIS\", \"run\": 3, \"weight\": 2.6397123116473475e-09}, {\"stock\": \"FB\", \"run\": 3, \"weight\": 8.818062514271843e-10}, {\"stock\": \"GOOG\", \"run\": 3, \"weight\": 0.39975524155746084}, {\"stock\": \"HAL\", \"run\": 3, \"weight\": 3.8281887084511255e-10}, {\"stock\": \"HSBC\", \"run\": 3, \"weight\": 4.4840983396995447e-10}, {\"stock\": \"AAPL\", \"run\": 4, \"weight\": 6.627550794729185e-10}, {\"stock\": \"ABBV\", \"run\": 4, \"weight\": 8.731282030002065e-10}, {\"stock\": \"AMZN\", \"run\": 4, \"weight\": 0.8423975991047531}, {\"stock\": \"DB\", \"run\": 4, \"weight\": 3.257326867646792e-10}, {\"stock\": \"DIS\", \"run\": 4, \"weight\": 0.09278563636063318}, {\"stock\": \"FB\", \"run\": 4, \"weight\": 0.0648167546351643}, {\"stock\": \"GOOG\", \"run\": 4, \"weight\": 2.9777366863787175e-09}, {\"stock\": \"HAL\", \"run\": 4, \"weight\": 3.324089396168413e-09}, {\"stock\": \"HSBC\", \"run\": 4, \"weight\": 1.736007452595734e-09}, {\"stock\": \"AAPL\", \"run\": 5, \"weight\": 5.8514901085080055e-09}, {\"stock\": \"ABBV\", \"run\": 5, \"weight\": 6.7208191870088536e-09}, {\"stock\": \"AMZN\", \"run\": 5, \"weight\": 0.999999897107006}, {\"stock\": \"DB\", \"run\": 5, \"weight\": 1.1296312000391047e-08}, {\"stock\": \"DIS\", \"run\": 5, \"weight\": 1.564429573276559e-09}, {\"stock\": \"FB\", \"run\": 5, \"weight\": 5.233381811247474e-08}, {\"stock\": \"GOOG\", \"run\": 5, \"weight\": 1.0530990686762426e-08}, {\"stock\": \"HAL\", \"run\": 5, \"weight\": 1.332908070957578e-08}, {\"stock\": \"HSBC\", \"run\": 5, \"weight\": 1.2660537654918266e-09}, {\"stock\": \"AAPL\", \"run\": 6, \"weight\": 6.166862740997502e-08}, {\"stock\": \"ABBV\", \"run\": 6, \"weight\": 1.8382837842766443e-08}, {\"stock\": \"AMZN\", \"run\": 6, \"weight\": 0.8693220178374972}, {\"stock\": \"DB\", \"run\": 6, \"weight\": 5.171793454820252e-09}, {\"stock\": \"DIS\", \"run\": 6, \"weight\": 1.2802342587344768e-07}, {\"stock\": \"FB\", \"run\": 6, \"weight\": 7.263262218149496e-08}, {\"stock\": \"GOOG\", \"run\": 6, \"weight\": 1.6032016558522914e-08}, {\"stock\": \"HAL\", \"run\": 6, \"weight\": 1.714033494231144e-08}, {\"stock\": \"HSBC\", \"run\": 6, \"weight\": 0.1306776631108446}]}}, {\"mode\": \"vega-lite\"});\n",
       "</script>"
      ],
      "text/plain": [
       "alt.VConcatChart(...)"
      ]
     },
     "execution_count": 1732,
     "metadata": {},
     "output_type": "execute_result"
    }
   ],
   "source": [
    "# Horizontal combination of the first two charts for the top row\n",
    "top_row_3 = alt.hconcat(chart_095_3, chart_07_3)\n",
    "\n",
    "# Horizontal combination of the second two charts for the bottom row\n",
    "bottom_row_3 = alt.hconcat(chart_035_3, chart_01_3)\n",
    "\n",
    "# Vertical combination of the two rows\n",
    "combined_chart_3 = alt.vconcat(top_row_3, bottom_row_3)\n",
    "\n",
    "# Display the combined chart\n",
    "combined_chart_3\n"
   ]
  }
 ],
 "metadata": {
  "kernelspec": {
   "display_name": "Python 3",
   "language": "python",
   "name": "python3"
  },
  "language_info": {
   "codemirror_mode": {
    "name": "ipython",
    "version": 3
   },
   "file_extension": ".py",
   "mimetype": "text/x-python",
   "name": "python",
   "nbconvert_exporter": "python",
   "pygments_lexer": "ipython3",
   "version": "3.11.7"
  }
 },
 "nbformat": 4,
 "nbformat_minor": 2
}
